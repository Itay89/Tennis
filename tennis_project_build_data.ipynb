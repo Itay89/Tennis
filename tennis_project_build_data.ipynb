{
  "nbformat": 4,
  "nbformat_minor": 0,
  "metadata": {
    "kernelspec": {
      "display_name": "Python 3",
      "language": "python",
      "name": "python3"
    },
    "language_info": {
      "codemirror_mode": {
        "name": "ipython",
        "version": 3
      },
      "file_extension": ".py",
      "mimetype": "text/x-python",
      "name": "python",
      "nbconvert_exporter": "python",
      "pygments_lexer": "ipython3",
      "version": "3.7.7"
    },
    "colab": {
      "name": "tennis_project_build_data_show.ipynb",
      "provenance": []
    }
  },
  "cells": [
    {
      "cell_type": "code",
      "metadata": {
        "collapsed": true,
        "id": "QHdvLHrE8xQx"
      },
      "source": [
        "DEBUG = False"
      ],
      "execution_count": null,
      "outputs": []
    },
    {
      "cell_type": "markdown",
      "metadata": {
        "id": "NYIgXf0b8xQy"
      },
      "source": [
        "# Packages imports"
      ]
    },
    {
      "cell_type": "code",
      "metadata": {
        "collapsed": true,
        "id": "KMzf0bvd8xQy"
      },
      "source": [
        "import csv\n",
        "import re\n",
        "import pandas as pd\n",
        "import glob\n",
        "import os\n",
        "import numpy as np\n",
        "import matplotlib.pyplot as plt\n",
        "from matplotlib import interactive\n",
        "import matplotlib as mpl\n",
        "%matplotlib inline\n",
        "import random\n",
        "import time"
      ],
      "execution_count": null,
      "outputs": []
    },
    {
      "cell_type": "markdown",
      "metadata": {
        "id": "SWl4QibP8xQz"
      },
      "source": [
        "# Raw data import and manipulation"
      ]
    },
    {
      "cell_type": "markdown",
      "metadata": {
        "id": "Oh353goP8xQz"
      },
      "source": [
        "We have 3 data sources from which we want to create our data:\n",
        "1. atp matches (1991-2018).csv which is the atp matches data from each year from 1991 to 2018\n",
        "2. player overviews unindexed csv.csv which holds data of atp players, including birth date, height, weight, name and nationality\n",
        "3. ranking data from the 90's- from which we will fill the rankings missing from the other files"
      ]
    },
    {
      "cell_type": "code",
      "metadata": {
        "collapsed": true,
        "id": "oAkm_B_S8xQ0"
      },
      "source": [
        "# Import the basic sataset\n",
        "DataSets_path =r'C:\\\\tennis\\\\\\datasets\\\\raw_datasets\\\\1991_2018' # use your path\n",
        "\n",
        "os.chdir(DataSets_path)\n",
        "dfs = [pd.read_csv(f)\n",
        "        for f in os.listdir(os.getcwd()) if f.endswith('.csv')]\n",
        "os.chdir('C:\\\\tennis')\n",
        "\n",
        "matches_data = pd.concat(dfs)#, axis=0, join='inner').sort_index()\n",
        "matches_data.sort_values(by=['tourney_date'])\n",
        "matches_data = matches_data.rename(index=str, columns={'winner_ht': 'winner_height', 'loser_ht': 'loser_height'})\n",
        "matches_data['tourney_name'].replace('Us Open', 'US Open', inplace=True)\n",
        "matches_data.to_csv('C:\\\\tennis\\\\\\datasets\\\\manipulated_datasets\\\\atp_matches_combined_1991-2018.csv')\n"
      ],
      "execution_count": null,
      "outputs": []
    },
    {
      "cell_type": "code",
      "metadata": {
        "id": "WKt3BmtS8xQ0",
        "outputId": "a010eef0-b4f2-4d61-fa95-99bb9f4f591b"
      },
      "source": [
        "matches_data = pd.read_csv('datasets\\\\manipulated_datasets\\\\atp_matches_combined_1991-2018.csv')\n",
        "# Now let's check how good our dataset:\n",
        "# How many rows are there in the dataset?\n",
        "print(\"number of lines in the original dataset: \", matches_data.shape[0])\n",
        "#How many lines with ranking data?\n",
        "print(\"number of lines with rankings in the original dataset \", matches_data.dropna(subset=['loser_rank', 'winner_rank']).shape[0])\n",
        "#How many lines with height data?\n",
        "print(\"number of lines with heights in the original dataset: \", matches_data.dropna(subset=['loser_height', 'winner_height']).shape[0])\n",
        "#How many lines with rank and height data?\n",
        "print(\"number of lines with heights and rankings in the original dataset: \", matches_data.dropna(subset=['loser_rank', 'winner_rank', 'loser_height', 'winner_height']).shape[0])"
      ],
      "execution_count": null,
      "outputs": [
        {
          "output_type": "stream",
          "text": [
            "number of lines in the original dataset:  90879\n",
            "number of lines with rankings in the original dataset  86426\n",
            "number of lines with heights in the original dataset:  80006\n",
            "number of lines with heights and rankings in the original dataset:  77874\n"
          ],
          "name": "stdout"
        }
      ]
    },
    {
      "cell_type": "code",
      "metadata": {
        "collapsed": true,
        "id": "_E4n88Jm8xQ1"
      },
      "source": [
        "# import players overview data\n",
        "players_overview = pd.read_csv('datasets\\\\raw_datasets\\\\player_overviews_unindexed_csv.csv') \n",
        "\n",
        "# player names in this files appear in two columns- first name and last name.\n",
        "# in the other files, the name appears in one column, full name, so in order to join the datasets we created a new column\n",
        "# in this dataset that holds the full name:\n",
        "players_overview['player_name'] = players_overview['first_name'] + ' ' + players_overview['last_name']\n",
        "\n",
        "# We assume that the height of a player plays an important role in predicting the result of the match,\n",
        "# therefore we only want the lines that have a valid player height\n",
        "height_indexes = players_overview['height_cm'] > 0\n",
        "players_overview = players_overview[height_indexes]\n",
        "\n",
        "# Let's save the extracted data in a new file\n",
        "players_overview.to_csv('players_overview.csv')"
      ],
      "execution_count": null,
      "outputs": []
    },
    {
      "cell_type": "code",
      "metadata": {
        "id": "tlou5KYB8xQ1",
        "outputId": "3edb6005-6697-4edf-91c4-d3cac326f817"
      },
      "source": [
        "start = time.time()\n",
        "\n",
        "winner_no_height_indexes = ~matches_data['winner_height'].isin(range (100,300))\n",
        "loser_no_height_indexes = ~matches_data['loser_height'].isin(range (100,300))\n",
        "\n",
        "# Let's cross the data to fill rows without height in the matches data\n",
        "for ind, row in matches_data[winner_no_height_indexes].iterrows():\n",
        "    current_player_overview_row = players_overview[players_overview['player_name'] == row['winner_name']]\n",
        "    if (current_player_overview_row.shape[0] > 0):\n",
        "        matches_data.at[ind, 'winner_height'] = current_player_overview_row['height_cm']\n",
        "        \n",
        "for ind, row in matches_data[loser_no_height_indexes].iterrows():        \n",
        "    current_player_overview_row = players_overview[players_overview['player_name'] == row['loser_name']]\n",
        "    if (current_player_overview_row.shape[0] > 0):\n",
        "        matches_data.at[ind, 'loser_height'] = current_player_overview_row['height_cm']  \n",
        "\n",
        "matches_data.sort_values(by = ['tourney_date','match_num']).to_csv('datasets\\manipulated_datasets\\combined_1991-2018_heights.csv')\n",
        "\n",
        "#How many lines with height data do we have now?\n",
        "print(\"number of lines with heights in the dataset: \", matches_data.dropna(subset=['loser_height', 'winner_height']).shape[0])\n",
        "        \n",
        "end = time.time()\n",
        "print(end-start)"
      ],
      "execution_count": null,
      "outputs": [
        {
          "output_type": "stream",
          "text": [
            "number of lines with heights in the dataset:  84742\n",
            "16.951380968093872\n"
          ],
          "name": "stdout"
        }
      ]
    },
    {
      "cell_type": "code",
      "metadata": {
        "collapsed": true,
        "id": "AIrsA3QD8xQ2"
      },
      "source": [
        ""
      ],
      "execution_count": null,
      "outputs": []
    },
    {
      "cell_type": "code",
      "metadata": {
        "collapsed": true,
        "id": "JHv3mGj-8xQ2"
      },
      "source": [
        "# import rankings data\n",
        "rankings_data = pd.read_csv('datasets\\\\raw_datasets\\\\atp_rankings_90s.csv', header=None) \n",
        "rankings_data.columns = [\"ranking_date\", \"ranking\", \"player_id\", \"ranking_points\"]\n",
        "rankings_data = rankings_data.sort_values(by='ranking_date')\n",
        "rankings_data.to_csv('datasets\\\\manipulated_datasets\\\\rankings_data_sorted.csv')"
      ],
      "execution_count": null,
      "outputs": []
    },
    {
      "cell_type": "code",
      "metadata": {
        "collapsed": true,
        "id": "ognsiHIj8xQ2"
      },
      "source": [
        "matches_data = pd.read_csv('datasets\\manipulated_datasets\\combined_1991-2018_heights.csv').sort_values(by = ['tourney_date','match_num'])\n",
        "\n",
        "winner_row_indexes_without_rankings_in_the_original_data = ~(matches_data['winner_rank'] > 0)\n",
        "loser_row_indexes_without_rankings_in_the_original_data = ~(matches_data['loser_rank'] > 0)\n",
        "\n",
        "max_winner_rank = matches_data['winner_rank'].max()\n",
        "max_loser_rank = matches_data['loser_rank'].max()\n",
        "\n",
        "max_rank = int(max_winner_rank if max_winner_rank>max_loser_rank else max_loser_rank)\n",
        "\n",
        "for match_index, match_row in matches_data[winner_row_indexes_without_rankings_in_the_original_data].iterrows():\n",
        "    winner_id = match_row['winner_id']\n",
        "    match_date = match_row['tourney_date']\n",
        "    winner_ranking_indexes = (rankings_data['player_id'] == winner_id)\n",
        "#     print(match_row)\n",
        "    for ranking_index, ranking_row in rankings_data[winner_ranking_indexes].iterrows():\n",
        "        if ranking_row['ranking_date'] <= match_date:\n",
        "#             print(ranking_row['ranking_date'], match_date)\n",
        "            winner_ranking = ranking_row['ranking']\n",
        "            winner_ranking_points = ranking_row['ranking_points']\n",
        "            matches_data.at[match_index, 'winner_rank'] = winner_ranking\n",
        "            matches_data.at[match_index, 'winner_rank_points'] = winner_ranking_points\n",
        "#             print(ranking_row['ranking'])\n",
        "        else:\n",
        "            break\n",
        "            \n",
        "for match_index, match_row in matches_data[loser_row_indexes_without_rankings_in_the_original_data].iterrows():#matches_data[row_indexes_without_rankings_in_the_original_data].iterrows():\n",
        "    loser_id = match_row['loser_id']\n",
        "    match_date = match_row['tourney_date']\n",
        "    loser_ranking_indexes = (rankings_data['player_id'] == loser_id)\n",
        "#         print(match_row)\n",
        "    for ranking_index, ranking_row in rankings_data[loser_ranking_indexes].iterrows():\n",
        "#         print(ranking_row['ranking_date'], match_date)\n",
        "        if ranking_row['ranking_date'] <= match_date:\n",
        "            loser_ranking = ranking_row['ranking']\n",
        "            loser_ranking_points = ranking_row['ranking_points']\n",
        "            matches_data.at[match_index, 'loser_rank'] = loser_ranking\n",
        "            matches_data.at[match_index, 'loser_rank_points'] = loser_ranking_points\n",
        "        else:\n",
        "            break\n",
        "#         print(loser_ranking)"
      ],
      "execution_count": null,
      "outputs": []
    },
    {
      "cell_type": "code",
      "metadata": {
        "id": "IQqdxjPn8xQ3",
        "outputId": "6e167f6a-0e77-4dcf-b3d9-a46d54c555ba"
      },
      "source": [
        "# matches_data = pd.read_csv('datasets\\\\manipulated_datasets\\\\atp_matches_combined_1991-2018.csv')\n",
        "import pandas as pd\n",
        "matches_data = pd.read_csv('datasets\\manipulated_datasets\\combined_1991-2018_heights.csv').sort_values(by = ['tourney_date','match_num'])\n",
        "\n",
        "print(matches_data[matches_data['winner_rank']==matches_data['loser_rank']]['winner_rank'])\n",
        "print(matches_data[matches_data['winner_rank']==matches_data['loser_rank']]['loser_rank'])"
      ],
      "execution_count": null,
      "outputs": [
        {
          "output_type": "error",
          "ename": "FileNotFoundError",
          "evalue": "[Errno 2] File datasets\\manipulated_datasets\\combined_1991-2018_heights.csv does not exist: 'datasets\\\\manipulated_datasets\\\\combined_1991-2018_heights.csv'",
          "traceback": [
            "\u001b[1;31m---------------------------------------------------------------------------\u001b[0m",
            "\u001b[1;31mFileNotFoundError\u001b[0m                         Traceback (most recent call last)",
            "\u001b[1;32m<ipython-input-2-e8261f4293c9>\u001b[0m in \u001b[0;36m<module>\u001b[1;34m\u001b[0m\n\u001b[0;32m      1\u001b[0m \u001b[1;31m# matches_data = pd.read_csv('datasets\\\\manipulated_datasets\\\\atp_matches_combined_1991-2018.csv')\u001b[0m\u001b[1;33m\u001b[0m\u001b[1;33m\u001b[0m\u001b[1;33m\u001b[0m\u001b[0m\n\u001b[0;32m      2\u001b[0m \u001b[1;32mimport\u001b[0m \u001b[0mpandas\u001b[0m \u001b[1;32mas\u001b[0m \u001b[0mpd\u001b[0m\u001b[1;33m\u001b[0m\u001b[1;33m\u001b[0m\u001b[0m\n\u001b[1;32m----> 3\u001b[1;33m \u001b[0mmatches_data\u001b[0m \u001b[1;33m=\u001b[0m \u001b[0mpd\u001b[0m\u001b[1;33m.\u001b[0m\u001b[0mread_csv\u001b[0m\u001b[1;33m(\u001b[0m\u001b[1;34m'datasets\\manipulated_datasets\\combined_1991-2018_heights.csv'\u001b[0m\u001b[1;33m)\u001b[0m\u001b[1;33m.\u001b[0m\u001b[0msort_values\u001b[0m\u001b[1;33m(\u001b[0m\u001b[0mby\u001b[0m \u001b[1;33m=\u001b[0m \u001b[1;33m[\u001b[0m\u001b[1;34m'tourney_date'\u001b[0m\u001b[1;33m,\u001b[0m\u001b[1;34m'match_num'\u001b[0m\u001b[1;33m]\u001b[0m\u001b[1;33m)\u001b[0m\u001b[1;33m\u001b[0m\u001b[1;33m\u001b[0m\u001b[0m\n\u001b[0m\u001b[0;32m      4\u001b[0m \u001b[1;33m\u001b[0m\u001b[0m\n\u001b[0;32m      5\u001b[0m \u001b[0mprint\u001b[0m\u001b[1;33m(\u001b[0m\u001b[0mmatches_data\u001b[0m\u001b[1;33m[\u001b[0m\u001b[0mmatches_data\u001b[0m\u001b[1;33m[\u001b[0m\u001b[1;34m'winner_rank'\u001b[0m\u001b[1;33m]\u001b[0m\u001b[1;33m==\u001b[0m\u001b[0mmatches_data\u001b[0m\u001b[1;33m[\u001b[0m\u001b[1;34m'loser_rank'\u001b[0m\u001b[1;33m]\u001b[0m\u001b[1;33m]\u001b[0m\u001b[1;33m[\u001b[0m\u001b[1;34m'winner_rank'\u001b[0m\u001b[1;33m]\u001b[0m\u001b[1;33m)\u001b[0m\u001b[1;33m\u001b[0m\u001b[1;33m\u001b[0m\u001b[0m\n",
            "\u001b[1;32m~\\.conda\\envs\\cifar\\lib\\site-packages\\pandas\\io\\parsers.py\u001b[0m in \u001b[0;36mparser_f\u001b[1;34m(filepath_or_buffer, sep, delimiter, header, names, index_col, usecols, squeeze, prefix, mangle_dupe_cols, dtype, engine, converters, true_values, false_values, skipinitialspace, skiprows, skipfooter, nrows, na_values, keep_default_na, na_filter, verbose, skip_blank_lines, parse_dates, infer_datetime_format, keep_date_col, date_parser, dayfirst, cache_dates, iterator, chunksize, compression, thousands, decimal, lineterminator, quotechar, quoting, doublequote, escapechar, comment, encoding, dialect, error_bad_lines, warn_bad_lines, delim_whitespace, low_memory, memory_map, float_precision)\u001b[0m\n\u001b[0;32m    674\u001b[0m         )\n\u001b[0;32m    675\u001b[0m \u001b[1;33m\u001b[0m\u001b[0m\n\u001b[1;32m--> 676\u001b[1;33m         \u001b[1;32mreturn\u001b[0m \u001b[0m_read\u001b[0m\u001b[1;33m(\u001b[0m\u001b[0mfilepath_or_buffer\u001b[0m\u001b[1;33m,\u001b[0m \u001b[0mkwds\u001b[0m\u001b[1;33m)\u001b[0m\u001b[1;33m\u001b[0m\u001b[1;33m\u001b[0m\u001b[0m\n\u001b[0m\u001b[0;32m    677\u001b[0m \u001b[1;33m\u001b[0m\u001b[0m\n\u001b[0;32m    678\u001b[0m     \u001b[0mparser_f\u001b[0m\u001b[1;33m.\u001b[0m\u001b[0m__name__\u001b[0m \u001b[1;33m=\u001b[0m \u001b[0mname\u001b[0m\u001b[1;33m\u001b[0m\u001b[1;33m\u001b[0m\u001b[0m\n",
            "\u001b[1;32m~\\.conda\\envs\\cifar\\lib\\site-packages\\pandas\\io\\parsers.py\u001b[0m in \u001b[0;36m_read\u001b[1;34m(filepath_or_buffer, kwds)\u001b[0m\n\u001b[0;32m    446\u001b[0m \u001b[1;33m\u001b[0m\u001b[0m\n\u001b[0;32m    447\u001b[0m     \u001b[1;31m# Create the parser.\u001b[0m\u001b[1;33m\u001b[0m\u001b[1;33m\u001b[0m\u001b[1;33m\u001b[0m\u001b[0m\n\u001b[1;32m--> 448\u001b[1;33m     \u001b[0mparser\u001b[0m \u001b[1;33m=\u001b[0m \u001b[0mTextFileReader\u001b[0m\u001b[1;33m(\u001b[0m\u001b[0mfp_or_buf\u001b[0m\u001b[1;33m,\u001b[0m \u001b[1;33m**\u001b[0m\u001b[0mkwds\u001b[0m\u001b[1;33m)\u001b[0m\u001b[1;33m\u001b[0m\u001b[1;33m\u001b[0m\u001b[0m\n\u001b[0m\u001b[0;32m    449\u001b[0m \u001b[1;33m\u001b[0m\u001b[0m\n\u001b[0;32m    450\u001b[0m     \u001b[1;32mif\u001b[0m \u001b[0mchunksize\u001b[0m \u001b[1;32mor\u001b[0m \u001b[0miterator\u001b[0m\u001b[1;33m:\u001b[0m\u001b[1;33m\u001b[0m\u001b[1;33m\u001b[0m\u001b[0m\n",
            "\u001b[1;32m~\\.conda\\envs\\cifar\\lib\\site-packages\\pandas\\io\\parsers.py\u001b[0m in \u001b[0;36m__init__\u001b[1;34m(self, f, engine, **kwds)\u001b[0m\n\u001b[0;32m    878\u001b[0m             \u001b[0mself\u001b[0m\u001b[1;33m.\u001b[0m\u001b[0moptions\u001b[0m\u001b[1;33m[\u001b[0m\u001b[1;34m\"has_index_names\"\u001b[0m\u001b[1;33m]\u001b[0m \u001b[1;33m=\u001b[0m \u001b[0mkwds\u001b[0m\u001b[1;33m[\u001b[0m\u001b[1;34m\"has_index_names\"\u001b[0m\u001b[1;33m]\u001b[0m\u001b[1;33m\u001b[0m\u001b[1;33m\u001b[0m\u001b[0m\n\u001b[0;32m    879\u001b[0m \u001b[1;33m\u001b[0m\u001b[0m\n\u001b[1;32m--> 880\u001b[1;33m         \u001b[0mself\u001b[0m\u001b[1;33m.\u001b[0m\u001b[0m_make_engine\u001b[0m\u001b[1;33m(\u001b[0m\u001b[0mself\u001b[0m\u001b[1;33m.\u001b[0m\u001b[0mengine\u001b[0m\u001b[1;33m)\u001b[0m\u001b[1;33m\u001b[0m\u001b[1;33m\u001b[0m\u001b[0m\n\u001b[0m\u001b[0;32m    881\u001b[0m \u001b[1;33m\u001b[0m\u001b[0m\n\u001b[0;32m    882\u001b[0m     \u001b[1;32mdef\u001b[0m \u001b[0mclose\u001b[0m\u001b[1;33m(\u001b[0m\u001b[0mself\u001b[0m\u001b[1;33m)\u001b[0m\u001b[1;33m:\u001b[0m\u001b[1;33m\u001b[0m\u001b[1;33m\u001b[0m\u001b[0m\n",
            "\u001b[1;32m~\\.conda\\envs\\cifar\\lib\\site-packages\\pandas\\io\\parsers.py\u001b[0m in \u001b[0;36m_make_engine\u001b[1;34m(self, engine)\u001b[0m\n\u001b[0;32m   1112\u001b[0m     \u001b[1;32mdef\u001b[0m \u001b[0m_make_engine\u001b[0m\u001b[1;33m(\u001b[0m\u001b[0mself\u001b[0m\u001b[1;33m,\u001b[0m \u001b[0mengine\u001b[0m\u001b[1;33m=\u001b[0m\u001b[1;34m\"c\"\u001b[0m\u001b[1;33m)\u001b[0m\u001b[1;33m:\u001b[0m\u001b[1;33m\u001b[0m\u001b[1;33m\u001b[0m\u001b[0m\n\u001b[0;32m   1113\u001b[0m         \u001b[1;32mif\u001b[0m \u001b[0mengine\u001b[0m \u001b[1;33m==\u001b[0m \u001b[1;34m\"c\"\u001b[0m\u001b[1;33m:\u001b[0m\u001b[1;33m\u001b[0m\u001b[1;33m\u001b[0m\u001b[0m\n\u001b[1;32m-> 1114\u001b[1;33m             \u001b[0mself\u001b[0m\u001b[1;33m.\u001b[0m\u001b[0m_engine\u001b[0m \u001b[1;33m=\u001b[0m \u001b[0mCParserWrapper\u001b[0m\u001b[1;33m(\u001b[0m\u001b[0mself\u001b[0m\u001b[1;33m.\u001b[0m\u001b[0mf\u001b[0m\u001b[1;33m,\u001b[0m \u001b[1;33m**\u001b[0m\u001b[0mself\u001b[0m\u001b[1;33m.\u001b[0m\u001b[0moptions\u001b[0m\u001b[1;33m)\u001b[0m\u001b[1;33m\u001b[0m\u001b[1;33m\u001b[0m\u001b[0m\n\u001b[0m\u001b[0;32m   1115\u001b[0m         \u001b[1;32melse\u001b[0m\u001b[1;33m:\u001b[0m\u001b[1;33m\u001b[0m\u001b[1;33m\u001b[0m\u001b[0m\n\u001b[0;32m   1116\u001b[0m             \u001b[1;32mif\u001b[0m \u001b[0mengine\u001b[0m \u001b[1;33m==\u001b[0m \u001b[1;34m\"python\"\u001b[0m\u001b[1;33m:\u001b[0m\u001b[1;33m\u001b[0m\u001b[1;33m\u001b[0m\u001b[0m\n",
            "\u001b[1;32m~\\.conda\\envs\\cifar\\lib\\site-packages\\pandas\\io\\parsers.py\u001b[0m in \u001b[0;36m__init__\u001b[1;34m(self, src, **kwds)\u001b[0m\n\u001b[0;32m   1889\u001b[0m         \u001b[0mkwds\u001b[0m\u001b[1;33m[\u001b[0m\u001b[1;34m\"usecols\"\u001b[0m\u001b[1;33m]\u001b[0m \u001b[1;33m=\u001b[0m \u001b[0mself\u001b[0m\u001b[1;33m.\u001b[0m\u001b[0musecols\u001b[0m\u001b[1;33m\u001b[0m\u001b[1;33m\u001b[0m\u001b[0m\n\u001b[0;32m   1890\u001b[0m \u001b[1;33m\u001b[0m\u001b[0m\n\u001b[1;32m-> 1891\u001b[1;33m         \u001b[0mself\u001b[0m\u001b[1;33m.\u001b[0m\u001b[0m_reader\u001b[0m \u001b[1;33m=\u001b[0m \u001b[0mparsers\u001b[0m\u001b[1;33m.\u001b[0m\u001b[0mTextReader\u001b[0m\u001b[1;33m(\u001b[0m\u001b[0msrc\u001b[0m\u001b[1;33m,\u001b[0m \u001b[1;33m**\u001b[0m\u001b[0mkwds\u001b[0m\u001b[1;33m)\u001b[0m\u001b[1;33m\u001b[0m\u001b[1;33m\u001b[0m\u001b[0m\n\u001b[0m\u001b[0;32m   1892\u001b[0m         \u001b[0mself\u001b[0m\u001b[1;33m.\u001b[0m\u001b[0munnamed_cols\u001b[0m \u001b[1;33m=\u001b[0m \u001b[0mself\u001b[0m\u001b[1;33m.\u001b[0m\u001b[0m_reader\u001b[0m\u001b[1;33m.\u001b[0m\u001b[0munnamed_cols\u001b[0m\u001b[1;33m\u001b[0m\u001b[1;33m\u001b[0m\u001b[0m\n\u001b[0;32m   1893\u001b[0m \u001b[1;33m\u001b[0m\u001b[0m\n",
            "\u001b[1;32mpandas\\_libs\\parsers.pyx\u001b[0m in \u001b[0;36mpandas._libs.parsers.TextReader.__cinit__\u001b[1;34m()\u001b[0m\n",
            "\u001b[1;32mpandas\\_libs\\parsers.pyx\u001b[0m in \u001b[0;36mpandas._libs.parsers.TextReader._setup_parser_source\u001b[1;34m()\u001b[0m\n",
            "\u001b[1;31mFileNotFoundError\u001b[0m: [Errno 2] File datasets\\manipulated_datasets\\combined_1991-2018_heights.csv does not exist: 'datasets\\\\manipulated_datasets\\\\combined_1991-2018_heights.csv'"
          ]
        }
      ]
    },
    {
      "cell_type": "code",
      "metadata": {
        "id": "xive6W-_8xQ3",
        "outputId": "2e4b773a-efe8-4db2-80d5-029329bddc62"
      },
      "source": [
        "#row_indexes_without_rankings_in_the_original_data = ~(matches_data['winner_rank'] > 0) | ~(matches_data['loser_rank'] > 0)\n",
        "print(matches_data.shape[0])\n",
        "\n",
        "matches_data.sort_values(by = ['tourney_date','match_num']).to_csv('datasets\\manipulated_datasets\\combined_1991-2018_rankings.csv')"
      ],
      "execution_count": null,
      "outputs": [
        {
          "output_type": "stream",
          "text": [
            "90879\n"
          ],
          "name": "stdout"
        }
      ]
    },
    {
      "cell_type": "code",
      "metadata": {
        "id": "OEs_QYyN8xQ4",
        "outputId": "2935e328-461b-4760-bcf4-072f873eb818"
      },
      "source": [
        "matches_data = pd.read_csv('datasets\\manipulated_datasets\\combined_1991-2018_rankings.csv')\n",
        "# Now let's check how good our new dataset:\n",
        "# How many rows are there in the dataset?\n",
        "print(\"number of lines in the new dataset: \", matches_data.shape[0])\n",
        "#How many lines with ranking data?\n",
        "print(\"number of lines with rankings in the new dataset \", matches_data.dropna(subset=['loser_rank', 'winner_rank']).shape[0])\n",
        "#How many lines with height data?\n",
        "print(\"number of lines with heights in the new dataset: \", matches_data.dropna(subset=['loser_height', 'winner_height']).shape[0])\n",
        "#How many lines with rank and height data?\n",
        "print(\"number of lines with heights and rankings in the new dataset: \", matches_data.dropna(subset=['loser_rank', 'winner_rank', 'loser_height', 'winner_height']).shape[0])\n"
      ],
      "execution_count": null,
      "outputs": [
        {
          "output_type": "stream",
          "text": [
            "number of lines in the new dataset:  90879\n",
            "number of lines with rankings in the new dataset  88862\n",
            "number of lines with heights in the new dataset:  84742\n",
            "number of lines with heights and rankings in the new dataset:  84567\n"
          ],
          "name": "stdout"
        }
      ]
    },
    {
      "cell_type": "code",
      "metadata": {
        "collapsed": true,
        "id": "H9jd6k368xQ4"
      },
      "source": [
        "winners_data = matches_data[['winner_id', 'winner_name', 'winner_height']]\n",
        "winners_data.columns = ['player_id', 'player_name', 'player_height']\n",
        "\n",
        "losers_data = matches_data[['loser_id', 'loser_name', 'loser_height']]\n",
        "losers_data.columns = ['player_id', 'player_name','player_height']\n",
        "\n",
        "players_data = pd.concat([winners_data, losers_data])\n",
        "players_data = players_data.drop_duplicates(subset='player_id')\n",
        "\n",
        "players_data.to_csv('player_overview_oop_csv.csv')"
      ],
      "execution_count": null,
      "outputs": []
    },
    {
      "cell_type": "markdown",
      "metadata": {
        "id": "4Ke-XrIL8xQ4"
      },
      "source": [
        "## Data exploration"
      ]
    },
    {
      "cell_type": "code",
      "metadata": {
        "collapsed": true,
        "id": "Z3Z5nefI8xQ5"
      },
      "source": [
        "# data_base = pd.read_csv('datasets\\\\manipulated_datasets\\\\all_matches_with_our_features_clean.csv')\n",
        "data_base = pd.read_csv('datasets\\manipulated_datasets\\combined_1991-2018_rankings.csv')"
      ],
      "execution_count": null,
      "outputs": []
    },
    {
      "cell_type": "code",
      "metadata": {
        "id": "B_tYBIBU8xQ5",
        "outputId": "12b3e13a-1130-4d96-cc9f-5a497acd9739"
      },
      "source": [
        "data_base.surface.value_counts()"
      ],
      "execution_count": null,
      "outputs": [
        {
          "output_type": "execute_result",
          "data": {
            "text/plain": [
              "Hard      44062\n",
              "Clay      30807\n",
              "Grass      8597\n",
              "Carpet     7215\n",
              "None         80\n",
              "Name: surface, dtype: int64"
            ]
          },
          "metadata": {
            "tags": []
          },
          "execution_count": 15
        }
      ]
    },
    {
      "cell_type": "code",
      "metadata": {
        "id": "JIE_qIBP8xQ5",
        "outputId": "31c4341f-d8f1-4425-b0c0-634386f2674e"
      },
      "source": [
        "data_base.tourney_level.value_counts()"
      ],
      "execution_count": null,
      "outputs": [
        {
          "output_type": "execute_result",
          "data": {
            "text/plain": [
              "A    52470\n",
              "M    15383\n",
              "G    13843\n",
              "D     8699\n",
              "F      364\n",
              "C      120\n",
              "Name: tourney_level, dtype: int64"
            ]
          },
          "metadata": {
            "tags": []
          },
          "execution_count": 16
        }
      ]
    },
    {
      "cell_type": "code",
      "metadata": {
        "id": "l3r_v3md8xQ5",
        "outputId": "e6179a79-7d2b-449c-baf4-01f166741013"
      },
      "source": [
        "# level G means Grand-Slam tournament - The highest level\n",
        "# level M means Masters - The second highest level\n",
        "# level G means \n",
        "\n",
        "data_base[data_base['tourney_level']=='G']['tourney_name'].unique()"
      ],
      "execution_count": null,
      "outputs": [
        {
          "output_type": "execute_result",
          "data": {
            "text/plain": [
              "array(['Australian Open', 'Roland Garros', 'Wimbledon', 'US Open'],\n",
              "      dtype=object)"
            ]
          },
          "metadata": {
            "tags": []
          },
          "execution_count": 17
        }
      ]
    },
    {
      "cell_type": "code",
      "metadata": {
        "collapsed": true,
        "id": "I519J9wa8xQ6"
      },
      "source": [
        ""
      ],
      "execution_count": null,
      "outputs": []
    },
    {
      "cell_type": "code",
      "metadata": {
        "collapsed": true,
        "id": "g7U65qG08xQ6"
      },
      "source": [
        "# data_base['match_num_normalized']=data_base['match_num']-19"
      ],
      "execution_count": null,
      "outputs": []
    },
    {
      "cell_type": "markdown",
      "metadata": {
        "id": "5wXeS_bV8xQ6"
      },
      "source": [
        "## More learning preprocessing"
      ]
    },
    {
      "cell_type": "markdown",
      "metadata": {
        "id": "l-w38fH-8xQ6"
      },
      "source": [
        "Currently we have two columns of ranks- winner rank and loser rank. If we will pass these two columns, there will be a 1-to-1 connection between these columns and the tags, and we expect the algorithm to get around 100% accuracy. This, of course, is not realistic. In reality, we do not have the results in advance.. Therefore, we want to create new columns with \"player 1\" and \"player 2\" instead of \"winner\" and \"loser\"."
      ]
    },
    {
      "cell_type": "code",
      "metadata": {
        "collapsed": true,
        "id": "NPq1Vnng8xQ6"
      },
      "source": [
        "players_data = pd.read_csv('player_overview_oop_csv.csv')\n",
        "player_list = players_data['player_id']"
      ],
      "execution_count": null,
      "outputs": []
    },
    {
      "cell_type": "code",
      "metadata": {
        "collapsed": true,
        "id": "5I-oCG5A8xQ6"
      },
      "source": [
        "data_base = pd.read_csv('datasets\\manipulated_datasets\\combined_1991-2018_rankings.csv')#.sort_values(by = ['tourney_date','match_num'])\n",
        "\n",
        "# Reorder the data such that instead of having one half of winner data and one half of loser data, \n",
        "# which is problematic because we don't know how to arrange future matches without knowing who won,\n",
        "# we'll rearrange the data such that the higher ranked player data will appear in one half of the data,\n",
        "# and the lower ranked player data will appear in the second half.\n",
        "\n",
        "data_base['higher_ranked_player_id'] = np.where(data_base['winner_rank'] < data_base['loser_rank'], data_base['winner_id'], data_base['loser_id'])\n",
        "data_base['lower_ranked_player_id'] = np.where(data_base['winner_rank'] < data_base['loser_rank'], data_base['loser_id'], data_base['winner_id'])\n",
        "\n",
        "data_base['higher_ranked_player_name'] = np.where(data_base['winner_rank'] < data_base['loser_rank'], data_base['winner_name'], data_base['loser_name'])\n",
        "data_base['lower_ranked_player_name'] = np.where(data_base['winner_rank'] < data_base['loser_rank'], data_base['loser_name'], data_base['winner_name'])\n",
        "\n",
        "data_base['higher_ranked_player_hand'] = np.where(data_base['winner_rank'] < data_base['loser_rank'], data_base['winner_hand'], data_base['loser_hand'])\n",
        "data_base['lower_ranked_player_hand'] = np.where(data_base['winner_rank'] < data_base['loser_rank'], data_base['loser_hand'], data_base['winner_hand'])\n",
        "\n",
        "data_base['higher_ranked_player_height'] = np.where(data_base['winner_rank'] < data_base['loser_rank'], data_base['winner_height'], data_base['loser_height'])\n",
        "data_base['lower_ranked_player_height'] = np.where(data_base['winner_rank'] < data_base['loser_rank'], data_base['loser_height'], data_base['winner_height'])\n",
        "\n",
        "data_base['higher_ranked_player_age'] = np.where(data_base['winner_rank'] < data_base['loser_rank'], data_base['winner_age'], data_base['loser_age'])\n",
        "data_base['lower_ranked_player_age'] = np.where(data_base['winner_rank'] < data_base['loser_rank'], data_base['loser_age'], data_base['winner_age'])\n",
        "\n",
        "data_base['higher_ranked_player_rank'] = data_base[['winner_rank','loser_rank']].min(axis=1)\n",
        "data_base['lower_ranked_player_rank'] = data_base[['winner_rank','loser_rank']].max(axis=1)\n",
        "\n",
        "data_base['higher_ranked_player_rank_points'] = np.where(data_base['winner_rank'] < data_base['loser_rank'], data_base['winner_rank_points'], data_base['loser_rank_points'])\n",
        "data_base['lower_ranked_player_rank_points'] = np.where(data_base['winner_rank'] < data_base['loser_rank'], data_base['loser_rank_points'], data_base['winner_rank_points'])\n",
        "\n",
        "\n",
        "\n",
        "columns = ['winner_id', 'loser_id', 'higher_ranked_player_id', 'lower_ranked_player_id', \n",
        "           'winner_name', 'loser_name','higher_ranked_player_name', 'lower_ranked_player_name',\n",
        "           'winner_hand', 'loser_hand', 'higher_ranked_player_hand', 'lower_ranked_player_hand',\n",
        "           'winner_height', 'loser_height', 'higher_ranked_player_height', 'lower_ranked_player_height',\n",
        "           'winner_age', 'loser_age', 'higher_ranked_player_age', 'lower_ranked_player_age',\n",
        "           'winner_rank', 'loser_rank', 'higher_ranked_player_rank', 'lower_ranked_player_rank',\n",
        "           'winner_rank_points', 'loser_rank_points', 'higher_ranked_player_rank_points', 'lower_ranked_player_rank_points',\n",
        "           'tourney_id', 'tourney_name', 'surface', 'draw_size', 'tourney_level', 'tourney_date', 'match_num',\n",
        "           'score', 'best_of', 'round', 'minutes']\n",
        "\n",
        "data_base[columns].to_csv('datasets\\\\manipulated_datasets\\\\combined_1991-2018_rankings_clean.csv')"
      ],
      "execution_count": null,
      "outputs": []
    },
    {
      "cell_type": "code",
      "metadata": {
        "collapsed": true,
        "id": "GNjD4nva8xQ6"
      },
      "source": [
        "data_base = pd.read_csv('datasets\\manipulated_datasets\\combined_1991-2018_rankings_clean.csv')#.sort_values(by = ['tourney_date','match_num'])"
      ],
      "execution_count": null,
      "outputs": []
    },
    {
      "cell_type": "code",
      "metadata": {
        "collapsed": true,
        "id": "8kUiX44V8xQ7"
      },
      "source": [
        "data_base = pd.get_dummies(data_base, columns=['higher_ranked_player_hand'], prefix = ['higher_ranked_player_hand'])\n",
        "data_base = pd.get_dummies(data_base, columns=['lower_ranked_player_hand'], prefix = ['lower_ranked_player_hand'])\n",
        "\n",
        "data_base['height_differences'] = (data_base['higher_ranked_player_height']-data_base['lower_ranked_player_height'])\n",
        "\n",
        "data_base['rank_differences'] = (data_base['lower_ranked_player_rank']-data_base['higher_ranked_player_rank'])\n",
        "data_base['rank_differences_normalized'] = (data_base['higher_ranked_player_rank']-data_base['lower_ranked_player_rank'])/data_base['lower_ranked_player_rank']\n",
        "data_base['rank_differences_multiplied'] = (data_base['higher_ranked_player_rank']-data_base['lower_ranked_player_rank'])*data_base['lower_ranked_player_rank']\n",
        "\n",
        "mapping = {'R128': 1, 'R64':2, 'R32':3, 'R16':4, 'QF':5, 'SF':6, 'F':7, 'RR':0, 'BR':0}\n",
        "data_base['round'] = data_base['round'].replace(mapping)\n",
        "\n",
        "data_base['tag'] = np.where(data_base['winner_rank'] < data_base['loser_rank'], 1, -1)\n",
        "\n",
        "\n",
        "points_difference = []\n",
        "data_base['last_match_points_difference'] = None\n",
        "\n",
        "for match in data_base['score'].str.split(' '):\n",
        "    winner_points = 0\n",
        "    loser_points = 0\n",
        "    try:\n",
        "        for game in match:\n",
        "            winner_points += int(re.sub(r\"\\(.*\\)\", \"\", game).split('-')[0])\n",
        "            loser_points  += int(re.sub(r\"\\(.*\\)\", \"\", game).split('-')[1])\n",
        "    except:\n",
        "        pass\n",
        "    points_difference.append(winner_points - loser_points)\n",
        "\n",
        "data_base['last_match_sets'] = data_base['score'].str.count('-')\n",
        "data_base['last_match_sets_difference'] = data_base['best_of'] - data_base['last_match_sets'] + 1\n",
        "    \n",
        "data_base['last_match_points_difference'] = np.array(points_difference)\n",
        "data_base['last_match_points_difference_normalized'] = data_base['last_match_points_difference'] / data_base['last_match_sets']\n",
        "\n",
        "\n",
        "\n",
        "# data_base = pd.get_dummies(data_base, columns=['surface'], prefix = ['surface'])\n",
        "\n",
        "data_base.sort_values(by = ['tourney_date','match_num']).to_csv('datasets\\\\manipulated_datasets\\\\matches_data_1991-2018.csv')\n",
        "\n"
      ],
      "execution_count": null,
      "outputs": []
    },
    {
      "cell_type": "markdown",
      "metadata": {
        "id": "eQCFiFis8xQ7"
      },
      "source": [
        "# Building history"
      ]
    },
    {
      "cell_type": "code",
      "metadata": {
        "collapsed": true,
        "id": "taN38e368xQ7"
      },
      "source": [
        "dates = (data_base['tourney_date']/10000).astype(int)\n",
        "# pd.to_numeric(dates, downcast='integer')\n",
        "data_base['match_year'] = dates\n",
        "years = dates.unique()\n",
        "# data_base['dates_normalized'] = data_base['tourney_date']/dates.value_counts()\n",
        "# dates.value_counts()\n",
        "num_of_players_per_year = {}\n",
        "for year in years:\n",
        "    winners = data_base[data_base['match_year']==year].winner_id\n",
        "    winners.columns = ['player_id']\n",
        "    losers = data_base[data_base['match_year']==year].loser_id\n",
        "    losers.columns = ['player_id']\n",
        "    players = pd.concat([winners, losers])\n",
        "    num_of_players_per_year[year] = players.drop_duplicates().shape[0]\n",
        "    data_base['match_year'] = data_base['match_year'].replace(year, num_of_players_per_year[year])\n",
        "\n",
        "data_base['winner_rank_normalized_by_num_of_players'] = data_base['winner_rank'] / data_base['match_year']\n",
        "data_base['loser_rank_normalized_by_num_of_players'] = data_base['loser_rank'] / data_base['match_year']\n",
        "\n",
        "data_base['higher_ranked_player_rank_normalized_by_num_of_players'] = np.where(data_base['winner_rank'] < data_base['loser_rank'], data_base['winner_rank_normalized_by_num_of_players'], data_base['loser_rank_normalized_by_num_of_players'])\n",
        "data_base['lower_ranked_player_rank_normalized_by_num_of_players'] = np.where(data_base['winner_rank'] < data_base['loser_rank'], data_base['loser_rank_normalized_by_num_of_players'], data_base['winner_rank_normalized_by_num_of_players'])\n",
        "\n",
        "data_base.sort_values(by = ['tourney_date','match_num']).to_csv('datasets\\\\manipulated_datasets\\\\matches_data_1991-2018.csv')"
      ],
      "execution_count": null,
      "outputs": []
    },
    {
      "cell_type": "code",
      "metadata": {
        "collapsed": true,
        "id": "ZpwsHXJu8xQ7"
      },
      "source": [
        "history_levels = [\"one\", \"two\", \"three\", \"four\", \"five\", \"six\", \"seven\", \"eight\", \"nine\", \"ten\",\n",
        "                  \"eleven\", \"twelve\", \"thirteen\", \"fourteen\", \"fifteen\", \"sixteen\", \"seventeen\", \"eighteen\", \"nineteen\", \"twenty\"]\n",
        "\n",
        "\n",
        "winner_one_level_history = ['winner_one_level_history_outcome', 'winner_one_level_history_sets_difference']\n",
        "loser_one_level_history = ['loser_one_level_history_outcome', 'loser_one_level_history_sets_difference']\n",
        "\n",
        "\n",
        "higher_ranked_player_one_level_history = ['higher_ranked_player_one_level_history_outcome', 'higher_ranked_player_one_level_history_upset_rank_difference', 'higher_ranked_player_one_level_history_no_upset_rank_difference']\n",
        "lower_ranked_player_one_level_history = ['lower_ranked_player_one_level_history_outcome', 'higher_ranked_player_one_level_history_upset_rank_difference', 'lower_ranked_player_one_level_history_no_upset_rank_difference']\n",
        "\n",
        "\n",
        "for ii in range (1, len(history_levels)):\n",
        "    exec(\"winner_{0}_level_history = winner_{1}_level_history + ['winner_{0}_level_history_outcome', 'winner_{0}_level_history_sets_difference']\".format(history_levels[ii],history_levels[ii-1]))\n",
        "    exec(\"loser_{0}_level_history = loser_{1}_level_history + ['loser_{0}_level_history_outcome', 'loser_{0}_level_history_sets_difference']\".format(history_levels[ii],history_levels[ii-1]))\n",
        "    exec(\"{0}_level_history = winner_{0}_level_history + loser_{0}_level_history\".format(history_levels[ii-1]))\n",
        "    exec(\"{0}_level_history_reversed = loser_{0}_level_history + winner_{0}_level_history\".format(history_levels[ii-1]))\n",
        "\n",
        " \n",
        "    exec(\"higher_ranked_player_{0}_level_history = higher_ranked_player_{1}_level_history + ['higher_ranked_player_{0}_level_history_outcome', 'higher_ranked_player_{0}_level_history_upset_rank_difference', 'higher_ranked_player_{0}_level_history_no_upset_rank_difference']\".format(history_levels[ii],history_levels[ii-1]))\n",
        "    exec(\"lower_ranked_player_{0}_level_history = lower_ranked_player_{1}_level_history + ['lower_ranked_player_{0}_level_history_outcome', 'lower_ranked_player_{0}_level_history_upset_rank_difference', 'lower_ranked_player_{0}_level_history_no_upset_rank_difference']\".format(history_levels[ii],history_levels[ii-1]))\n",
        "   \n",
        "    \n",
        "    exec(\"{0}_level_history_higher_first = higher_ranked_player_{0}_level_history + lower_ranked_player_{0}_level_history\".format(history_levels[ii-1]))\n",
        "    exec(\"{0}_level_history_lower_first = lower_ranked_player_{0}_level_history + higher_ranked_player_{0}_level_history\".format(history_levels[ii-1]))\n",
        "\n",
        "        \n",
        "\n",
        "\n",
        "\n",
        "ranks = ['higher_ranked_player_rank', 'lower_ranked_player_rank']\n",
        "\n",
        "rank_difference = ['rank_differences']\n",
        "\n",
        "ages = ['higher_ranked_player_age', 'lower_ranked_player_age']\n",
        "\n",
        "heights = ['higher_ranked_player_height', 'lower_ranked_player_height']\n",
        "\n",
        "hands = ['higher_ranked_player_hand_L', 'higher_ranked_player_hand_R', 'higher_ranked_player_hand_U', 'lower_ranked_player_hand_L', 'lower_ranked_player_hand_R', 'lower_ranked_player_hand_U']\n",
        "\n",
        "# print(data_base.columns)"
      ],
      "execution_count": null,
      "outputs": []
    },
    {
      "cell_type": "code",
      "metadata": {
        "collapsed": true,
        "id": "FWqSqy048xQ7"
      },
      "source": [
        "def create_history(data_frame, file_name):\n",
        "    data_frame['winner_last_match_minutes'] = None\n",
        "    data_frame['loser_last_match_minutes'] = None\n",
        "    data_frame['higher_ranked_player_last_match_minutes'] = None\n",
        "    data_frame['lower_ranked_player_last_match_minutes'] = None\n",
        "    \n",
        "    data_frame['higher_ranked_player_last_level_reached_minus_current_level'] = None\n",
        "    data_frame['lower_ranked_player_last_level_reached_minus_current_level'] = None\n",
        "    \n",
        "    data_frame['winner_one_level_history_points_difference'] = None\n",
        "    data_frame['loser_one_level_history_points_difference'] = None\n",
        "    \n",
        "\n",
        "    data_frame['player_last_match_points_difference'] = None\n",
        "    data_frame['player_last_match_points_difference_normalized'] = None\n",
        "    \n",
        "    data_frame['last_level_history_rank_difference'] = None\n",
        "    data_frame['last_level_upset_rank_difference'] = 0\n",
        "    data_frame['last_level_no_upset_rank_difference'] = 0\n",
        "\n",
        "    data_frame['player_upsets_for'] = 0\n",
        "    data_frame['player_upsets_against'] = 0\n",
        "    \n",
        "    data_frame['winner_upsets_for'] = 0\n",
        "    data_frame['winner_upsets_against'] = 0\n",
        "    data_frame['loser_upsets_for'] = 0\n",
        "    data_frame['loser_upsets_against'] = 0\n",
        "    \n",
        "    data_frame['winner_upsets_for_normalized'] = 0\n",
        "    data_frame['winner_upsets_against_normalized'] = 0\n",
        "    data_frame['loser_upsets_for_normalized'] = 0\n",
        "    data_frame['loser_upsets_against_normalized'] = 0\n",
        "\n",
        "    for level in history_levels:\n",
        "        data_frame['winner_{}_level_history_outcome'.format(level)] = None\n",
        "        data_frame['loser_{}_level_history_outcome'.format(level)] = None\n",
        "        data_frame['higher_ranked_player_{}_level_history_outcome'.format(level)] = None\n",
        "        data_frame['lower_ranked_player_{}_level_history_outcome'.format(level)] = None\n",
        "        \n",
        "#         data_frame['winner_{}_level_history_rank_difference'.format(level)] = None\n",
        "#         data_frame['loser_{}_level_history_rank_difference'.format(level)] = None\n",
        "#         data_frame['higher_ranked_player_{}_level_history_rank_difference'.format(level)] = None\n",
        "#         data_frame['lower_ranked_player_{}_level_history_rank_difference'.format(level)] = None\n",
        "        \n",
        "        data_frame['winner_{}_level_history_sets_difference'.format(level)] = None\n",
        "        data_frame['loser_{}_level_history_sets_difference'.format(level)] = None\n",
        "        data_frame['higher_ranked_player_{}_level_history_sets_difference'.format(level)] = None\n",
        "        data_frame['lower_ranked_player_{}_level_history_sets_difference'.format(level)] = None\n",
        "\n",
        "        data_frame['winner_{}_level_history_upset_rank_difference'.format(level)] = None\n",
        "        data_frame['loser_{}_level_history_upset_rank_difference'.format(level)] = None\n",
        "        data_frame['higher_ranked_player_{}_level_history_sets_difference'.format(level)] = None\n",
        "        data_frame['lower_ranked_player_{}_level_history_sets_difference'.format(level)] = None\n",
        "        \n",
        "        data_frame['winner_{}_level_history_no_upset_rank_difference'.format(level)] = None\n",
        "        data_frame['loser_{}_level_history_no_upset_rank_difference'.format(level)] = None\n",
        "        data_frame['higher_ranked_player_{}_level_history_no_upset_rank_difference'.format(level)] = None\n",
        "        data_frame['lower_ranked_player_{}_level_history_no_upset_rank_difference'.format(level)] = None\n",
        "\n",
        "        \n",
        "        data_frame['winner_{}_level_history_points_difference'.format(level)] = None\n",
        "        data_frame['loser_{}_level_history_points_difference'.format(level)] = None\n",
        "        data_frame['higher_ranked_player_{}_level_history_points_difference'.format(level)] = None\n",
        "        data_frame['lower_ranked_player_{}_level_history_points_difference'.format(level)] = None\n",
        "        \n",
        "        data_frame['winner_{}_level_history_points_difference_normalized'.format(level)] = None\n",
        "        data_frame['loser_{}_level_history_points_difference_normalized'.format(level)] = None\n",
        "        data_frame['higher_ranked_player_{}_level_history_points_difference_normalized'.format(level)] = None\n",
        "        data_frame['lower_ranked_player_{}_level_history_points_difference_normalized'.format(level)] = None\n",
        "        \n",
        "        data_frame['higher_ranked_player_{}_level_history_wins'.format(level)] = None\n",
        "        data_frame['higher_ranked_player_{}_level_history_wins_percentage'.format(level)] = None\n",
        "\n",
        "        \n",
        "    \n",
        "    pd.options.mode.chained_assignment = None  # default='warn'\n",
        "\n",
        "    winners_data = data_frame[['winner_id']]\n",
        "    winners_data.columns = ['player_id']\n",
        "    losers_data = data_frame[['loser_id']]\n",
        "    losers_data.columns = ['player_id']\n",
        "\n",
        "    players_data = pd.concat([winners_data, losers_data])\n",
        "    players_data = players_data.drop_duplicates(subset='player_id')\n",
        "    player_list = players_data['player_id']\n",
        "\n",
        "    \n",
        "    \n",
        "    data_frame['winning_percentage'] = None\n",
        "    data_frame['winner_winning_percentage'] = None\n",
        "    data_frame['loser_winning_percentage'] = None\n",
        "    data_frame['higher_ranked_player_winning_percentage'] = None\n",
        "    data_frame['lower_ranked_player_winning_percentage'] = None\n",
        "    \n",
        "    data_frame['winner_winning_streak']=None\n",
        "    data_frame['loser_winning_streak']=None\n",
        "    data_frame['winner_longest_winning_streak']=None\n",
        "    data_frame['loser_longest_winning_streak']=None\n",
        "    \n",
        "    data_frame['winner_losing_streak']=None\n",
        "    data_frame['loser_losing_streak']=None\n",
        "    data_frame['winner_longest_losing_streak']=None\n",
        "    data_frame['loser_longest_losing_streak']=None\n",
        "\n",
        "    \n",
        "    data_frame['last_level_reached'] = None\n",
        "    data_frame['winner_last_level_reached'] = None\n",
        "    data_frame['loser_last_level_reached'] = None\n",
        "\n",
        "    data_frame['player_last_match_sets_difference'] = None\n",
        "    \n",
        "    \n",
        "    data_frame['winner_games_played'] = None\n",
        "    data_frame['loser_games_played'] = None\n",
        "    \n",
        "    \n",
        "    for current_player_id in player_list:\n",
        "        \n",
        "        data_frame['games_played'] = None\n",
        "        \n",
        "        data_frame['player_upsets_for'] = 0\n",
        "        data_frame['player_upsets_against'] = 0\n",
        "        \n",
        "\n",
        "        data_frame['last_match_outcome'] = None\n",
        "#         data_frame['winning_percentage'] = None\n",
        "#         data_frame['games_won'] = None\n",
        "        data_frame['games_won'] = np.where(data_frame['winner_id'] == current_player_id, 1, 0)\n",
        "    \n",
        "        \n",
        "        \n",
        "        \n",
        "        \n",
        "        indexes = (data_frame['winner_id']==current_player_id) | (data_frame['loser_id']==current_player_id)\n",
        "        winner_indexes = data_frame['winner_id']==current_player_id\n",
        "        loser_indexes = data_frame['loser_id']==current_player_id\n",
        "\n",
        "        \n",
        "\n",
        "        \n",
        "        data_frame['player_upsets_for'][winner_indexes] = np.where(data_frame['tag'][winner_indexes]==-1, 1, 0)\n",
        "        data_frame['player_upsets_for'][loser_indexes] = 0\n",
        "        data_frame['player_upsets_for'][indexes] = data_frame['player_upsets_for'][indexes].shift(1)\n",
        "        data_frame['player_upsets_for'][indexes] = np.cumsum(data_frame['player_upsets_for'][indexes])\n",
        "        \n",
        "        \n",
        "        data_frame['player_upsets_against'][loser_indexes] = np.where(data_frame['tag'][loser_indexes]==-1, 1, 0)\n",
        "        data_frame['player_upsets_against'][winner_indexes] = 0\n",
        "        data_frame['player_upsets_against'][indexes] = data_frame['player_upsets_against'][indexes].shift(1)\n",
        "        data_frame['player_upsets_against'][indexes] = np.cumsum(data_frame['player_upsets_against'][indexes])\n",
        "#         data_frame['player_upsets_for'][winner_indexes] = data_frame['player_upsets_for'][winner_indexes]\n",
        "        \n",
        "        data_frame['winner_upsets_for'][winner_indexes] = data_frame['player_upsets_for'][winner_indexes]\n",
        "        data_frame['loser_upsets_for'][loser_indexes] = data_frame['player_upsets_for'][loser_indexes]\n",
        "        data_frame['winner_upsets_for_normalized'][winner_indexes] = data_frame['player_upsets_for'][winner_indexes]/data_frame['games_played']\n",
        "        data_frame['loser_upsets_for_normalized'][loser_indexes] = data_frame['player_upsets_for'][loser_indexes]/data_frame['games_played']\n",
        "        \n",
        "        data_frame['winner_upsets_against'][winner_indexes] = data_frame['player_upsets_against'][winner_indexes]\n",
        "        data_frame['loser_upsets_against'][loser_indexes] = data_frame['player_upsets_against'][loser_indexes]\n",
        "        data_frame['winner_upsets_against_normalized'][winner_indexes] = data_frame['player_upsets_against'][winner_indexes]/data_frame['games_played']\n",
        "        data_frame['loser_upsets_against_normalized'][loser_indexes] = data_frame['player_upsets_against'][loser_indexes]/data_frame['games_played']\n",
        "    \n",
        "        data_frame['player_last_match_points_difference'][winner_indexes] = data_frame['last_match_points_difference'][winner_indexes]\n",
        "        data_frame['player_last_match_points_difference'][loser_indexes] = -data_frame['last_match_points_difference'][loser_indexes]\n",
        "        data_frame['player_last_match_points_difference_normalized'][winner_indexes] = data_frame['last_match_points_difference_normalized'][winner_indexes]\n",
        "        data_frame['player_last_match_points_difference_normalized'][loser_indexes] = -data_frame['last_match_points_difference_normalized'][loser_indexes]\n",
        "        \n",
        "        data_frame['player_last_match_sets_difference'] = data_frame['last_match_sets_difference']\n",
        "        data_frame['player_last_match_sets_difference'][winner_indexes] = data_frame['last_match_sets_difference']\n",
        "        data_frame['player_last_match_sets_difference'][loser_indexes] = -data_frame['last_match_sets_difference']\n",
        "        \n",
        "        \n",
        "        \n",
        "        data_frame['last_match_outcome'][indexes] = np.where(data_frame['winner_id']==current_player_id, 1, -1)\n",
        "\n",
        "        minutes_df = data_frame['minutes'][indexes].shift(1)\n",
        "        data_frame['winner_last_match_minutes'][winner_indexes] = minutes_df[winner_indexes]\n",
        "        data_frame['loser_last_match_minutes'][loser_indexes] = minutes_df[loser_indexes]\n",
        "        \n",
        "\n",
        "        data_frame['last_level_history_rank_difference'][indexes] = data_frame['winner_rank'][indexes]-data_frame['loser_rank'][indexes]\n",
        "\n",
        "        data_frame['rank_difference'] = abs(data_frame['lower_ranked_player_rank'] - data_frame['higher_ranked_player_rank'])\n",
        "        data_frame['last_level_upset_rank_difference'][winner_indexes] = np.where(data_frame['tag'][winner_indexes]==-1,data_frame['rank_difference'][winner_indexes], 0)\n",
        "        data_frame['last_level_upset_rank_difference'][loser_indexes] = np.where(data_frame['tag'][loser_indexes]==-1,-data_frame['rank_difference'][loser_indexes], 0)\n",
        "\n",
        "        \n",
        "        data_frame['last_level_no_upset_rank_difference'][winner_indexes] = np.where(data_frame['tag'][winner_indexes]==1, data_frame['rank_difference'][winner_indexes],0)\n",
        "        data_frame['last_level_no_upset_rank_difference'][loser_indexes] = np.where(data_frame['tag'][loser_indexes]==1, -data_frame['rank_difference'][loser_indexes],0)\n",
        " \n",
        "        \n",
        "        \n",
        "        data_frame['last_level_reached'] = None\n",
        "        data_frame['last_level_reached'][loser_indexes] = data_frame['round']\n",
        "        data_frame['last_level_reached'][indexes] = data_frame['last_level_reached'][indexes].fillna(method='ffill').shift(1)\n",
        "        data_frame['winner_last_level_reached'][winner_indexes]= data_frame['last_level_reached'][winner_indexes]\n",
        "        data_frame['loser_last_level_reached'][loser_indexes] = data_frame['last_level_reached'][loser_indexes]\n",
        "    \n",
        "        \n",
        "        \n",
        "        \n",
        "        \n",
        "    \n",
        "# Creating winning winning_streak columns\n",
        "        current_winning_streak = 0\n",
        "        longest_winning_streak = 0\n",
        "        \n",
        "        current_losing_streak = 0\n",
        "        longest_losing_streak = 0\n",
        "        # Iterate over each match of the current player\n",
        "        for index, row in data_frame[indexes].iterrows():\n",
        "\n",
        "            if (row['games_won']==1):\n",
        "                \n",
        "                data_frame.at[index,'winner_winning_streak'] = current_winning_streak\n",
        "                data_frame.at[index,'winner_longest_winning_streak'] = longest_winning_streak\n",
        "                current_winning_streak += 1\n",
        "                \n",
        "                data_frame.at[index,'winner_losing_streak'] = current_losing_streak\n",
        "                data_frame.at[index,'winner_longest_losing_streak'] = longest_losing_streak\n",
        "                current_losing_streak = 0\n",
        "                \n",
        "            else:\n",
        "            \n",
        "                \n",
        "                data_frame.at[index,'loser_winning_streak'] = current_winning_streak\n",
        "                data_frame.at[index,'loser_longest_winning_streak'] = longest_winning_streak\n",
        "                current_winning_streak = 0\n",
        "                \n",
        "                data_frame.at[index,'loser_losing_streak'] = current_losing_streak\n",
        "                data_frame.at[index,'loser_longest_losing_streak'] = longest_losing_streak\n",
        "                current_losing_streak += 1 \n",
        "                \n",
        "            longest_winning_streak = current_winning_streak if current_winning_streak>longest_winning_streak else longest_winning_streak\n",
        "            longest_losing_streak = current_losing_streak if current_losing_streak>longest_losing_streak else longest_losing_streak\n",
        "\n",
        "# Creating career winning percentage\n",
        "        \n",
        "        \n",
        "        data_frame['games_played'][indexes] = range(1, len(data_frame[indexes]) +1)\n",
        "        data_frame['winner_games_played'][winner_indexes] = data_frame['games_played'][winner_indexes]\n",
        "        data_frame['loser_games_played'][loser_indexes] = data_frame['games_played'][loser_indexes]\n",
        "        data_frame['winning_percentage'][indexes] = (data_frame['games_won'][indexes].cumsum() / data_frame['games_played'][indexes]).shift(1)\n",
        "        \n",
        "        data_frame['winner_winning_percentage'][winner_indexes] = data_frame['winning_percentage'][winner_indexes]\n",
        "        data_frame['loser_winning_percentage'][loser_indexes] = data_frame['winning_percentage'][loser_indexes]\n",
        "\n",
        "# Creating matches history        \n",
        "        for level in history_levels:\n",
        "        \n",
        "            data_frame['player_last_match_sets_difference'][indexes] = data_frame['player_last_match_sets_difference'][indexes].shift(1)\n",
        "            data_frame['winner_{}_level_history_sets_difference'.format(level)][winner_indexes] = data_frame['player_last_match_sets_difference'][winner_indexes]\n",
        "            data_frame['loser_{}_level_history_sets_difference'.format(level)][loser_indexes] = data_frame['player_last_match_sets_difference'][loser_indexes]\n",
        "\n",
        "        \n",
        "            data_frame['last_match_outcome'][indexes] = data_frame['last_match_outcome'][indexes].shift(1)\n",
        "            data_frame['winner_{}_level_history_outcome'.format(level)][winner_indexes] = data_frame['last_match_outcome'][winner_indexes]\n",
        "            data_frame['loser_{}_level_history_outcome'.format(level)][loser_indexes] = data_frame['last_match_outcome'][loser_indexes]\n",
        "            \n",
        "            \n",
        "            \n",
        "        \n",
        "            data_frame['last_level_upset_rank_difference'][indexes] = data_frame['last_level_upset_rank_difference'][indexes].shift(1)\n",
        "            data_frame['winner_{0}_level_history_upset_rank_difference'.format(level)][winner_indexes] = data_frame['last_level_upset_rank_difference'][winner_indexes]\n",
        "            data_frame['loser_{0}_level_history_upset_rank_difference'.format(level)][loser_indexes] = data_frame['last_level_upset_rank_difference'][loser_indexes]\n",
        "\n",
        "            \n",
        "            \n",
        "            data_frame['last_level_no_upset_rank_difference'][indexes] = data_frame['last_level_no_upset_rank_difference'][indexes].shift(1)\n",
        "            data_frame['winner_{0}_level_history_no_upset_rank_difference'.format(level)][winner_indexes] = data_frame['last_level_no_upset_rank_difference'][winner_indexes]\n",
        "            data_frame['loser_{0}_level_history_no_upset_rank_difference'.format(level)][loser_indexes] = data_frame['last_level_no_upset_rank_difference'][loser_indexes]\n",
        "\n",
        "            \n",
        "        \n",
        "        \n",
        "            data_frame['player_last_match_points_difference'][indexes] = data_frame['player_last_match_points_difference'][indexes].shift(1)\n",
        "            data_frame['winner_{0}_level_history_points_difference'.format(level)][winner_indexes] = data_frame['player_last_match_points_difference'][winner_indexes]\n",
        "            data_frame['loser_{0}_level_history_points_difference'.format(level)][loser_indexes] = data_frame['player_last_match_points_difference'][loser_indexes]\n",
        "            \n",
        "            data_frame['player_last_match_points_difference_normalized'][indexes] = data_frame['player_last_match_points_difference_normalized'][indexes].shift(1)\n",
        "            data_frame['winner_{0}_level_history_points_difference_normalized'.format(level)][winner_indexes] = data_frame['player_last_match_points_difference_normalized'][winner_indexes]\n",
        "            data_frame['loser_{0}_level_history_points_difference_normalized'.format(level)][loser_indexes] = data_frame['player_last_match_points_difference_normalized'][loser_indexes]\n",
        "    \n",
        "    # End of for each player\n",
        "    \n",
        "    for level in history_levels:\n",
        "        \n",
        "        data_frame['higher_ranked_player_{0}_level_history_upset_rank_difference'.format(level)] = np.where(data_frame['tag']==1, data_frame['winner_{0}_level_history_upset_rank_difference'.format(level)], data_frame['loser_{0}_level_history_upset_rank_difference'.format(level)])\n",
        "        data_frame['lower_ranked_player_{0}_level_history_upset_rank_difference'.format(level)] = np.where(data_frame['tag']==-1, data_frame['winner_{0}_level_history_upset_rank_difference'.format(level)], data_frame['loser_{0}_level_history_upset_rank_difference'.format(level)])\n",
        "\n",
        "            \n",
        "        data_frame['higher_ranked_player_{}_level_history_outcome'.format(level)] = np.where(data_frame['tag']==1, data_frame['winner_{}_level_history_outcome'.format(level)], data_frame['loser_{}_level_history_outcome'.format(level)])\n",
        "        data_frame['lower_ranked_player_{}_level_history_outcome'.format(level)] = np.where(data_frame['tag']==-1, data_frame['winner_{}_level_history_outcome'.format(level)], data_frame['loser_{}_level_history_outcome'.format(level)])\n",
        "\n",
        "        data_frame['higher_ranked_player_{}_level_history_points_difference'.format(level)] = np.where(data_frame['tag']==1, data_frame['winner_{}_level_history_points_difference'.format(level)], data_frame['loser_{}_level_history_points_difference'.format(level)])\n",
        "        data_frame['lower_ranked_player_{}_level_history_points_difference'.format(level)] = np.where(data_frame['tag']==-1, data_frame['winner_{}_level_history_points_difference'.format(level)], data_frame['loser_{}_level_history_points_difference'.format(level)])\n",
        "\n",
        "        data_frame['higher_ranked_player_{}_level_history_points_difference_normalized'.format(level)] = np.where(data_frame['tag']==1, data_frame['winner_{}_level_history_points_difference_normalized'.format(level)], data_frame['loser_{}_level_history_points_difference_normalized'.format(level)])\n",
        "        data_frame['lower_ranked_player_{}_level_history_points_difference_normalized'.format(level)] = np.where(data_frame['tag']==-1, data_frame['winner_{}_level_history_points_difference_normalized'.format(level)], data_frame['loser_{}_level_history_points_difference_normalized'.format(level)])\n",
        "\n",
        "\n",
        "#         data_frame['higher_ranked_player_{0}_level_history_rank_difference'.format(level)] = np.where(data_frame['winner_rank'] < data_frame['loser_rank'], data_frame['winner_{0}_level_history_rank_difference'.format(level)], data_frame['loser_{0}_level_history_rank_difference'.format(level)])\n",
        "#         data_frame['lower_ranked_player_{0}_level_history_rank_difference'.format(level)] = np.where(data_frame['winner_rank'] > data_frame['loser_rank'], data_frame['winner_{0}_level_history_rank_difference'.format(level)], data_frame['loser_{0}_level_history_rank_difference'.format(level)])\n",
        "\n",
        "\n",
        "        data_frame['higher_ranked_player_{0}_level_history_no_upset_rank_difference'.format(level)] = np.where(data_frame['tag']==1, data_frame['winner_{0}_level_history_no_upset_rank_difference'.format(level)], data_frame['loser_{0}_level_history_no_upset_rank_difference'.format(level)])\n",
        "        data_frame['lower_ranked_player_{0}_level_history_no_upset_rank_difference'.format(level)] = np.where(data_frame['tag']==-1, data_frame['winner_{0}_level_history_no_upset_rank_difference'.format(level)], data_frame['loser_{0}_level_history_no_upset_rank_difference'.format(level)])\n",
        "\n",
        "        \n",
        "        data_frame['higher_ranked_player_{0}_level_history_upset_rank_difference'.format(level)] = np.where(data_frame['tag']==1, data_frame['winner_{0}_level_history_upset_rank_difference'.format(level)], data_frame['loser_{0}_level_history_upset_rank_difference'.format(level)])\n",
        "        data_frame['lower_ranked_player_{0}_level_history_upset_rank_difference'.format(level)] = np.where(data_frame['tag']==-1, data_frame['winner_{0}_level_history_upset_rank_difference'.format(level)], data_frame['loser_{0}_level_history_upset_rank_difference'.format(level)])\n",
        "\n",
        "        \n",
        "        data_frame['higher_ranked_player_{}_level_history_sets_difference'.format(level)] = np.where(data_frame['tag']==1, data_frame['winner_{}_level_history_sets_difference'.format(level)], data_frame['loser_{}_level_history_sets_difference'.format(level)])\n",
        "        data_frame['lower_ranked_player_{}_level_history_sets_difference'.format(level)] = np.where(data_frame['tag']==-1, data_frame['winner_{}_level_history_sets_difference'.format(level)], data_frame['loser_{}_level_history_sets_difference'.format(level)])\n",
        "\n",
        "                \n",
        "        data_frame['higher_ranked_player_winning_percentage'] = np.where(data_frame['tag']==1, data_frame['winner_winning_percentage'], data_frame['loser_winning_percentage'])\n",
        "        data_frame['lower_ranked_player_winning_percentage'] = np.where(data_frame['tag']==-1, data_frame['winner_winning_percentage'], data_frame['loser_winning_percentage'])\n",
        "\n",
        "\n",
        "    data_frame['higher_ranked_player_one_level_history_wins'] = (1+data_frame['higher_ranked_player_one_level_history_outcome'])/2\n",
        "    data_frame['lower_ranked_player_one_level_history_wins'] = (1+data_frame['lower_ranked_player_one_level_history_outcome'])/2\n",
        "    \n",
        "    for i in range(1, len(history_levels)):\n",
        "        data_frame['higher_ranked_player_{}_level_history_wins'.format(history_levels[i])] = data_frame['higher_ranked_player_{}_level_history_wins'.format(history_levels[i-1])]+ (1+data_frame['higher_ranked_player_{}_level_history_outcome'.format(history_levels[i])])/2\n",
        "        data_frame['lower_ranked_player_{}_level_history_wins'.format(history_levels[i])] = data_frame['lower_ranked_player_{}_level_history_wins'.format(history_levels[i-1])]+ (1+data_frame['lower_ranked_player_{}_level_history_outcome'.format(history_levels[i])])/2\n",
        "    \n",
        "    #  data_frame['last_match_sets_difference'][indexes] = data_frame['last_match_sets_difference'][indexes].shift(1)\n",
        "        \n",
        "#         data_frame['higher_ranked_player_{}_level_history_sets_difference'.format(history_levels[i])] = np.where(data_frame['winner_rank'] < data_frame['loser_rank'], data_frame['winner_{}_level_history_sets_difference'.format(history_levels[i])], data_frame['loser_{}_level_history_sets_difference'.format(history_levels[i])])\n",
        "#         data_frame['lower_ranked_player_{}_level_history_sets_difference'.format(history_levels[i])] = np.where(data_frame['winner_rank'] > data_frame['loser_rank'], data_frame['winner_{}_level_history_sets_difference'.format(history_levels[i])], data_frame['loser_{}_level_history_sets_difference'.format(history_levels[i])])\n",
        "\n",
        "\n",
        "    data_frame['higher_ranked_player_games_played'] = np.where(data_frame['tag']==1, data_frame['winner_games_played'], data_frame['loser_games_played'])\n",
        "    data_frame['lower_ranked_player_games_played'] = np.where(data_frame['tag']==-1, data_frame['winner_games_played'], data_frame['loser_games_played'])\n",
        "\n",
        "\n",
        "    data_frame['higher_ranked_player_upsets_for'] = np.where(data_frame['tag']==1, data_frame['winner_upsets_for'], data_frame['loser_upsets_for'])\n",
        "    data_frame['higher_ranked_player_upsets_for_normalized'] = data_frame['higher_ranked_player_upsets_for']/data_frame['higher_ranked_player_games_played']\n",
        "    data_frame['lower_ranked_player_upsets_for'] = np.where(data_frame['tag']==-1, data_frame['winner_upsets_for'], data_frame['loser_upsets_for'])\n",
        "    data_frame['lower_ranked_player_upsets_for_normalized'] = data_frame['lower_ranked_player_upsets_for']/data_frame['lower_ranked_player_games_played']\n",
        "    \n",
        "    data_frame['higher_ranked_player_upsets_against'] = np.where(data_frame['tag']==1, data_frame['winner_upsets_against'], data_frame['loser_upsets_against'])\n",
        "    data_frame['higher_ranked_player_upsets_against_normalized'] = data_frame['higher_ranked_player_upsets_against']/data_frame['higher_ranked_player_games_played']\n",
        "    data_frame['lower_ranked_player_upsets_against'] = np.where(data_frame['tag']==-1, data_frame['winner_upsets_against'], data_frame['loser_upsets_against'])\n",
        "    data_frame['lower_ranked_player_upsets_against_normalized'] = data_frame['lower_ranked_player_upsets_against']/data_frame['lower_ranked_player_games_played']\n",
        "\n",
        "    \n",
        "    data_frame['higher_ranked_player_winning_streak'] = np.where(data_frame['tag']==1, data_frame['winner_winning_streak'], data_frame['loser_winning_streak'])\n",
        "    data_frame['lower_ranked_player_winning_streak'] = np.where(data_frame['tag']==-1, data_frame['winner_winning_streak'], data_frame['loser_winning_streak'])\n",
        "    data_frame['higher_ranked_player_longest_winning_streak'] = np.where(data_frame['tag']==1, data_frame['winner_longest_winning_streak'], data_frame['loser_longest_winning_streak'])\n",
        "    data_frame['lower_ranked_player_longest_winning_streak'] = np.where(data_frame['tag']==-1, data_frame['winner_longest_winning_streak'], data_frame['loser_longest_winning_streak'])\n",
        "       \n",
        "    data_frame['higher_ranked_player_losing_streak'] = np.where(data_frame['tag']==1, data_frame['winner_losing_streak'], data_frame['loser_losing_streak'])\n",
        "    data_frame['lower_ranked_player_losing_streak'] = np.where(data_frame['tag']==-1, data_frame['winner_losing_streak'], data_frame['loser_losing_streak'])\n",
        "    data_frame['higher_ranked_player_longest_losing_streak'] = np.where(data_frame['tag']==1, data_frame['winner_longest_losing_streak'], data_frame['loser_longest_losing_streak'])\n",
        "    data_frame['lower_ranked_player_longest_losing_streak'] = np.where(data_frame['tag']==-1, data_frame['winner_longest_losing_streak'], data_frame['loser_longest_losing_streak'])\n",
        "    \n",
        "    data_frame['higher_ranked_player_longest_winning_streak_minus_current_winning_streak'] = data_frame['higher_ranked_player_longest_winning_streak'] - data_frame['higher_ranked_player_winning_streak']\n",
        "    data_frame['lower_ranked_player_longest_winning_streak_minus_current_winning_streak'] = data_frame['lower_ranked_player_longest_winning_streak'] - data_frame['lower_ranked_player_winning_streak']\n",
        "    data_frame['higher_ranked_player_longest_losing_streak_minus_current_losing_streak'] = data_frame['higher_ranked_player_longest_losing_streak'] - data_frame['higher_ranked_player_losing_streak']\n",
        "    data_frame['lower_ranked_player_longest_losing_streak_minus_current_losing_streak'] =data_frame['lower_ranked_player_longest_losing_streak'] - data_frame['lower_ranked_player_losing_streak']\n",
        "       \n",
        "        \n",
        "    data_frame['higher_ranked_player_last_level_reached'] = np.where(data_frame['tag']==1, data_frame['winner_last_level_reached'], data_frame['loser_last_level_reached'])\n",
        "    data_frame['lower_ranked_player_last_level_reached'] = np.where(data_frame['tag']==-1, data_frame['winner_last_level_reached'], data_frame['loser_last_level_reached'])\n",
        "\n",
        "    data_frame['higher_ranked_player_last_level_reached_minus_current_level'] = data_frame['higher_ranked_player_last_level_reached'] - data_frame['round']\n",
        "    data_frame['lower_ranked_player_last_level_reached_minus_current_level'] = data_frame['lower_ranked_player_last_level_reached'] - data_frame['round']\n",
        "\n",
        "#     data_frame['higher_ranked_player_last_match_points_difference'] = np.where(data_frame['winner_rank'] < data_frame['loser_rank'], data_frame['winner_last_match_points_difference'], data_frame['loser_last_match_points_difference'])\n",
        "#     data_frame['lower_ranked_player_last_match_points_difference'] = np.where(data_frame['winner_rank'] > data_frame['loser_rank'], data_frame['winner_last_match_points_difference'], data_frame['loser_last_match_points_difference'])\n",
        "\n",
        "      \n",
        "    data_frame['higher_ranked_player_last_match_minutes'] = np.where(data_frame['tag']==1, data_frame['winner_last_match_minutes'], data_frame['loser_last_match_minutes'])\n",
        "    data_frame['lower_ranked_player_last_match_minutes'] = np.where(data_frame['tag']==-1, data_frame['winner_last_match_minutes'], data_frame['loser_last_match_minutes'])\n",
        "\n",
        "    \n",
        "    data_frame['winner_upsets_for'][winner_indexes] = np.cumsum(data_frame['player_upsets_for'][winner_indexes].shift(1))\n",
        "    data_frame['loser_upsets_for'][loser_indexes] = np.cumsum(data_frame['player_upsets_against'][loser_indexes].shift(1))\n",
        "      \n",
        "        \n",
        "    data_frame['higher_ranked_player_one_level_history_wins_percentage'] = data_frame['higher_ranked_player_one_level_history_wins'] \n",
        "    data_frame['lower_ranked_player_one_level_history_wins_percentage'] = data_frame['lower_ranked_player_one_level_history_wins']\n",
        "    for i in range(0, len(history_levels)):\n",
        "        data_frame['higher_ranked_player_{}_level_history_wins_percentage'.format(history_levels[i])] = (data_frame['higher_ranked_player_{}_level_history_wins'.format(history_levels[i])])/(i+1)\n",
        "        data_frame['lower_ranked_player_{}_level_history_wins_percentage'.format(history_levels[i])] = (data_frame['lower_ranked_player_{}_level_history_wins'.format(history_levels[i])])/(i+1)\n",
        "\n",
        "    \n",
        "    auxiliary_columns = ['minutes',\n",
        "                         'last_match_outcome', 'last_match_sets', 'last_match_sets_difference', 'last_level_history_rank_difference',\n",
        "                         'player_last_match_points_difference','player_last_match_points_difference_normalized',\n",
        "                         'last_level_upset_rank_difference', 'last_level_no_upset_rank_difference', 'last_level_reached',\n",
        "                         'games_played', 'last_match_points_difference']\n",
        "    \n",
        "    winner_features = [col for col in data_frame.columns if col.startswith('winner')]\n",
        "    loser_features = [col for col in data_frame.columns if col.startswith('loser')]\n",
        "    winner_loser_features = winner_features+ loser_features\n",
        "        \n",
        "#     data_frame.sort_values(by = ['tourney_date','match_num']).to_csv(file_name)\n",
        "\n",
        "    data_frame.drop(auxiliary_columns, axis=1, inplace=True)\n",
        "    data_frame.drop(winner_loser_features, axis=1).sort_values(by = ['tourney_date','match_num']).to_csv(file_name)"
      ],
      "execution_count": null,
      "outputs": []
    },
    {
      "cell_type": "code",
      "metadata": {
        "id": "uu99PMVf8xQ8",
        "outputId": "d03abbfb-61a6-4d0a-cec9-78248e7c82c5"
      },
      "source": [
        "data_base = pd.read_csv('datasets\\manipulated_datasets\\matches_data_1991-2018.csv')\n",
        "\n",
        "start = time.time()\n",
        "\n",
        "data_name = \"datasets\\\\manipulated_datasets\\\\all_matches_with_our_features.csv\"\n",
        "create_history(data_base, data_name)\n",
        "\n",
        "end = time.time()\n",
        "print(end-start)"
      ],
      "execution_count": null,
      "outputs": [
        {
          "output_type": "stream",
          "text": [
            "14147.187840223312\n"
          ],
          "name": "stdout"
        }
      ]
    },
    {
      "cell_type": "code",
      "metadata": {
        "id": "PnJfF3VD8xQ8",
        "outputId": "8141936a-1cce-4d82-de9c-4c0759b2a98e"
      },
      "source": [
        "data_base = pd.read_csv('datasets\\manipulated_datasets\\matches_data_1991-2018.csv')\n",
        "# surfaces = data_base.surface.unique()\n",
        "surfaces = ['Grass', 'Hard']\n",
        "# surfaces = ['Carpet']\n",
        "# surfaces = ['None']\n",
        "# surfaces = ['Clay']\n",
        "\n",
        "for surface in surfaces:\n",
        "    start = time.time()\n",
        "    surface_data_frame = data_base[data_base['surface']==surface]\n",
        "#     surface_data_frame = surface_data_frame[surface_data_frame['minutes'] > 200 ]\n",
        "    surface_data_name = \"datasets\\\\manipulated_datasets\\\\{}_surface_matches.csv\".format(surface)\n",
        "    create_history(surface_data_frame, surface_data_name)\n",
        "    \n",
        "#     surface_data.to_csv(surface_data_name)\n",
        "    \n",
        "    end = time.time()\n",
        "    print(end-start)"
      ],
      "execution_count": null,
      "outputs": [
        {
          "output_type": "stream",
          "text": [
            "1480.6041195392609\n",
            "5991.434074878693\n"
          ],
          "name": "stdout"
        }
      ]
    },
    {
      "cell_type": "code",
      "metadata": {
        "id": "vJXBfIeN8xQ8",
        "outputId": "2d0b4165-5d3b-4f81-887d-e777ebbe95fb"
      },
      "source": [
        "data_base = pd.read_csv('datasets\\manipulated_datasets\\matches_data_1991-2018.csv')\n",
        "# data_base['tourney_name'].value_counts()\n",
        "# tournaments = ['Wimbledon', 'Australian Open', 'Roland Garros', 'US Open']\n",
        "tournaments = ['US Open']\n",
        "\n",
        "\n",
        "for tournament in tournaments:\n",
        "    start = time.time()\n",
        "    tournament_data_frame = data_base[data_base['tourney_name']==tournament]\n",
        "    tournament_data_name = \"datasets\\\\manipulated_datasets\\\\{}_tournament_matches.csv\".format(tournament)\n",
        "    create_history(tournament_data_frame, tournament_data_name)\n",
        "    \n",
        "#     surface_data.to_csv(surface_data_name)\n",
        "    \n",
        "    end = time.time()\n",
        "    print(end-start)"
      ],
      "execution_count": null,
      "outputs": [
        {
          "output_type": "stream",
          "text": [
            "875.9371383190155\n"
          ],
          "name": "stdout"
        }
      ]
    },
    {
      "cell_type": "code",
      "metadata": {
        "id": "k73ZCxfR8xQ8",
        "outputId": "9bd6e3ad-428f-40d0-9db8-d08e2b88dd77"
      },
      "source": [
        "data_base = pd.read_csv('datasets\\manipulated_datasets\\matches_data_1991-2018.csv')\n",
        "# tournament_levels=[['D', 'F', 'C']]\n",
        "# tournament_levels=['M']\n",
        "tournament_levels=['G']#, ['D', 'F', 'C']]\n",
        "\n",
        "for tournament_level in tournament_levels:\n",
        "    start = time.time()\n",
        "    tournament_data_frame = data_base[data_base['tourney_level']==tournament_level]\n",
        "    level_name = \"datasets\\manipulated_datasets\\{}_level_matches.csv\".format(tournament_level)\n",
        "    create_history(tournament_data_frame, level_name)\n",
        "    \n",
        "\n",
        "end = time.time()\n",
        "print(end-start)"
      ],
      "execution_count": null,
      "outputs": [
        {
          "output_type": "stream",
          "text": [
            "1512.3749792575836\n"
          ],
          "name": "stdout"
        }
      ]
    },
    {
      "cell_type": "code",
      "metadata": {
        "id": "qANTTSUX8xQ9",
        "outputId": "c17a8321-f7f2-418e-b49b-cd0f1f34a4ce"
      },
      "source": [
        "data_base[data_base['tourney_level']=='G']['tourney_name'].unique()\n",
        "# grand_slam_tournaments = ['Australian Open', 'Roland Garros', 'Wimbledon', 'US Open', 'Us Open']"
      ],
      "execution_count": null,
      "outputs": [
        {
          "output_type": "execute_result",
          "data": {
            "text/plain": [
              "array(['Australian Open', 'Roland Garros', 'Wimbledon', 'US Open'],\n",
              "      dtype=object)"
            ]
          },
          "metadata": {
            "tags": []
          },
          "execution_count": 30
        }
      ]
    }
  ]
}
