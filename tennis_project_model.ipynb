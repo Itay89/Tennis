{
  "nbformat": 4,
  "nbformat_minor": 0,
  "metadata": {
    "kernelspec": {
      "display_name": "Python 3",
      "language": "python",
      "name": "python3"
    },
    "language_info": {
      "codemirror_mode": {
        "name": "ipython",
        "version": 3
      },
      "file_extension": ".py",
      "mimetype": "text/x-python",
      "name": "python",
      "nbconvert_exporter": "python",
      "pygments_lexer": "ipython3",
      "version": "3.7.7"
    },
    "colab": {
      "name": "tennis_project_model.ipynb",
      "provenance": []
    }
  },
  "cells": [
    {
      "cell_type": "code",
      "metadata": {
        "collapsed": true,
        "id": "c_RO10Yt89Ss"
      },
      "source": [
        "import csv\n",
        "import pandas as pd\n",
        "import numpy as np\n",
        "import statistics\n",
        "import time\n",
        "\n",
        "import matplotlib.pyplot as plt\n",
        "from matplotlib import interactive\n",
        "import matplotlib as mpl\n",
        "%matplotlib inline\n",
        "from sklearn.decomposition import PCA\n",
        "\n",
        "from sklearn.model_selection import train_test_split\n",
        "from sklearn.metrics import classification_report, confusion_matrix\n",
        "from sklearn import linear_model\n",
        "from sklearn.neighbors import NearestNeighbors\n",
        "from sklearn.neighbors import KNeighborsClassifier\n",
        "from sklearn import tree\n",
        "from sklearn import svm\n",
        "from sklearn.svm import SVC\n",
        "from sklearn.ensemble import RandomForestClassifier\n",
        "from sklearn.datasets import make_classification\n",
        "from sklearn.linear_model import LogisticRegression\n",
        "\n",
        "from sklearn.model_selection import cross_val_score\n",
        "from sklearn.model_selection import cross_val_predict\n",
        "from sklearn.decomposition import PCA\n",
        "\n",
        "import random"
      ],
      "execution_count": null,
      "outputs": []
    },
    {
      "cell_type": "markdown",
      "metadata": {
        "id": "ESCaZoyy89Ss"
      },
      "source": [
        "# Naive predictors"
      ]
    },
    {
      "cell_type": "code",
      "metadata": {
        "id": "AL16Dg4N89St",
        "outputId": "147634b2-c855-4266-e10f-915bf466cd07"
      },
      "source": [
        "# Predict by rankings\n",
        "matches_data = pd.read_csv('datasets\\manipulated_datasets\\matches_data_1991-2018.csv')\n",
        "matches_data = matches_data.dropna(subset=['winner_rank', 'loser_rank'])\n",
        "\n",
        "num_of_matches = matches_data.shape[0]\n",
        "matches_data['prediction_outcome'] = np.where(matches_data['winner_rank'] < matches_data['loser_rank'], 1, 0)\n",
        "num_of_matches_succeeded_to_predict = matches_data['prediction_outcome'].sum()\n",
        "\n",
        "\n",
        "print('Num of matches: ', num_of_matches)\n",
        "print('Num of matches predicted successfuly: ', num_of_matches_succeeded_to_predict)\n",
        "print('Predicting rate: ', num_of_matches_succeeded_to_predict/num_of_matches)\n"
      ],
      "execution_count": null,
      "outputs": [
        {
          "output_type": "stream",
          "text": [
            "Num of matches:  88862\n",
            "Num of matches predicted successfuly:  58196\n",
            "Predicting rate:  0.6549031081902276\n"
          ],
          "name": "stdout"
        }
      ]
    },
    {
      "cell_type": "code",
      "metadata": {
        "id": "7FOMqrae89St",
        "outputId": "abe472ea-0d61-4754-cca7-f6010630eeed"
      },
      "source": [
        "# Predict by height\n",
        "matches_data = pd.read_csv('datasets\\manipulated_datasets\\matches_data_1991-2018.csv')\n",
        "matches_data = matches_data.dropna(subset=['winner_height', 'loser_height'])\n",
        "\n",
        "num_of_matches = matches_data.shape[0]\n",
        "matches_data['prediction_outcome'] = np.where(matches_data['winner_height'] > matches_data['loser_height'], 1, 0)\n",
        "num_of_matches_succeeded_to_predict = matches_data['prediction_outcome'].sum()\n",
        "\n",
        "print('Num of matches: ', num_of_matches)\n",
        "print('Num of matches predicted successfuly: ', num_of_matches_succeeded_to_predict)\n",
        "print('Predicting rate: ', num_of_matches_succeeded_to_predict/num_of_matches)"
      ],
      "execution_count": null,
      "outputs": [
        {
          "output_type": "stream",
          "text": [
            "Num of matches:  84742\n",
            "Num of matches predicted successfuly:  39323\n",
            "Predicting rate:  0.4640320030209341\n"
          ],
          "name": "stdout"
        }
      ]
    },
    {
      "cell_type": "code",
      "metadata": {
        "id": "8P4al8By89St",
        "outputId": "320c6dba-d720-4f89-c360-d0c1834a8d15"
      },
      "source": [
        "# Predict by height\n",
        "\n",
        "num_of_matches = matches_data.shape[0]\n",
        "matches_data['prediction_outcome'] = np.where(matches_data['winner_age'] > matches_data['loser_age'], 1, 0)\n",
        "num_of_matches_succeeded_to_predict = matches_data['prediction_outcome'].sum()\n",
        "\n",
        "print('Num of matches: ', num_of_matches)\n",
        "print('Num of matches predicted successfuly: ', num_of_matches_succeeded_to_predict)\n",
        "print('Predicting rate: ', num_of_matches_succeeded_to_predict/num_of_matches)"
      ],
      "execution_count": null,
      "outputs": [
        {
          "output_type": "stream",
          "text": [
            "Num of matches:  84742\n",
            "Num of matches predicted successfuly:  41121\n",
            "Predicting rate:  0.48524934507092116\n"
          ],
          "name": "stdout"
        }
      ]
    },
    {
      "cell_type": "markdown",
      "metadata": {
        "id": "j6SnOrBz89Su"
      },
      "source": [
        "# Learning Algorithms"
      ]
    },
    {
      "cell_type": "code",
      "metadata": {
        "collapsed": true,
        "id": "YQcSVAXs89Su"
      },
      "source": [
        "# pca = PCA(n_components=2)\n",
        "# feature_subset = ['rank_differences', 'player1_height', 'player2_height']\n",
        "# pca_data = pd.read_csv('datasets\\\\manipulated_datasets\\\\player_10_history.csv')\n",
        "# pca_data = pca_data.dropna(subset=feature_subset)\n",
        "# pca.fit(pca_data[feature_subset])\n",
        "# print(pca.components_)"
      ],
      "execution_count": null,
      "outputs": []
    },
    {
      "cell_type": "code",
      "metadata": {
        "collapsed": true,
        "id": "-VsQgAxh89Su"
      },
      "source": [
        "history_levels = [\"one\", \"two\", \"three\", \"four\", \"five\", \"six\", \"seven\", \"eight\", \"nine\", \"ten\",\n",
        "                  \"eleven\", \"twelve\", \"thirteen\", \"fourteen\", \"fifteen\", \"sixteen\", \"seventeen\", \"nineteen\", \"twenty\"]\n",
        "\n",
        "ranks = ['higher_ranked_player_rank', 'lower_ranked_player_rank']\n",
        "\n",
        "rank_difference = ['rank_difference']\n",
        "\n",
        "surface_type = ['surface_Hard', 'surface_Carpet', 'surface_Clay', 'surface_Grass', 'surface_None']\n",
        "\n",
        "ages = ['higher_ranked_player_age', 'lower_ranked_player_age']\n",
        "\n",
        "heights = ['higher_ranked_player_height', 'lower_ranked_player_height']\n",
        "\n",
        "hands = ['higher_ranked_player_hand_L', 'higher_ranked_player_hand_R', 'higher_ranked_player_hand_U', 'lower_ranked_player_hand_L', 'lower_ranked_player_hand_R', 'lower_ranked_player_hand_U']\n"
      ],
      "execution_count": null,
      "outputs": []
    },
    {
      "cell_type": "code",
      "metadata": {
        "collapsed": true,
        "id": "vC_c0ylY89Su"
      },
      "source": [
        "# heights = ['higher_ranked_player_height', 'lower_ranked_player_height']\n",
        "# hands = ['higher_ranked_player_hand_L', 'lower_ranked_player_hand_L',\n",
        "#         'higher_ranked_player_hand_R', 'lower_ranked_player_hand_R',\n",
        "#         'higher_ranked_player_hand_U', 'lower_ranked_player_hand_U']"
      ],
      "execution_count": null,
      "outputs": []
    },
    {
      "cell_type": "code",
      "metadata": {
        "collapsed": true,
        "id": "XluPaGoh89Su"
      },
      "source": [
        "data_base = pd.read_csv('datasets\\manipulated_datasets\\matches_data_1991-2018.csv')\n",
        "\n",
        "data_base['randNumCol'] = np.random.randint(1, 3, data_base.shape[0])\n",
        "\n",
        "higher_ranked_player_features = [col for col in data_base if col.startswith('higher_ranked_player')]\n",
        "lower_ranked_player_features = [col for col in data_base if col.startswith('lower_ranked_player')]\n",
        "\n",
        "# player_1_features = [col.replace('higher_ranked_player','player_1') for col in higher_ranked_player_features]\n",
        "# player_2_features = [col.replace('higher_ranked_player','player_2') for col in higher_ranked_player_features]\n",
        "\n",
        "# features = [higher_ranked_player_features, lower_ranked_player_features, player_1_features, player_2_features]\n",
        "# features = pd.DataFrame(a)\n",
        "# features.shape\n",
        "\n",
        "# for a in features[0]:\n",
        "#     print(a)\n",
        "# player_2_features"
      ],
      "execution_count": null,
      "outputs": []
    },
    {
      "cell_type": "code",
      "metadata": {
        "collapsed": true,
        "id": "6RoC3OED89Sv"
      },
      "source": [
        "# # bankdata = pd.read_csv('datasets\\\\manipulated_datasets\\\\wimbeldon_matches.csv')\n",
        "    \n",
        "# for ind in range(len(higher_ranked_player_features)):\n",
        "#     data_base[player_1_features[ind]] = np.where(data_base['randNumCol'] == 1, data_base[higher_ranked_player_features[ind]], data_base[lower_ranked_player_features[ind]])\n",
        "#     data_base[player_2_features[ind]] = np.where(data_base['randNumCol'] == 1, data_base[lower_ranked_player_features[ind]], data_base[higher_ranked_player_features[ind]])\n"
      ],
      "execution_count": null,
      "outputs": []
    },
    {
      "cell_type": "code",
      "metadata": {
        "collapsed": true,
        "id": "if9tAzyw89Sv"
      },
      "source": [
        "class Prediction_result:\n",
        "    def __init__(self, accuracy, classifier, improvement, y_naive, runtime,\n",
        "                 ones_predicted, minus_ones_predicted, ones_actual, minus_ones_actual):\n",
        "        self.accuracy = accuracy\n",
        "        self.classifier = classifier\n",
        "        self.improvement = improvement\n",
        "        self.y_naive = y_naive\n",
        "        self.runtime = runtime\n",
        "        self.ones_predicted = ones_predicted\n",
        "        self.minus_ones_predicted = minus_ones_predicted\n",
        "        self.ones_actual = ones_actual\n",
        "        self.minus_ones_actual = minus_ones_actual\n",
        "        "
      ],
      "execution_count": null,
      "outputs": []
    },
    {
      "cell_type": "code",
      "metadata": {
        "collapsed": true,
        "id": "0XQJv-ej89Sv"
      },
      "source": [
        "def split_data(data, subset_to_use, start_date, test_date, num_of_years_to_test, close_matches):\n",
        "    \n",
        "   \n",
        "    if close_matches == 'exclude':\n",
        "        indexes_to_use = data['rank_differences'] > 5\n",
        "        data = data[indexes_to_use]\n",
        "    elif close_matches == 'only':\n",
        "        indexes_to_use = data['rank_differences'] <= 5\n",
        "        data = data[indexes_to_use] \n",
        "        \n",
        "    data = data.dropna(subset=subset_to_use)\n",
        "\n",
        "    X = data[subset_to_use]\n",
        "    y = data['tag']\n",
        "    \n",
        "    if (start_date!= None and test_date!=None):\n",
        "        train_indexes = data['tourney_date'].isin(range(start_date,test_date))\n",
        "        test_indexes = data['tourney_date'].isin(range(test_date,test_date+10000*num_of_years_to_test))\n",
        "        X_train = X[train_indexes]\n",
        "        y_train = y[train_indexes]\n",
        "        X_test = X[test_indexes]\n",
        "#         X_test['randNumCol'] = np.random.randint(1, 3, X_test.shape[0])\n",
        "#         winner_features = [col for col in X_test if col.startswith('winner')]\n",
        "#         loser_features = [col for col in X_test if col.startswith('loser')]\n",
        "#         for ind in range(len(winner_features)):\n",
        "#             X_test[winner_features[ind]] = np.where(X_test['randNumCol'] == 1, X_test[winner_features[ind]], X_test[loser_features[ind]])\n",
        "#             X_test[loser_features[ind]] = np.where(X_test['randNumCol'] == 2, X_test[winner_features[ind]], X_test[loser_features[ind]])\n",
        "#         X_test = X_test.drop('randNumCol', axis=1)\n",
        "        y_test = y[test_indexes]\n",
        "        # For DEBUG\n",
        "        X_test.to_csv('datasets\\\\manipulated_datasets\\\\x_test_123.csv')\n",
        "    else:\n",
        "        X_train, X_test, y_train, y_test = train_test_split(X, y, test_size = 0.15)\n",
        "        \n",
        "    return X_train, X_test, y_train, y_test"
      ],
      "execution_count": null,
      "outputs": []
    },
    {
      "cell_type": "code",
      "metadata": {
        "collapsed": true,
        "id": "dZJ6Itg789Sw"
      },
      "source": [
        "def tennis_prediction(file_name, subset_to_use, algorithm, kwargs, start_date=None, test_date=None, num_of_years_to_test=1, close_matches='include', print_results = False, print_naive=False, print_improvement=False):\n",
        "    \n",
        "    start = time.time()\n",
        "    \n",
        "    bankdata = pd.read_csv(file_name, index_col=0)\n",
        "    \n",
        "    X_train, X_test, y_train, y_test = split_data(bankdata, subset_to_use=subset_to_use, start_date=start_date, test_date=test_date, close_matches=close_matches, num_of_years_to_test=num_of_years_to_test)\n",
        "\n",
        "   \n",
        "    if algorithm == 'svm':\n",
        "        classifier = SVC(**kwargs)\n",
        "        \n",
        "    elif algorithm == 'sgd':\n",
        "        classifier = linear_model.SGDClassifier(**kwargs)\n",
        "            \n",
        "    elif algorithm == 'tree':\n",
        "        classifier = tree.DecisionTreeClassifier(**kwargs)\n",
        "        \n",
        "    elif algorithm == 'tree_regression':\n",
        "        classifier = tree.DecisionTreeRegressor(**kwargs)\n",
        "\n",
        "    elif algorithm == 'random_forest':\n",
        "        classifier = RandomForestClassifier(**kwargs)\n",
        "        \n",
        "    elif algorithm == \"regression\":\n",
        "        classifier = LogisticRegression(**kwargs)\n",
        "        \n",
        "    elif algorithm == \"neighbors\":\n",
        "        classifier = KNeighborsClassifier(**kwargs)\n",
        "  \n",
        "    classifier = classifier.fit(X_train, y_train)\n",
        "    y_pred = classifier.predict(X_test)\n",
        "\n",
        "#     y_pred = cross_val_predict(classifier, [X_train, y_train], X_test, n_jobs=-1)\n",
        "    #features = classifier.tree_\n",
        "    \n",
        "    accuracy = 1-(0.5*abs(y_pred-y_test).sum())/len(y_test)\n",
        "    y_naive = y_test.value_counts(1)\n",
        "    improvement = 100*(accuracy-y_naive.iloc[0])\n",
        "    \n",
        "    \n",
        "    games_predicted = len(y_test)\n",
        "    ones_predicted = len(y_pred[y_pred==1])\n",
        "    minus_ones_predicted = len(y_pred[y_pred==-1])\n",
        "    \n",
        "    ones_actual = len(y_test[y_test==1])\n",
        "    minus_ones_actual = len(y_test[y_test==-1])\n",
        "    \n",
        "        \n",
        "    if print_results == True :\n",
        "        print(confusion_matrix(y_test,y_pred))\n",
        "        print(classification_report(y_test,y_pred))\n",
        "\n",
        "        \n",
        "        print (\"Predicted \\\"1\\\" at \", ones_predicted, \" out of \", games_predicted , \"matches, which are {:.2f}%,\".format(100*len(y_pred[y_pred==1])/len(y_test)))\n",
        "        print (\"Predicted \\\"-1\\\" at \", minus_ones_predicted, \" out of \", games_predicted , \"matches, which are {:.2f}%,\".format(100*minus_ones_predicted/games_predicted))\n",
        "        print(\"prediction_outcome = {:.2f}%\".format(100*accuracy))\n",
        "        \n",
        "#     d = [X_test, y_test, y_pred]\n",
        "    results = pd.DataFrame(X_test)\n",
        "    results['y_true'] = y_test\n",
        "    results['y_pred'] = y_pred\n",
        "    results.to_csv('datasets\\\\manipulated_datasets\\\\res.csv')\n",
        "    \n",
        "    end = time.time()\n",
        "    runtime = end-start\n",
        "    \n",
        "    result = Prediction_result(accuracy, classifier, improvement, y_naive[1], runtime,\n",
        "                               ones_predicted, minus_ones_predicted, ones_actual, minus_ones_actual)\n",
        "    \n",
        "    if print_naive:\n",
        "        print(y_naive)\n",
        "#         print(\"The Naive predictor predicted \\\"1\\\" at {:.2f}%,\".format(100*y_naive[1]), \"and \\\"-1\\\" at {:.2f}%,\".format(100*y_naive[-1]))\n",
        "    if print_improvement:\n",
        "        print(\"The Improvement is: {:.2f} %\".format(improvement))\n",
        "#     if algorithm=='svm':\n",
        "#         x_test_confidence = classifier.decision_function(X_test)\n",
        "\n",
        "    return result "
      ],
      "execution_count": null,
      "outputs": []
    },
    {
      "cell_type": "code",
      "metadata": {
        "collapsed": true,
        "id": "r0lqPfWf89Sw"
      },
      "source": [
        "history_levels = [\"one\", \"two\", \"three\", \"four\", \"five\", \"six\", \"seven\", \"eight\", \"nine\", \"ten\",\n",
        "          \"eleven\", \"twelve\", \"thirteen\", \"fourteen\", \"fifteen\", \"sixteen\", \"seventeen\", \"eighteen\", \"nineteen\", \"twenty\"]"
      ],
      "execution_count": null,
      "outputs": []
    },
    {
      "cell_type": "markdown",
      "metadata": {
        "id": "ItRG3Efn89Sw"
      },
      "source": [
        "\n",
        "## Baseline"
      ]
    },
    {
      "cell_type": "code",
      "metadata": {
        "collapsed": true,
        "id": "sXTw-xUm89Sw"
      },
      "source": [
        "file_name =\"datasets\\\\manipulated_datasets\\\\all_matches_with_our_features.csv\"\n",
        "baseline_subset = ranks + rank_difference + ages + heights + hands\n",
        "test_years = [2006, 2008, 2012, 2014, 2016]\n",
        "num_of_train_years = 3"
      ],
      "execution_count": null,
      "outputs": []
    },
    {
      "cell_type": "markdown",
      "metadata": {
        "id": "8du7wgjW89Sw"
      },
      "source": [
        "### SVM"
      ]
    },
    {
      "cell_type": "markdown",
      "metadata": {
        "id": "tMIro6Z789Sw"
      },
      "source": [
        "####      SVM with linear kernel"
      ]
    },
    {
      "cell_type": "code",
      "metadata": {
        "id": "RVtoB7g389Sx",
        "outputId": "68e86113-91a0-4885-b14c-c48cea8ab4d0"
      },
      "source": [
        "svm_coef0_mean_results = []\n",
        "svm_coef0_values = [-0.05, -0.1, 0.1, 0.15]\n",
        "\n",
        "for coef in svm_coef0_values:\n",
        "    svm_coef0_mean_result = 0\n",
        "    for test_year in test_years:  \n",
        "        start_date = (test_year-num_of_train_years)*10000\n",
        "        result = tennis_prediction(file_name, baseline_subset, algorithm='svm',kwargs={'kernel':'linear', 'max_iter':90000, 'coef0':coef}, print_results=False, print_naive=False, start_date=start_date, test_date=test_year*10000, num_of_years_to_test=1)\n",
        "        svm_coef0_mean_result += result.improvement\n",
        "    svm_coef0_mean_result = svm_coef0_mean_result/len(test_years)\n",
        "    svm_coef0_mean_results.append(svm_coef0_mean_result)\n",
        "\n",
        "print('Best value of coef0: ', svm_coef0_values[np.array(svm_coef0_mean_results).argmax()])"
      ],
      "execution_count": null,
      "outputs": [
        {
          "output_type": "stream",
          "text": [
            "C:\\Users\\vakni\\Anaconda3\\lib\\site-packages\\sklearn\\svm\\base.py:218: ConvergenceWarning: Solver terminated early (max_iter=90000).  Consider pre-processing your data with StandardScaler or MinMaxScaler.\n",
            "  % self.max_iter, ConvergenceWarning)\n"
          ],
          "name": "stderr"
        },
        {
          "output_type": "stream",
          "text": [
            "Best value of coef0:  -0.05\n"
          ],
          "name": "stdout"
        }
      ]
    },
    {
      "cell_type": "code",
      "metadata": {
        "id": "Ec-IRe2V89Sx",
        "outputId": "b3b57817-8add-469c-cae2-3842076e60e5"
      },
      "source": [
        "svm_tol_mean_results = []\n",
        "svm_tol_values = [1e-3, 1e-2, 0.1, 1, 10, 100, 1000]\n",
        "\n",
        "for tol_value in svm_tol_values:\n",
        "    svm_tol_mean_result = 0\n",
        "    for test_year in test_years:  \n",
        "        start_date = (test_year-num_of_train_years)*10000\n",
        "        result = tennis_prediction(file_name, baseline_subset, algorithm='svm',kwargs={'kernel':'linear', 'max_iter':90000, 'coef0':-0.05, 'tol':tol_value}, print_results=False, print_naive=False, start_date=start_date, test_date=test_year*10000, num_of_years_to_test=1)\n",
        "        svm_tol_mean_result += result.improvement\n",
        "    svm_tol_mean_result = svm_tol_mean_result/len(test_years)\n",
        "    svm_tol_mean_results.append(svm_tol_mean_result)\n",
        "\n",
        "print('Best value of tol: ', svm_tol_values[np.array(svm_tol_mean_results).argmax()])"
      ],
      "execution_count": null,
      "outputs": [
        {
          "output_type": "stream",
          "text": [
            "C:\\Users\\vakni\\Anaconda3\\lib\\site-packages\\sklearn\\svm\\base.py:218: ConvergenceWarning: Solver terminated early (max_iter=90000).  Consider pre-processing your data with StandardScaler or MinMaxScaler.\n",
            "  % self.max_iter, ConvergenceWarning)\n"
          ],
          "name": "stderr"
        },
        {
          "output_type": "stream",
          "text": [
            "Best value of tol:  10\n"
          ],
          "name": "stdout"
        }
      ]
    },
    {
      "cell_type": "code",
      "metadata": {
        "id": "Joc4t82k89Sx",
        "outputId": "7471c84f-a0f3-4683-acd5-b0551bc420c7"
      },
      "source": [
        "svm_probability_mean_results = []\n",
        "svm_probability_values = [True, False]\n",
        "\n",
        "for probability in svm_probability_values:\n",
        "    svm_probability_mean_result = 0\n",
        "    for test_year in test_years:  \n",
        "        start_date = (test_year-num_of_train_years)*10000\n",
        "        result = tennis_prediction(file_name, baseline_subset, algorithm='svm',kwargs={'kernel':'linear', 'max_iter':90000, 'tol':10, 'probability':probability}, print_results=False, print_naive=False, start_date=start_date, test_date=test_year*10000, num_of_years_to_test=1)\n",
        "        svm_probability_mean_result += result.improvement\n",
        "    svm_probability_mean_result = svm_probability_mean_result/len(test_years)\n",
        "    svm_probability_mean_results.append(svm_probability_mean_result)\n",
        "\n",
        "print('Best value of probability: ', svm_probability_values[np.array(svm_probability_mean_results).argmax()])"
      ],
      "execution_count": null,
      "outputs": [
        {
          "output_type": "stream",
          "text": [
            "Best value of probability:  True\n"
          ],
          "name": "stdout"
        }
      ]
    },
    {
      "cell_type": "markdown",
      "metadata": {
        "id": "5nrIXRcR89Sx"
      },
      "source": [
        "####      SVM with rbf kernel"
      ]
    },
    {
      "cell_type": "code",
      "metadata": {
        "id": "mHLqrm2z89Sx",
        "outputId": "f43c3bd0-dab0-4253-abf3-6da141765e1a"
      },
      "source": [
        "svm_gamma_mean_results = []\n",
        "svm_gamma_values = [1e-6, 1e-5, 1e-4, 1e-3, 1e-2, 0.1, 1, 5, 10, 50, 100, 1e3, 1e4, 1e5, 1e6]\n",
        "\n",
        "for gamma_value in svm_gamma_values:\n",
        "    svm_gamma_mean_result = 0\n",
        "    for test_year in test_years:  \n",
        "        start_date = (test_year-num_of_train_years)*10000\n",
        "        result = tennis_prediction(file_name, baseline_subset, algorithm='svm',kwargs={'kernel':'rbf', 'gamma':gamma_value}, print_results=False, print_naive=False, start_date=start_date, test_date=test_year*10000, num_of_years_to_test=1)\n",
        "        svm_gamma_mean_result += result.improvement\n",
        "    svm_gamma_mean_result = svm_gamma_mean_result/len(test_years)\n",
        "    svm_gamma_mean_results.append(svm_gamma_mean_result)\n",
        "\n",
        "print('Best value of gamma: ', svm_gamma_values[np.array(svm_gamma_mean_results).argmax()])\n"
      ],
      "execution_count": null,
      "outputs": [
        {
          "output_type": "stream",
          "text": [
            "Best value of gamma:  1e-06\n"
          ],
          "name": "stdout"
        }
      ]
    },
    {
      "cell_type": "markdown",
      "metadata": {
        "id": "JL5WM7Jm89Sy"
      },
      "source": [
        "####      SVM with polynomial kernel, gamma, random_state, coef0 "
      ]
    },
    {
      "cell_type": "code",
      "metadata": {
        "id": "Mln7ywIE89Sy",
        "outputId": "88edd304-03c5-4c84-e8cc-24e5c30c30fb"
      },
      "source": [
        "svm_gamma_mean_results = []\n",
        "svm_gamma_values = [1e-6, 1e-3, 1, 1e3, 1e6]\n",
        "\n",
        "for gamma_value in svm_gamma_values:\n",
        "    svm_gamma_mean_result = 0\n",
        "    for test_year in test_years:  \n",
        "        start_date = (test_year-num_of_train_years)*10000\n",
        "        result = tennis_prediction(file_name, baseline_subset, algorithm='svm',kwargs={'kernel':'poly', 'degree':2, 'gamma':gamma_value, 'max_iter':90000}, print_results=False, print_naive=False, start_date=start_date, test_date=test_year*10000, num_of_years_to_test=1)\n",
        "        svm_gamma_mean_result += result.improvement\n",
        "    svm_gamma_mean_result = svm_gamma_mean_result/len(test_years)\n",
        "    svm_gamma_mean_results.append(svm_gamma_mean_result)\n",
        "\n",
        "print('Best value of gamma: ', svm_gamma_values[np.array(svm_gamma_mean_results).argmax()])\n"
      ],
      "execution_count": null,
      "outputs": [
        {
          "output_type": "stream",
          "text": [
            "C:\\Users\\vakni\\Anaconda3\\lib\\site-packages\\sklearn\\svm\\base.py:218: ConvergenceWarning: Solver terminated early (max_iter=90000).  Consider pre-processing your data with StandardScaler or MinMaxScaler.\n",
            "  % self.max_iter, ConvergenceWarning)\n"
          ],
          "name": "stderr"
        },
        {
          "output_type": "stream",
          "text": [
            "Best value of gamma:  1e-06\n"
          ],
          "name": "stdout"
        }
      ]
    },
    {
      "cell_type": "code",
      "metadata": {
        "id": "Gx3L9MHs89Sy",
        "outputId": "47cb968c-a0fd-46cd-ff6c-0922118738ec"
      },
      "source": [
        "svm_tol_mean_results = []\n",
        "svm_tol_values = [1e-3, 1e-2, 0.1, 1, 10, 100, 1000]\n",
        "\n",
        "for tol_value in svm_tol_values:\n",
        "    svm_tol_mean_result = 0\n",
        "    for test_year in test_years:  \n",
        "        start_date = (test_year-num_of_train_years)*10000\n",
        "        result = tennis_prediction(file_name, baseline_subset, algorithm='svm',kwargs={'kernel':'poly', 'degree':2, 'gamma':1e-06 ,'max_iter':90000, 'tol':tol_value}, print_results=False, print_naive=False, start_date=start_date, test_date=test_year*10000, num_of_years_to_test=1)\n",
        "        svm_tol_mean_result += result.improvement\n",
        "    svm_tol_mean_result = svm_tol_mean_result/len(test_years)\n",
        "    svm_tol_mean_results.append(svm_tol_mean_result)\n",
        "\n",
        "print('Best value of tol: ', svm_tol_values[np.array(svm_tol_mean_results).argmax()])"
      ],
      "execution_count": null,
      "outputs": [
        {
          "output_type": "stream",
          "text": [
            "Best value of tol:  10\n"
          ],
          "name": "stdout"
        }
      ]
    },
    {
      "cell_type": "markdown",
      "metadata": {
        "id": "-hoCIZad89Sy"
      },
      "source": [
        "####      SVM with sigmoid kernel, gamma, random_state, coef0 "
      ]
    },
    {
      "cell_type": "markdown",
      "metadata": {
        "id": "2J8XLuRO89Sy"
      },
      "source": [
        "### SGD: loss , max_iter , learning_rate , penalty  and l1_ratio  (they go together),"
      ]
    },
    {
      "cell_type": "code",
      "metadata": {
        "id": "0xHPCw9S89Sy",
        "outputId": "492c1fd0-67fa-4794-c09f-c850d5fd660a"
      },
      "source": [
        "start_date = (2006-num_of_train_years)*10000\n",
        "result = tennis_prediction(file_name, baseline_subset, algorithm='random_forest',kwargs={'random_state':132, 'n_estimators':160,'max_depth':9}, print_results=True, print_naive=True, start_date=start_date, test_date=20060000, num_of_years_to_test=1)"
      ],
      "execution_count": null,
      "outputs": [
        {
          "output_type": "stream",
          "text": [
            "[[  62 1000]\n",
            " [  74 1897]]\n",
            "             precision    recall  f1-score   support\n",
            "\n",
            "         -1       0.46      0.06      0.10      1062\n",
            "          1       0.65      0.96      0.78      1971\n",
            "\n",
            "avg / total       0.59      0.65      0.54      3033\n",
            "\n",
            "Predicted \"1\" at  2897  out of  3033 matches, which are 95.52%,\n",
            "Predicted \"-1\" at  136  out of  3033 matches, which are 4.48%,\n",
            "prediction_outcome = 64.59%\n",
            " 1    0.649852\n",
            "-1    0.350148\n",
            "Name: tag, dtype: float64\n"
          ],
          "name": "stdout"
        }
      ]
    },
    {
      "cell_type": "markdown",
      "metadata": {
        "id": "NP0_77zB89Sz"
      },
      "source": [
        "### Tree"
      ]
    },
    {
      "cell_type": "markdown",
      "metadata": {
        "id": "W_t4jfXR89Sz"
      },
      "source": [
        "#### max_depth"
      ]
    },
    {
      "cell_type": "code",
      "metadata": {
        "id": "bhCl8b8j89Sz",
        "outputId": "3977cdd6-a088-4c56-8a28-21b0b2159598"
      },
      "source": [
        "parameters_mean_results = []\n",
        "parameter_values = [i for i in range(2,20)]\n",
        "\n",
        "for parameter in parameter_values:\n",
        "    parameter_mean_result = 0\n",
        "    for test_year in test_years:  \n",
        "        start_date = (test_year-num_of_train_years)*10000\n",
        "        result = tennis_prediction(file_name, baseline_subset, algorithm='tree',kwargs={'max_depth':parameter}, print_results=False, print_naive=False, start_date=start_date, test_date=test_year*10000, num_of_years_to_test=1)\n",
        "        parameter_mean_result += result.improvement\n",
        "    parameters_mean_results.append(parameter_mean_result/len(test_years))\n",
        "\n",
        "print('Best max_depth value: ', parameter_values[np.array(parameters_mean_results).argmax()])"
      ],
      "execution_count": null,
      "outputs": [
        {
          "output_type": "stream",
          "text": [
            "Best max_depth value:  2\n"
          ],
          "name": "stdout"
        }
      ]
    },
    {
      "cell_type": "markdown",
      "metadata": {
        "id": "yyqhkRIU89Sz"
      },
      "source": [
        "#### random_state"
      ]
    },
    {
      "cell_type": "code",
      "metadata": {
        "id": "I1Cb5BCG89Sz",
        "outputId": "8b40b889-777b-4585-fc7a-2eb8d23cdcd6"
      },
      "source": [
        "parameters_mean_results = []\n",
        "parameter_values = [i for i in range(1,200)]\n",
        "\n",
        "for parameter in parameter_values:\n",
        "    parameter_mean_result = 0\n",
        "    for test_year in test_years:  \n",
        "        start_date = (test_year-num_of_train_years)*10000\n",
        "        result = tennis_prediction(file_name, baseline_subset, algorithm='tree',kwargs={'max_depth':3, 'random_state':parameter}, print_results=False, print_naive=False, start_date=start_date, test_date=test_year*10000, num_of_years_to_test=1)\n",
        "        parameter_mean_result += result.improvement\n",
        "    parameters_mean_results.append(parameter_mean_result/len(test_years))\n",
        "\n",
        "print('Best parameter: ', parameter_values[np.array(parameters_mean_results).argmax()])"
      ],
      "execution_count": null,
      "outputs": [
        {
          "output_type": "stream",
          "text": [
            "Best parameter:  1\n"
          ],
          "name": "stdout"
        }
      ]
    },
    {
      "cell_type": "markdown",
      "metadata": {
        "id": "1tHCb7sh89Sz"
      },
      "source": [
        "### Tree with Regression"
      ]
    },
    {
      "cell_type": "markdown",
      "metadata": {
        "id": "5TcNJl1h89Sz"
      },
      "source": [
        "#### random_state"
      ]
    },
    {
      "cell_type": "code",
      "metadata": {
        "id": "LSl5PcVb89S0",
        "outputId": "66af7d8c-9959-41a3-ed14-8b1ab3f0b128"
      },
      "source": [
        "tree_regression_random_states_mean_results = []\n",
        "tree_regression_random_state_values = [10*i for i in range(0,21)]\n",
        "\n",
        "for random_state_value in tree_regression_random_state_values:\n",
        "    tree_regression_random_state_mean_result = 0\n",
        "    for test_year in test_years:  \n",
        "        start_date = (test_year-num_of_train_years)*10000\n",
        "        result = tennis_prediction(file_name, baseline_subset, algorithm='tree_regression',kwargs={'random_state':random_state_value}, print_results=False, print_naive=False, start_date=start_date, test_date=test_year*10000, num_of_years_to_test=1)\n",
        "        tree_regression_random_state_mean_result += result.improvement\n",
        "    tree_regression_random_state_mean_result = tree_regression_random_state_mean_result/len(test_years)\n",
        "    tree_regression_random_states_mean_results.append(tree_regression_random_state_mean_result)\n",
        "\n",
        "print('Best Random State: ', tree_regression_random_state_values[np.array(tree_regression_random_states_mean_results).argmax()])"
      ],
      "execution_count": null,
      "outputs": [
        {
          "output_type": "stream",
          "text": [
            "Best Random State:  150\n"
          ],
          "name": "stdout"
        }
      ]
    },
    {
      "cell_type": "markdown",
      "metadata": {
        "id": "oKvLtr3Q89S0"
      },
      "source": [
        "#### criterion"
      ]
    },
    {
      "cell_type": "code",
      "metadata": {
        "id": "hfd4jWkh89S0",
        "outputId": "b54a8175-296b-4337-a7cb-5ea051d36d25"
      },
      "source": [
        "tree_regression_criterions_mean_results = []\n",
        "tree_regression_criterion_values = ['mse', 'friedman_mse', 'mae']\n",
        "\n",
        "for criterion_value in tree_regression_criterion_values:\n",
        "    tree_regression_criterion_mean_result = 0\n",
        "    for test_year in test_years:  \n",
        "        start_date = (test_year-num_of_train_years)*10000\n",
        "        result = tennis_prediction(file_name, baseline_subset, algorithm='tree_regression',kwargs={'random_state':150, 'criterion':criterion_value}, print_results=False, print_naive=False, start_date=start_date, test_date=test_year*10000, num_of_years_to_test=1)\n",
        "        tree_regression_criterion_mean_result += result.improvement\n",
        "    tree_regression_criterion_mean_result = tree_regression_criterion_mean_result/len(test_years)\n",
        "    tree_regression_criterions_mean_results.append(tree_regression_criterion_mean_result)\n",
        "\n",
        "print('Best Criterion: ', tree_regression_criterion_values[np.array(tree_regression_criterions_mean_results).argmax()])"
      ],
      "execution_count": null,
      "outputs": [
        {
          "output_type": "stream",
          "text": [
            "Best Criterion:  mse\n"
          ],
          "name": "stdout"
        }
      ]
    },
    {
      "cell_type": "markdown",
      "metadata": {
        "id": "yUgOejf_89S0"
      },
      "source": [
        "#### max_depth"
      ]
    },
    {
      "cell_type": "code",
      "metadata": {
        "id": "foAliUjM89S0",
        "outputId": "d716cfbc-6dd7-44b9-b96e-baa10dc3fdab"
      },
      "source": [
        "tree_regression_max_depths_mean_results = []\n",
        "tree_regression_max_depth_values = [i for i in range(2,20)]\n",
        "\n",
        "for max_depth_value in tree_regression_max_depth_values:\n",
        "    tree_regression_max_depth_mean_result = 0\n",
        "    for test_year in test_years:  \n",
        "        start_date = (test_year-num_of_train_years)*10000\n",
        "        result = tennis_prediction(file_name, baseline_subset, algorithm='tree_regression',kwargs={'random_state':150, 'max_depth':max_depth_value}, print_results=False, print_naive=False, start_date=start_date, test_date=test_year*10000, num_of_years_to_test=1)\n",
        "        tree_regression_max_depth_mean_result += result.improvement\n",
        "    tree_regression_max_depth_mean_result = tree_regression_max_depth_mean_result/len(test_years)\n",
        "    tree_regression_max_depths_mean_results.append(tree_regression_max_depth_mean_result)\n",
        "\n",
        "print('Best max_depth: ', tree_regression_max_depth_values[np.array(tree_regression_max_depths_mean_results).argmax()])"
      ],
      "execution_count": null,
      "outputs": [
        {
          "output_type": "stream",
          "text": [
            "Best max_depth:  8\n"
          ],
          "name": "stdout"
        }
      ]
    },
    {
      "cell_type": "markdown",
      "metadata": {
        "id": "C3JCGKX889S0"
      },
      "source": [
        "### Random Forest"
      ]
    },
    {
      "cell_type": "markdown",
      "metadata": {
        "id": "HS2yPBeN89S0"
      },
      "source": [
        "#### n_estimators"
      ]
    },
    {
      "cell_type": "code",
      "metadata": {
        "id": "1hB6-9CC89S1",
        "outputId": "caf4c4bb-7315-4bfc-b9ac-62dd64ddad28"
      },
      "source": [
        "random_forest_n_estimators_mean_results = []\n",
        "random_forest_n_estimators_values = [i for i in range(2, 30)]\n",
        "\n",
        "for estimators in random_forest_n_estimators_values:\n",
        "    random_forest_n_estimators_mean_result = 0\n",
        "    for test_year in test_years:  \n",
        "        start_date = (test_year-num_of_train_years)*10000\n",
        "        result = tennis_prediction(file_name, baseline_subset, algorithm='random_forest',kwargs={'random_state':83, 'max_depth':3, 'n_estimators':estimators, 'n_jobs':-1}, print_results=False, print_naive=False, start_date=start_date, test_date=test_year*10000, num_of_years_to_test=1)\n",
        "        random_forest_n_estimators_mean_result += result.improvement\n",
        "    random_forest_n_estimators_mean_result = random_forest_n_estimators_mean_result/len(test_years)\n",
        "    random_forest_n_estimators_mean_results.append(random_forest_n_estimators_mean_result)\n",
        "\n",
        "print('Best value of n_estimators: ', random_forest_n_estimators_values[np.array(random_forest_n_estimators_mean_results).argmax()])"
      ],
      "execution_count": null,
      "outputs": [
        {
          "output_type": "stream",
          "text": [
            "Best value of n_estimators:  14\n"
          ],
          "name": "stdout"
        }
      ]
    },
    {
      "cell_type": "markdown",
      "metadata": {
        "id": "YW6-mSWQ89S1"
      },
      "source": [
        "#### max_depth"
      ]
    },
    {
      "cell_type": "code",
      "metadata": {
        "id": "4A0u3rwm89S1",
        "outputId": "1c351cd5-f1c3-4538-b003-36058aa1fbf7"
      },
      "source": [
        "random_forest_max_depths_mean_results = []\n",
        "random_forest_max_depth_values = [i for i in range(2,10)]\n",
        "\n",
        "for max_depth_value in random_forest_max_depth_values:\n",
        "    random_forest_max_depth_mean_result = 0\n",
        "    for test_year in test_years:  \n",
        "        start_date = (test_year-num_of_train_years)*10000\n",
        "        result = tennis_prediction(file_name, baseline_subset, algorithm='random_forest',kwargs={'random_state':83, 'max_depth':max_depth_value, 'n_estimators':14}, print_results=False, print_naive=False, start_date=start_date, test_date=test_year*10000, num_of_years_to_test=1)\n",
        "        random_forest_max_depth_mean_result += result.improvement\n",
        "    random_forest_max_depth_mean_result = random_forest_max_depth_mean_result/len(test_years)\n",
        "    random_forest_max_depths_mean_results.append(random_forest_max_depth_mean_result)\n",
        "\n",
        "print('Best value of max_depth: ', random_forest_max_depth_values[np.array(random_forest_max_depths_mean_results).argmax()])"
      ],
      "execution_count": null,
      "outputs": [
        {
          "output_type": "stream",
          "text": [
            "Best value of max_depth:  5\n"
          ],
          "name": "stdout"
        }
      ]
    },
    {
      "cell_type": "markdown",
      "metadata": {
        "id": "jciNxBQ489S1"
      },
      "source": [
        "#### Random State"
      ]
    },
    {
      "cell_type": "code",
      "metadata": {
        "id": "XRTjGn5389S1",
        "outputId": "4b27ce51-87d7-49ae-daf9-751dc1956f91"
      },
      "source": [
        "random_forest_random_states_mean_results = []\n",
        "random_forest_random_state_values = [i for i in range(1,200)]\n",
        "\n",
        "for random_state_value in random_forest_random_state_values:\n",
        "    random_forest_random_state_mean_result = 0\n",
        "    for test_year in test_years:  \n",
        "        start_date = (test_year-num_of_train_years)*10000\n",
        "        result = tennis_prediction(file_name, baseline_subset, algorithm='random_forest',kwargs={'max_depth':5, 'n_estimators':14, 'random_state':random_state_value}, print_results=False, print_naive=False, start_date=start_date, test_date=test_year*10000, num_of_years_to_test=1)\n",
        "        random_forest_random_state_mean_result += result.improvement\n",
        "    random_forest_random_state_mean_result = random_forest_random_state_mean_result/len(test_years)\n",
        "    random_forest_random_states_mean_results.append(random_forest_random_state_mean_result)\n",
        "\n",
        "print('Best Random State: ', random_forest_random_state_values[np.array(random_forest_random_states_mean_results).argmax()])"
      ],
      "execution_count": null,
      "outputs": [
        {
          "output_type": "stream",
          "text": [
            "Best Random State:  96\n"
          ],
          "name": "stdout"
        }
      ]
    },
    {
      "cell_type": "code",
      "metadata": {
        "id": "Oa8yu_A389S1",
        "outputId": "3e760dcc-5a9c-4bb1-e7f8-b2b8f4cca0fd"
      },
      "source": [
        "random_forest_n_estimators_mean_results"
      ],
      "execution_count": null,
      "outputs": [
        {
          "output_type": "execute_result",
          "data": {
            "text/plain": [
              "[-0.005903853084114896,\n",
              " -0.035157327519199644,\n",
              " -0.026247189133978832,\n",
              " -0.03350452059930564,\n",
              " -0.027826088727629372,\n",
              " -0.0005338644832497685,\n",
              " 0.01978239366963619,\n",
              " 0.013188262446424126,\n",
              " 0.01978239366963619,\n",
              " 0.007135212272564306,\n",
              " 0.007135212272564306,\n",
              " 0.04010586838862018,\n",
              " 0.04724108066118671,\n",
              " 0.04010586838862018,\n",
              " 0.03351173716541034,\n",
              " 0.03351173716541034,\n",
              " 0.01978239366963619,\n",
              " 0.0065941312232142835,\n",
              " 0.0065941312232142835,\n",
              " 0.0065941312232142835,\n",
              " 0.0065941312232142835,\n",
              " 2.220446049250313e-15,\n",
              " 2.220446049250313e-15,\n",
              " 2.220446049250313e-15,\n",
              " 2.220446049250313e-15,\n",
              " 0.0065941312232142835,\n",
              " 2.220446049250313e-15,\n",
              " 2.220446049250313e-15]"
            ]
          },
          "metadata": {
            "tags": []
          },
          "execution_count": 33
        }
      ]
    },
    {
      "cell_type": "markdown",
      "metadata": {
        "id": "TvPXZs7H89S1"
      },
      "source": [
        "### Logistic Regression"
      ]
    },
    {
      "cell_type": "markdown",
      "metadata": {
        "id": "f9mKXZoU89S1"
      },
      "source": [
        "#### solver"
      ]
    },
    {
      "cell_type": "code",
      "metadata": {
        "id": "Ut5NsmfH89S1",
        "outputId": "46b90124-bc80-4302-b1b3-f70756b0cc3e"
      },
      "source": [
        "regression_solver_mean_results = []\n",
        "regression_solver_values = ['newton-cg', 'lbfgs', 'liblinear', 'sag', 'saga']\n",
        "\n",
        "for solver in regression_solver_values:\n",
        "    solver_mean_result = 0\n",
        "    for test_year in test_years:  \n",
        "        start_date = (test_year-num_of_train_years)*10000\n",
        "        result = tennis_prediction(file_name, baseline_subset, algorithm='regression',kwargs={'solver':solver, 'max_iter':1000000}, print_results=False, print_naive=False, print_improvement=False, start_date=start_date, test_date=test_year*10000, num_of_years_to_test=1)\n",
        "        solver_mean_result += result.improvement\n",
        "    regression_solver_mean_results.append(solver_mean_result/len(test_years))\n",
        "\n",
        "print('Best value of solver: ', regression_solver_values[np.array(regression_solver_mean_results).argmax()])"
      ],
      "execution_count": null,
      "outputs": [
        {
          "output_type": "stream",
          "text": [
            "Best value of solver:  newton-cg\n"
          ],
          "name": "stdout"
        }
      ]
    },
    {
      "cell_type": "code",
      "metadata": {
        "id": "tqcX0mji89S2",
        "outputId": "fe4da6a0-6b3c-497c-bb2c-63a6d20ab121"
      },
      "source": [
        "regression_solver_mean_results"
      ],
      "execution_count": null,
      "outputs": [
        {
          "output_type": "execute_result",
          "data": {
            "text/plain": [
              "[-0.13290410750361525,\n",
              " -0.14408336446445347,\n",
              " -0.20891774916799166,\n",
              " -0.17208596503058837,\n",
              " -0.26361080537625314]"
            ]
          },
          "metadata": {
            "tags": []
          },
          "execution_count": 35
        }
      ]
    },
    {
      "cell_type": "markdown",
      "metadata": {
        "id": "sTyV1SVJ89S2"
      },
      "source": [
        "#### penalty : str, ‘l1’, ‘l2’, ‘elasticnet’ or ‘none’"
      ]
    },
    {
      "cell_type": "code",
      "metadata": {
        "id": "hRsF4tkd89S2",
        "outputId": "de3f241e-918a-4132-fb1c-a3623f53f93a"
      },
      "source": [
        "regression_penalty_mean_results = []\n",
        "regression_penalty_values = ['l1', 'l2', 'elasticnet', 'none']\n",
        "\n",
        "for penalty in regression_penalty_values:\n",
        "    penalty_mean_result = 0\n",
        "    for test_year in test_years:  \n",
        "        start_date = (test_year-num_of_train_years)*10000\n",
        "        result = tennis_prediction(file_name, baseline_subset, algorithm='regression',kwargs={'solver':'saga', 'penalty':penalty}, print_results=False, print_naive=False, print_improvement=False, start_date=start_date, test_date=test_year*10000, num_of_years_to_test=1)\n",
        "        penalty_mean_result += result.improvement\n",
        "    regression_penalty_mean_results.append(penalty_mean_result/len(test_years))\n",
        "\n",
        "print('Best value of penalty: ', regression_penalty_values[np.array(regression_penalty_mean_results).argmax()])"
      ],
      "execution_count": null,
      "outputs": [
        {
          "output_type": "stream",
          "text": [
            "C:\\Users\\vakni\\Anaconda3\\lib\\site-packages\\sklearn\\linear_model\\sag.py:326: ConvergenceWarning: The max_iter was reached which means the coef_ did not converge\n",
            "  \"the coef_ did not converge\", ConvergenceWarning)\n"
          ],
          "name": "stderr"
        },
        {
          "output_type": "stream",
          "text": [
            "Best value of penalty:  l2\n"
          ],
          "name": "stdout"
        }
      ]
    },
    {
      "cell_type": "code",
      "metadata": {
        "id": "SfF2BohF89S2",
        "outputId": "76f208b2-0e17-400c-b634-a253ab964560"
      },
      "source": [
        "regression_penalty_mean_results"
      ],
      "execution_count": null,
      "outputs": [
        {
          "output_type": "execute_result",
          "data": {
            "text/plain": [
              "[-0.23134469145310366,\n",
              " -0.18164313723141312,\n",
              " -0.18164313723141312,\n",
              " -0.18164313723141312]"
            ]
          },
          "metadata": {
            "tags": []
          },
          "execution_count": 37
        }
      ]
    },
    {
      "cell_type": "code",
      "metadata": {
        "id": "hDl0kGkz89S2",
        "outputId": "554af0e9-e249-483e-8a35-ee0dfe849a29"
      },
      "source": [
        "regression_tol_mean_results = []\n",
        "regression_tol_values = [1e-3, 1e-2, 1e-1, 1, 10, 100]\n",
        "\n",
        "for tol in regression_tol_values:\n",
        "    tol_mean_result = 0\n",
        "    for test_year in test_years:  \n",
        "        start_date = (test_year-num_of_train_years)*10000\n",
        "        result = tennis_prediction(file_name, baseline_subset, algorithm='regression',kwargs={'tol':tol}, print_results=False, print_naive=False, print_improvement=False, start_date=start_date, test_date=test_year*10000, num_of_years_to_test=1)\n",
        "        tol_mean_result += result.improvement\n",
        "    regression_tol_mean_results.append(tol_mean_result/len(test_years))\n",
        "\n",
        "print('Best value of tol: ', regression_tol_values[np.array(regression_tol_mean_results).argmax()])"
      ],
      "execution_count": null,
      "outputs": [
        {
          "output_type": "stream",
          "text": [
            "Best value of tol:  1\n"
          ],
          "name": "stdout"
        }
      ]
    },
    {
      "cell_type": "code",
      "metadata": {
        "id": "exrEYrbU89S2",
        "outputId": "c01cccff-8ae4-46da-e2f1-b0d2620b302e"
      },
      "source": [
        "regression_tol_mean_results"
      ],
      "execution_count": null,
      "outputs": [
        {
          "output_type": "execute_result",
          "data": {
            "text/plain": [
              "[-0.25876925305996723,\n",
              " -0.2291991927996806,\n",
              " -0.18442418309873032,\n",
              " -0.07686409185015508,\n",
              " -33.79776565570454,\n",
              " -33.79776565570454]"
            ]
          },
          "metadata": {
            "tags": []
          },
          "execution_count": 39
        }
      ]
    },
    {
      "cell_type": "markdown",
      "metadata": {
        "id": "NQDbRgEJ89S2"
      },
      "source": [
        "#### dual or primal"
      ]
    },
    {
      "cell_type": "code",
      "metadata": {
        "id": "YpsVPKlQ89S2",
        "outputId": "11430324-7cb2-4552-b96a-47ed21b9d462"
      },
      "source": [
        "regression_dual_mean_results = []\n",
        "regression_dual_values = [True, False]\n",
        "\n",
        "for dual in regression_dual_values:\n",
        "    dual_mean_result = 0\n",
        "    for test_year in test_years:  \n",
        "        start_date = (test_year-num_of_train_years)*10000\n",
        "        result = tennis_prediction(file_name, baseline_subset, algorithm='regression',kwargs={'tol':0.01,'dual':dual},  print_improvement=False, print_results=False, print_naive=False, start_date=start_date, test_date=test_year*10000, num_of_years_to_test=1)\n",
        "        dual_mean_result += result.improvement\n",
        "    regression_dual_mean_results.append(dual_mean_result/len(test_years))\n",
        "\n",
        "print('Best value of dual: ', regression_dual_values[np.array(regression_dual_mean_results).argmax()])"
      ],
      "execution_count": null,
      "outputs": [
        {
          "output_type": "stream",
          "text": [
            "Best value of dual:  False\n"
          ],
          "name": "stdout"
        }
      ]
    },
    {
      "cell_type": "code",
      "metadata": {
        "id": "5wGhSfNt89S3",
        "outputId": "a82e09b9-a4f5-4c13-e278-7d2ab9d5d03e"
      },
      "source": [
        "# result1 = tennis_prediction(file_name, baseline_subset, algorithm='neighbors',kwargs={'n_neighbors':3}, print_results=True, print_naive=True, start_date=start_date, test_date=test_year*10000, num_of_years_to_test=1)\n",
        "knn_mean_results = []\n",
        "knn_values = [240]\n",
        "for nn in knn_values:\n",
        "    knn_result = 0\n",
        "    for test_year in test_years:  \n",
        "        start_date = (test_year-num_of_train_years)*10000\n",
        "        result = tennis_prediction(file_name, baseline_subset, algorithm='neighbors',kwargs={'n_neighbors':nn, 'algorithm':'brute'},  print_improvement=False, print_results=False, print_naive=False, start_date=start_date, test_date=test_year*10000, num_of_years_to_test=1)\n",
        "        knn_result += result.improvement\n",
        "    knn_mean_results.append(knn_result/len(test_years))\n",
        "\n",
        "print('Best value of dual: ', knn_values[np.array(knn_mean_results).argmax()])"
      ],
      "execution_count": null,
      "outputs": [
        {
          "output_type": "stream",
          "text": [
            "Best value of dual:  240\n"
          ],
          "name": "stdout"
        }
      ]
    },
    {
      "cell_type": "markdown",
      "metadata": {
        "id": "q-D8drGF89S3"
      },
      "source": [
        "#### C"
      ]
    },
    {
      "cell_type": "code",
      "metadata": {
        "id": "RQgAxN2t89S3",
        "outputId": "0ebaeea5-6350-405c-a00a-46ef8ffc9f45"
      },
      "source": [
        "regression_c_mean_results = []\n",
        "regression_c_values = [1e-10,  1e-9, 1e-8, 1e-7, 1e-6, 1e-5, 1e-4, 1e-3, 1e-2]#, 1e-2, 1e-1, 1, 10, 100, 1000]\n",
        "\n",
        "for c in regression_c_values:\n",
        "    c_mean_result = 0\n",
        "    for test_year in test_years:  \n",
        "        start_date = (test_year-num_of_train_years)*10000\n",
        "        result = tennis_prediction(file_name, baseline_subset, algorithm='regression',kwargs={'tol':0.01, 'C':c},  print_improvement=False, print_results=False, print_naive=False, start_date=start_date, test_date=test_year*10000, num_of_years_to_test=1)\n",
        "        c_mean_result += result.improvement\n",
        "    regression_c_mean_results.append(c_mean_result/len(test_years))\n",
        "\n",
        "print('Best value of c: ', regression_c_values[np.array(regression_c_mean_results).argmax()])"
      ],
      "execution_count": null,
      "outputs": [
        {
          "output_type": "stream",
          "text": [
            "Best value of c:  1e-10\n"
          ],
          "name": "stdout"
        }
      ]
    },
    {
      "cell_type": "code",
      "metadata": {
        "id": "RxvdHLIp89S3",
        "outputId": "19312844-0265-42a7-f256-16ba3b6e2e22"
      },
      "source": [
        "regression_c_mean_results"
      ],
      "execution_count": null,
      "outputs": [
        {
          "output_type": "execute_result",
          "data": {
            "text/plain": [
              "[2.220446049250313e-15,\n",
              " 2.220446049250313e-15,\n",
              " 2.220446049250313e-15,\n",
              " -0.028466941764018205,\n",
              " -0.12745190006639984,\n",
              " -0.21610048417056493,\n",
              " -0.2208669158017451,\n",
              " -0.22206398052711407,\n",
              " -0.2291991927996806]"
            ]
          },
          "metadata": {
            "tags": []
          },
          "execution_count": 43
        }
      ]
    },
    {
      "cell_type": "markdown",
      "metadata": {
        "id": "X3KiFZda89S3"
      },
      "source": [
        "# Model Comparison"
      ]
    },
    {
      "cell_type": "code",
      "metadata": {
        "id": "vsBc4KnT89S3",
        "outputId": "cc1b415c-1fcd-431e-92fd-097582edabfe"
      },
      "source": [
        "years = [i for i in range(2010,2010+8)]\n",
        "\n",
        "naive = []\n",
        "\n",
        "svm_baseline_results = []\n",
        "sgd_baseline_results = []\n",
        "tree_baseline_results = []\n",
        "tree_regression_baseline_results = []\n",
        "random_forest_baseline_results = []\n",
        "regression_baseline_results = []\n",
        "\n",
        "\n",
        "improvements = []\n",
        "for year in years:\n",
        "    print(year)\n",
        "    test_date = year*10000\n",
        "    start_date = test_date - 3*10000\n",
        "    \n",
        "    svm_result = tennis_prediction(file_name, baseline_subset, algorithm='svm',kwargs={'kernel':'linear', 'coef0':-0.05, 'max_iter':99999999, 'tol':10, 'probability':True}, print_results=False, print_naive=False, start_date=start_date, test_date=test_date, num_of_years_to_test=1)\n",
        "    sgd_result = tennis_prediction(file_name, baseline_subset, algorithm='sgd',kwargs={'max_iter':999999}, print_results=False, print_naive=False, start_date=start_date, test_date=test_date, num_of_years_to_test=1)\n",
        "    tree_result = tennis_prediction(file_name, baseline_subset, algorithm='tree',kwargs={'max_depth':3, 'random_state':1}, print_results=False, print_naive=False, start_date=start_date, test_date=test_date, num_of_years_to_test=1)\n",
        "    tree_regression_result = tennis_prediction(file_name, baseline_subset, algorithm='tree_regression',kwargs={'random_state':8, 'criterion':'mae', 'max_depth':5}, print_results=False, print_naive=False, start_date=start_date, test_date=test_date, num_of_years_to_test=1)\n",
        "    random_forest_result = tennis_prediction(file_name, baseline_subset, algorithm='random_forest',kwargs={'max_depth':4, 'n_estimators':14, 'random_state':96}, print_results=False, print_naive=False, start_date=start_date, test_date=test_date, num_of_years_to_test=1)\n",
        "    regression_result = tennis_prediction(file_name, baseline_subset, algorithm='regression',kwargs={'tol':0.01}, print_results=False, print_naive=False, start_date=start_date, test_date=test_date, num_of_years_to_test=1)\n",
        "\n",
        "    \n",
        "    print('the improvement is: ', random_forest_result.improvement)\n",
        "    improvements.append(random_forest_result.improvement)\n",
        "    \n",
        "    naive.append(random_forest_result.y_naive)\n",
        "    \n",
        "    svm_baseline_results.append(svm_result)\n",
        "    sgd_baseline_results.append(sgd_result)\n",
        "    tree_baseline_results.append(tree_result)\n",
        "    tree_regression_baseline_results.append(tree_regression_result)\n",
        "    random_forest_baseline_results.append(random_forest_result)\n",
        "    regression_baseline_results.append(regression_result)\n",
        "    \n",
        "\n",
        "    \n",
        "print ('Improvement average: ', statistics.mean(improvements), 'with Standart Deviation of: ', statistics.stdev(improvements) )\n",
        "  "
      ],
      "execution_count": null,
      "outputs": [
        {
          "output_type": "stream",
          "text": [
            "2010\n",
            "the improvement is:  0.06990562740301076\n",
            "2011\n",
            "the improvement is:  0.1403508771929851\n",
            "2012\n",
            "the improvement is:  0.13722126929673895\n",
            "2013\n",
            "the improvement is:  0.3295496155254596\n",
            "2014\n",
            "the improvement is:  -0.11686793922867089\n",
            "2015\n",
            "the improvement is:  0.18853695324283493\n",
            "2016\n",
            "the improvement is:  0.19282684149632967\n",
            "2017\n",
            "the improvement is:  -0.03872966692486379\n",
            "Improvement average:  0.11284919725047804 with Standart Deviation of:  0.14042015352425413\n"
          ],
          "name": "stdout"
        }
      ]
    },
    {
      "cell_type": "markdown",
      "metadata": {
        "id": "Uzn1NC6w89S3"
      },
      "source": [
        "## Graph 1: Accuracy per year for all models"
      ]
    },
    {
      "cell_type": "code",
      "metadata": {
        "id": "gJ0f3fGD89S3",
        "outputId": "b9618843-906b-4a40-ddae-20fbcd1815b7"
      },
      "source": [
        "plt.plot(years, [100*i.y_naive for i in random_forest_baseline_results], 'r')\n",
        "plt.plot(years, [100*i.accuracy for i in svm_baseline_results])\n",
        "plt.plot(years, [100*i.accuracy for i in sgd_baseline_results])\n",
        "plt.plot(years, [100*i.accuracy for i in tree_baseline_results])\n",
        "plt.plot(years, [100*i.accuracy for i in tree_regression_baseline_results])\n",
        "plt.plot(years, [100*i.accuracy for i in random_forest_baseline_results], 'b')\n",
        "plt.plot(years, [100*i.accuracy for i in regression_baseline_results])\n",
        "\n",
        "plt.title('Baseline: Accuracy vs Year')\n",
        "plt.legend(['Naive', 'SVM', 'SGD', 'Tree', 'Tree with Regression', 'Random Forest', 'Logistic Regression'])\n",
        "plt.xlabel('Year of prediction')\n",
        "plt.ylabel('Accuracy[%]')\n",
        "plt.savefig('accuracy_2010-2017_all_models_newest.png', dpi = 300)\n",
        "\n",
        "plt.show()"
      ],
      "execution_count": null,
      "outputs": [
        {
          "output_type": "display_data",
          "data": {
            "image/png": "[encoded data removed]",
            "text/plain": [
              "<matplotlib.figure.Figure at 0x1840efea518>"
            ]
          },
          "metadata": {
            "tags": []
          }
        }
      ]
    },
    {
      "cell_type": "markdown",
      "metadata": {
        "id": "NBRSBb0v89S4"
      },
      "source": [
        "## Graph 2: Improvement per year for all models"
      ]
    },
    {
      "cell_type": "code",
      "metadata": {
        "id": "jjg-nLJp89S4",
        "outputId": "9f00a814-0fea-4ba6-a850-3d018691a4d7"
      },
      "source": [
        "plt.plot(years, [i.improvement for i in svm_baseline_results])\n",
        "plt.plot(years, [i.improvement for i in sgd_baseline_results])\n",
        "plt.plot(years, [i.improvement for i in tree_baseline_results])\n",
        "plt.plot(years, [i.improvement for i in tree_regression_baseline_results])\n",
        "plt.plot(years, [i.improvement for i in random_forest_baseline_results], 'b')\n",
        "plt.plot(years, [i.improvement for i in regression_baseline_results])\n",
        "\n",
        "plt.title('Baseline: Improvement vs Year')\n",
        "plt.legend(['SVM', 'SGD', 'Tree', 'Tree with Regression', 'Random Forest', 'Logistic Regression'])\n",
        "plt.xlabel('Year of prediction')\n",
        "plt.ylabel('Improvement [% Difference]')\n",
        "plt.savefig('improvement_2010-2017_all_models_newest.png', dpi = 300)\n",
        "plt.show()"
      ],
      "execution_count": null,
      "outputs": [
        {
          "output_type": "display_data",
          "data": {
            "image/png": "[encoded data removed]",
            "text/plain": [
              "<matplotlib.figure.Figure at 0x1841526ff98>"
            ]
          },
          "metadata": {
            "tags": []
          }
        }
      ]
    },
    {
      "cell_type": "code",
      "metadata": {
        "collapsed": true,
        "id": "3HT-VQQ689S4"
      },
      "source": [
        ""
      ],
      "execution_count": null,
      "outputs": []
    },
    {
      "cell_type": "markdown",
      "metadata": {
        "id": "yo2-DP6_89S4"
      },
      "source": [
        "## Graph 3: Runtime per year for all models"
      ]
    },
    {
      "cell_type": "code",
      "metadata": {
        "id": "a3jJU4DZ89S4",
        "outputId": "e7be9af4-102f-4f74-ae55-74cfa6de7948"
      },
      "source": [
        "plt.plot(years, [i.runtime for i in svm_baseline_results])\n",
        "plt.plot(years, [i.runtime for i in sgd_baseline_results])\n",
        "plt.plot(years, [i.runtime for i in tree_baseline_results])\n",
        "plt.plot(years, [i.runtime for i in tree_regression_baseline_results])\n",
        "plt.plot(years, [i.runtime for i in random_forest_baseline_results], 'r')\n",
        "plt.plot(years, [i.runtime for i in regression_baseline_results])\n",
        "\n",
        "# plt.plot(years, y_RandomForest)\n",
        "plt.title('Baseline: Runtimes')\n",
        "plt.legend(['SVM', 'SGD', 'Tree', 'Tree with Regression', 'Random Forest', 'Logistic Regression'])\n",
        "plt.xlabel('Year of prediction')\n",
        "plt.ylabel('runtime [seconds]')\n",
        "plt.savefig('runtime_2010-2017_all_models_newest.png', dpi = 300)\n",
        "plt.show()"
      ],
      "execution_count": null,
      "outputs": [
        {
          "output_type": "display_data",
          "data": {
            "image/png": "[encoded data removed]",
            "text/plain": [
              "<matplotlib.figure.Figure at 0x1841526f240>"
            ]
          },
          "metadata": {
            "tags": []
          }
        }
      ]
    },
    {
      "cell_type": "code",
      "metadata": {
        "id": "AuOpohS389S4",
        "outputId": "d71268c9-17c6-4a93-80f3-00adb325cfe6"
      },
      "source": [
        "plt.plot(years, [i.runtime for i in svm_baseline_results])\n",
        "# plt.plot(years, [i.runtime for i in sgd_baseline_results])\n",
        "plt.plot(years, [i.runtime for i in tree_baseline_results])\n",
        "plt.plot(years, [i.runtime for i in tree_regression_baseline_results])\n",
        "plt.plot(years, [i.runtime for i in random_forest_baseline_results], 'b')\n",
        "plt.plot(years, [i.runtime for i in regression_baseline_results])\n",
        "\n",
        "# plt.plot(years, y_RandomForest)\n",
        "plt.title('Baseline: Runtimes without SGD')\n",
        "plt.legend(['SVM', 'Tree', 'Tree with Regression', 'Random Forest', 'Logistic Regression'])\n",
        "plt.xlabel('Year of prediction')\n",
        "plt.ylabel('runtime [seconds]')\n",
        "plt.savefig('runtime_2010-2017_all_models_without_svm_sgd_newest.png', dpi = 300)\n",
        "plt.show()"
      ],
      "execution_count": null,
      "outputs": [
        {
          "output_type": "display_data",
          "data": {
            "image/png": "[encoded data removed]",
            "text/plain": [
              "<matplotlib.figure.Figure at 0x18415bee0b8>"
            ]
          },
          "metadata": {
            "tags": []
          }
        }
      ]
    },
    {
      "cell_type": "markdown",
      "metadata": {
        "id": "LS8Dx--089S4"
      },
      "source": [
        "## Graph 4: Upsets and No-Upsets predicted vs Actual per year for all models"
      ]
    },
    {
      "cell_type": "code",
      "metadata": {
        "id": "hF2dAyvy89S4",
        "outputId": "197079e1-f13b-4501-e5da-926a4512ecda"
      },
      "source": [
        "plt.plot(years, [i.minus_ones_actual for i in random_forest_baseline_results])\n",
        "plt.plot(years, [i.minus_ones_predicted for i in svm_baseline_results])\n",
        "plt.plot(years, [i.minus_ones_predicted for i in sgd_baseline_results])\n",
        "plt.plot(years, [i.minus_ones_predicted for i in tree_baseline_results])\n",
        "plt.plot(years, [i.minus_ones_predicted for i in tree_regression_baseline_results])\n",
        "plt.plot(years, [i.minus_ones_predicted for i in random_forest_baseline_results], 'r')\n",
        "plt.plot(years, [i.minus_ones_predicted for i in regression_baseline_results])\n",
        "\n",
        "# plt.plot(years, y_RandomForest)\n",
        "plt.title('Baseline: Upsets')\n",
        "plt.legend(['In reality', 'SVM', 'SGD', 'Tree', 'Tree with Regression', 'Random Forest', 'Logistic Regression'])\n",
        "plt.xlabel('Year of prediction')\n",
        "plt.ylabel('Num of upsets predicted')\n",
        "plt.savefig('upsets_predicted_2010-2017_all_models_newest.png', dpi = 300)\n",
        "plt.show()"
      ],
      "execution_count": null,
      "outputs": [
        {
          "output_type": "display_data",
          "data": {
            "image/png": "[encoded data removed]",
            "text/plain": [
              "<matplotlib.figure.Figure at 0x18416040978>"
            ]
          },
          "metadata": {
            "tags": []
          }
        }
      ]
    },
    {
      "cell_type": "code",
      "metadata": {
        "id": "OCrrY52789S4",
        "outputId": "936153ee-e4b1-4825-faaa-e1be633e1566"
      },
      "source": [
        "plt.plot(years, [i.minus_ones_actual for i in random_forest_baseline_results])\n",
        "plt.plot(years, [i.minus_ones_predicted for i in svm_baseline_results])\n",
        "plt.plot(years, [i.minus_ones_predicted for i in tree_baseline_results])\n",
        "plt.plot(years, [i.minus_ones_predicted for i in tree_regression_baseline_results])\n",
        "plt.plot(years, [i.minus_ones_predicted for i in random_forest_baseline_results], 'r')\n",
        "plt.plot(years, [i.minus_ones_predicted for i in regression_baseline_results])\n",
        "\n",
        "plt.title('Baseline: Upsets without SGD')\n",
        "plt.legend(['In reality', 'SVM', 'Tree', 'Tree with Regression', 'Random Forest', 'Logistic Regression'])\n",
        "plt.xlabel('Year of prediction')\n",
        "plt.ylabel('minus_ones_predicted')\n",
        "plt.savefig('upsets_predicted_2010-2017_all_models_without_sgd_newest.png', dpi = 300)\n",
        "plt.show()"
      ],
      "execution_count": null,
      "outputs": [
        {
          "output_type": "display_data",
          "data": {
            "image/png": "[encoded data removed]",
            "text/plain": [
              "<matplotlib.figure.Figure at 0x18415ff5048>"
            ]
          },
          "metadata": {
            "tags": []
          }
        }
      ]
    },
    {
      "cell_type": "code",
      "metadata": {
        "id": "dq7BtJYh89S5",
        "outputId": "49177b86-f766-42c3-a351-0d3f379fb3d8"
      },
      "source": [
        "plt.plot(years, [i.ones_actual for i in random_forest_baseline_results])\n",
        "plt.plot(years, [i.ones_predicted for i in svm_baseline_results])\n",
        "plt.plot(years, [i.ones_predicted for i in sgd_baseline_results])\n",
        "plt.plot(years, [i.ones_predicted for i in tree_baseline_results])\n",
        "plt.plot(years, [i.ones_predicted for i in tree_regression_baseline_results])\n",
        "plt.plot(years, [i.ones_predicted for i in random_forest_baseline_results])\n",
        "plt.plot(years, [i.ones_predicted for i in regression_baseline_results])\n",
        "\n",
        "# plt.plot(years, y_RandomForest)\n",
        "plt.title('baseline: ones predicted')\n",
        "plt.legend(['In reality', 'SVM', 'SGD', 'Tree', 'Tree with Regression', 'Random Forest', 'Logistic Regression'])\n",
        "plt.xlabel('Year of prediction')\n",
        "plt.ylabel('ones_predicted')\n",
        "plt.savefig('no_upsets_predicted_2010-2017_all_models_newest.png', dpi = 300)\n",
        "plt.show()"
      ],
      "execution_count": null,
      "outputs": [
        {
          "output_type": "display_data",
          "data": {
            "image/png": "[encoded data removed]",
            "text/plain": [
              "<matplotlib.figure.Figure at 0x18415f26dd8>"
            ]
          },
          "metadata": {
            "tags": []
          }
        }
      ]
    },
    {
      "cell_type": "code",
      "metadata": {
        "id": "JN2CRpbX89S5",
        "outputId": "b842462e-1b6c-497c-8627-9b553ca2e21e"
      },
      "source": [
        "plt.plot(years, [i.ones_actual for i in regression_baseline_results])\n",
        "plt.plot(years, [i.ones_predicted for i in sgd_baseline_results])\n",
        "plt.plot(years, [i.ones_predicted for i in tree_baseline_results])\n",
        "plt.plot(years, [i.ones_predicted for i in tree_regression_baseline_results])\n",
        "plt.plot(years, [i.ones_predicted for i in random_forest_baseline_results])\n",
        "plt.plot(years, [i.ones_predicted for i in regression_baseline_results])\n",
        "\n",
        "# plt.plot(years, y_RandomForest)\n",
        "plt.title('baseline: No Upsets without SVM')\n",
        "plt.legend(['In reality', 'SGD', 'Tree', 'Tree with Regression', 'Random Forest', 'Logistic Regression'])\n",
        "plt.xlabel('Year of prediction')\n",
        "plt.ylabel('ones_predicted')\n",
        "plt.savefig('no_upsets_predicted_2010-2017_without_SVM_newest.png', dpi = 300)\n",
        "plt.show()"
      ],
      "execution_count": null,
      "outputs": [
        {
          "output_type": "display_data",
          "data": {
            "image/png": "[encoded data removed]",
            "text/plain": [
              "<matplotlib.figure.Figure at 0x18416467eb8>"
            ]
          },
          "metadata": {
            "tags": []
          }
        }
      ]
    },
    {
      "cell_type": "markdown",
      "metadata": {
        "id": "Ah9WXuxE89S5"
      },
      "source": [
        "## The Chosen model"
      ]
    },
    {
      "cell_type": "markdown",
      "metadata": {
        "id": "aI7p9Bpv89S5"
      },
      "source": [
        "Random Forest gave the best results and was also the most robust along the years.\n",
        "Furthermore, it had short runtimes and it can be paralleled.\n",
        "Therefore, from now on we will only work with Random Forest."
      ]
    },
    {
      "cell_type": "markdown",
      "metadata": {
        "id": "xK5r3Mii89S5"
      },
      "source": [
        "### Before Division"
      ]
    },
    {
      "cell_type": "code",
      "metadata": {
        "id": "spy4AcVL89S5",
        "outputId": "5b2ac10e-7c45-4bae-98a1-3e5c61cbed03"
      },
      "source": [
        "# Best run for all matches \n",
        "\n",
        "file_name = \"datasets\\\\manipulated_datasets\\\\all_matches_with_our_features.csv\"\n",
        "my_data = pd.read_csv(file_name)\n",
        "subset =        ranks+ages+[\n",
        "                'higher_ranked_player_winning_streak', 'lower_ranked_player_winning_streak',\n",
        "                'higher_ranked_player_longest_winning_streak', 'lower_ranked_player_longest_winning_streak',\n",
        "                'higher_ranked_player_winning_percentage', 'lower_ranked_player_winning_percentage',\n",
        "                'higher_ranked_player_last_level_reached', 'lower_ranked_player_last_level_reached',\n",
        "                'higher_ranked_player_upsets_against',\n",
        "                'higher_ranked_player_one_level_history_no_upset_rank_difference', 'lower_ranked_player_one_level_history_no_upset_rank_difference',\n",
        "\n",
        "]\n",
        "\n",
        "years = [i for i in range(2006,2006+12)]\n",
        "\n",
        "model_results = []\n",
        "for year in years:\n",
        "    print(year)\n",
        "    test_date = year*10000\n",
        "    start_date = test_date - 9*10000\n",
        "    result = tennis_prediction(file_name, subset, algorithm='random_forest', kwargs={'random_state':49,'n_estimators':160,'max_depth':9}, print_results=False, print_naive=False, start_date=start_date, test_date=test_date, num_of_years_to_test=1)\n",
        "    print('the improvement is: ', result.improvement)\n",
        "    model_results.append(result)\n",
        "    \n",
        "print ('Accuracy average: ', statistics.mean([100*i.accuracy for i in model_results]), 'with Standart Deviation of: ', statistics.stdev([100*i.accuracy for i in model_results]) )\n",
        "print ('Improvement average: ', statistics.mean([i.improvement for i in model_results]), 'with Standart Deviation of: ', statistics.stdev([i.improvement for i in model_results]) )\n"
      ],
      "execution_count": null,
      "outputs": [
        {
          "output_type": "stream",
          "text": [
            "2006\n",
            "the improvement is:  1.2894906511927706\n",
            "2007\n",
            "the improvement is:  2.546959567016871\n",
            "2008\n",
            "the improvement is:  0.8287292817679592\n",
            "2009\n",
            "the improvement is:  1.6846361185983816\n",
            "2010\n",
            "the improvement is:  2.275815217391308\n",
            "2011\n",
            "the improvement is:  2.0783645655877314\n",
            "2012\n",
            "the improvement is:  2.164502164502158\n",
            "2013\n",
            "the improvement is:  1.5861825872400481\n",
            "2014\n",
            "the improvement is:  1.5544041450777257\n",
            "2015\n",
            "the improvement is:  2.2338568935427516\n",
            "2016\n",
            "the improvement is:  1.3083451202263063\n",
            "2017\n",
            "the improvement is:  1.4013654329859904\n",
            "Accuracy average:  67.81101303405221 with Standart Deviation of:  1.1921647038303482\n",
            "Improvement average:  1.746054312094167 with Standart Deviation of:  0.5109680838223962\n"
          ],
          "name": "stdout"
        }
      ]
    },
    {
      "cell_type": "code",
      "metadata": {
        "id": "43sCcG-s89S5",
        "outputId": "4f3c1756-d14d-45bd-e154-93f058374b16"
      },
      "source": [
        "plt.title('All matches - Accuracy vs Year')\n",
        "plt.plot(years, [100*i.y_naive for i in model_results])\n",
        "plt.plot(years, [100*i.accuracy for i in model_results])\n",
        "plt.legend(['Naive', 'Our Model'])\n",
        "plt.xlabel('Year of prediction')\n",
        "plt.ylabel('Accuracy [%]')\n",
        "plt.savefig('All_matches_matches_Accuracy_2006-2017.png', dpi = 300)\n",
        "plt.show()"
      ],
      "execution_count": null,
      "outputs": [
        {
          "output_type": "display_data",
          "data": {
            "image/png": "[encoded data removed]",
            "text/plain": [
              "<matplotlib.figure.Figure at 0x18415357f98>"
            ]
          },
          "metadata": {
            "tags": []
          }
        }
      ]
    },
    {
      "cell_type": "code",
      "metadata": {
        "id": "FdQhA-1W89S5",
        "outputId": "4a6b34d5-eb72-4535-9802-e8a80a73b5da"
      },
      "source": [
        "plt.title('All matches - Improvemenr vs Year')\n",
        "plt.plot(years, [i.improvement for i in model_results])\n",
        "plt.xlabel('Year of prediction')\n",
        "plt.ylabel('Improvement [% Difference]')\n",
        "plt.savefig('All_matches_matches_Improvement_2006-2017.png', dpi = 300)\n",
        "plt.show()"
      ],
      "execution_count": null,
      "outputs": [
        {
          "output_type": "display_data",
          "data": {
            "image/png": "[encoded data removed]",
            "text/plain": [
              "<matplotlib.figure.Figure at 0x18414de9ef0>"
            ]
          },
          "metadata": {
            "tags": []
          }
        }
      ]
    },
    {
      "cell_type": "code",
      "metadata": {
        "collapsed": true,
        "id": "iL5h6IQ789S6"
      },
      "source": [
        ""
      ],
      "execution_count": null,
      "outputs": []
    },
    {
      "cell_type": "markdown",
      "metadata": {
        "id": "ACrRalbA89S6"
      },
      "source": [
        "## Division By surface type"
      ]
    },
    {
      "cell_type": "markdown",
      "metadata": {
        "id": "6dEFSrQM89S6"
      },
      "source": [
        "All features are created for matches on a specific surface¶"
      ]
    },
    {
      "cell_type": "markdown",
      "metadata": {
        "id": "4kmjk4k289S6"
      },
      "source": [
        "### Grass"
      ]
    },
    {
      "cell_type": "code",
      "metadata": {
        "id": "4M7-PsWG89S6",
        "outputId": "b9cec492-9e50-4cec-86e6-d08165048d48"
      },
      "source": [
        "# try to find the best 'n_estimators'\n",
        "# Show Maor the results!!!!\n",
        "file_name = \"datasets\\\\manipulated_datasets\\\\Grass_surface_matches.csv\"\n",
        "my_data = pd.read_csv(file_name)\n",
        "subset =        ranks+ages+[\n",
        "                'higher_ranked_player_winning_streak', \n",
        "                'lower_ranked_player_winning_streak',\n",
        "    \n",
        "                'higher_ranked_player_longest_winning_streak',\n",
        "                'lower_ranked_player_longest_winning_streak',\n",
        "    \n",
        "                'higher_ranked_player_losing_streak',\n",
        "                'lower_ranked_player_losing_streak',\n",
        "#                 'higher_ranked_player_max_losing_streak', 'lower_ranked_player_max_losing_streak',\n",
        "    \n",
        "                'higher_ranked_player_one_level_history_outcome', 'lower_ranked_player_one_level_history_outcome',\n",
        "#                 'higher_ranked_player_twenty_level_history_wins_percentage', 'lower_ranked_player_twenty_level_history_wins_percentage',\n",
        "#                 'higher_ranked_player_three_level_history_outcome', 'lower_ranked_player_three_level_history_outcome',\n",
        "                'higher_ranked_player_winning_percentage', 'lower_ranked_player_winning_percentage',\n",
        "                'higher_ranked_player_last_level_reached', 'lower_ranked_player_last_level_reached',\n",
        "                'higher_ranked_player_one_level_history_no_upset_rank_difference', 'lower_ranked_player_one_level_history_no_upset_rank_difference',\n",
        "                'higher_ranked_player_one_level_history_upset_rank_difference', 'lower_ranked_player_one_level_history_upset_rank_difference',    \n",
        "                \n",
        "#                 'higher_ranked_player_four_level_history_wins_percentage', 'lower_ranked_player_four_level_history_wins_percentage',\n",
        "#                 'higher_ranked_player_one_level_history_sets_difference', 'lower_ranked_player_one_level_history_sets_difference',\n",
        "#                 'higher_ranked_player_one_level_history_points_difference', 'lower_ranked_player_one_level_history_points_difference',\n",
        "#                 'higher_ranked_player_three_level_history_no_upset_rank_difference', 'lower_ranked_player_three_level_history_no_upset_rank_difference',\n",
        "    \n",
        "#     'higher_ranked_player_upsets_for',\n",
        "#     'higher_ranked_player_upsets_for_normalized',\n",
        "#     'higher_ranked_player_upsets_against',\n",
        "    \n",
        "\n",
        "]\n",
        "\n",
        "years = [i for i in range(2001,2001+17)]\n",
        "naive = []\n",
        "Grass_results = []\n",
        "\n",
        "improvements = []\n",
        "for year in years:\n",
        "    print(year)\n",
        "    test_date =year*10000\n",
        "    start_date = test_date - 9*10000\n",
        "    result = tennis_prediction(file_name, subset, algorithm='random_forest',kwargs={'random_state':49,'n_estimators':160,'max_depth':9}, print_results=False, print_naive=False, start_date=start_date, test_date=test_date, num_of_years_to_test=1)\n",
        "    print('the improvement is: ', result.improvement)\n",
        "    Grass_results.append(result)\n",
        "\n",
        "print ('Accuracy average: ', statistics.mean([100*i.accuracy for i in Grass_results]), 'with Standart Deviation of: ', statistics.stdev([100*i.accuracy for i in Grass_results]) )\n",
        "print ('Improvement average: ', statistics.mean([i.improvement for i in Grass_results]), 'with Standart Deviation of: ', statistics.stdev([i.improvement for i in Grass_results]) )"
      ],
      "execution_count": null,
      "outputs": [
        {
          "output_type": "stream",
          "text": [
            "2001\n",
            "the improvement is:  4.379562043795615\n",
            "2002\n",
            "the improvement is:  4.230769230769238\n",
            "2003\n",
            "the improvement is:  7.722007722007717\n",
            "2004\n",
            "the improvement is:  5.263157894736848\n",
            "2005\n",
            "the improvement is:  1.754385964912275\n",
            "2006\n",
            "the improvement is:  8.041958041958042\n",
            "2007\n",
            "the improvement is:  0.7194244604316502\n",
            "2008\n",
            "the improvement is:  4.395604395604402\n",
            "2009\n",
            "the improvement is:  1.7985611510791366\n",
            "2010\n",
            "the improvement is:  0.390625\n",
            "2011\n",
            "the improvement is:  -0.6944444444444531\n",
            "2012\n",
            "the improvement is:  2.3880597014925398\n",
            "2013\n",
            "the improvement is:  6.716417910447758\n",
            "2014\n",
            "the improvement is:  1.5151515151515138\n",
            "2015\n",
            "the improvement is:  1.661129568106312\n",
            "2016\n",
            "the improvement is:  2.006688963210701\n",
            "2017\n",
            "the improvement is:  2.8469750889679735\n",
            "Accuracy average:  68.74612230714672 with Standart Deviation of:  2.1821990818593906\n",
            "Improvement average:  3.2432961298957217 with Standart Deviation of:  2.5623165044338374\n"
          ],
          "name": "stdout"
        }
      ]
    },
    {
      "cell_type": "code",
      "metadata": {
        "id": "1Fmfqgm089S6",
        "outputId": "94d2a60b-d950-47df-a62b-e3078fcac3d9"
      },
      "source": [
        "plt.title('Grass matches - Accuracy vs Year')\n",
        "plt.plot(years, [100*i.y_naive for i in Grass_results])\n",
        "plt.plot(years, [100*i.accuracy for i in Grass_results])\n",
        "plt.legend(['Naive', 'Our Model'])\n",
        "plt.xlabel('Year of prediction')\n",
        "plt.ylabel('Accuracy [%]')\n",
        "plt.savefig('Grass_matches_Accuracy_2001-2017.png', dpi = 300)\n",
        "plt.show()"
      ],
      "execution_count": null,
      "outputs": [
        {
          "output_type": "display_data",
          "data": {
            "image/png": "[encoded data removed]",
            "text/plain": [
              "<matplotlib.figure.Figure at 0x18415001908>"
            ]
          },
          "metadata": {
            "tags": []
          }
        }
      ]
    },
    {
      "cell_type": "code",
      "metadata": {
        "id": "at3P6aa489S6",
        "outputId": "26a5db62-7b80-4fd3-bd25-f70adf820584"
      },
      "source": [
        "plt.title('Grass matches - Improvement vs Year')\n",
        "plt.plot(years, [i.improvement for i in Grass_results])\n",
        "plt.xlabel('Year of prediction')\n",
        "plt.ylabel('Improvement [% Difference]')\n",
        "plt.savefig('Grass_matches_Improvement_2001-2017.png', dpi = 300)\n",
        "plt.show()"
      ],
      "execution_count": null,
      "outputs": [
        {
          "output_type": "display_data",
          "data": {
            "image/png": "[encoded data removed]",
            "text/plain": [
              "<matplotlib.figure.Figure at 0x18416525cc0>"
            ]
          },
          "metadata": {
            "tags": []
          }
        }
      ]
    },
    {
      "cell_type": "markdown",
      "metadata": {
        "id": "4Il_MJM689S6"
      },
      "source": [
        "## Hard"
      ]
    },
    {
      "cell_type": "code",
      "metadata": {
        "id": "dfZkTYCl89S6",
        "outputId": "7ce5fcf6-647f-4cbb-c906-31690b35abc7"
      },
      "source": [
        "# try to find the best 'n_estimators'\n",
        "# Show Maor the results!!!!\n",
        "#Hard\n",
        "file_name = \"datasets\\\\manipulated_datasets\\\\Hard_surface_matches.csv\"\n",
        "my_data = pd.read_csv(file_name)\n",
        "subset =    ranks+hands+ages+[\n",
        "                'higher_ranked_player_winning_streak', 'lower_ranked_player_winning_streak',\n",
        "                'higher_ranked_player_longest_winning_streak', 'lower_ranked_player_longest_winning_streak',\n",
        "                'higher_ranked_player_one_level_history_outcome', 'lower_ranked_player_one_level_history_outcome',\n",
        "                'higher_ranked_player_winning_percentage', 'lower_ranked_player_winning_percentage',\n",
        "                'higher_ranked_player_last_level_reached', 'lower_ranked_player_last_level_reached',\n",
        "                'higher_ranked_player_one_level_history_no_upset_rank_difference', 'lower_ranked_player_one_level_history_no_upset_rank_difference',\n",
        "                'higher_ranked_player_one_level_history_points_difference', 'lower_ranked_player_one_level_history_points_difference',\n",
        "                'higher_ranked_player_upsets_for',\n",
        "                'lower_ranked_player_upsets_for',\n",
        "                'higher_ranked_player_upsets_against',\n",
        "                'lower_ranked_player_upsets_against',\n",
        "                'lower_ranked_player_last_level_reached_minus_current_level',\n",
        "]\n",
        "\n",
        "years = [i for i in range(2006,2006+12)]\n",
        "Hard_results = []\n",
        "for year in years:\n",
        "    print(year)\n",
        "    test_date = year*10000\n",
        "    start_date = test_date - 9*10000\n",
        "    result = tennis_prediction(file_name, subset, algorithm='random_forest',kwargs={'random_state':49,'n_estimators':160,'max_depth':9}, print_results=False, print_naive=False, start_date=start_date, test_date=test_date, num_of_years_to_test=1)\n",
        "    print('the improvement is: ', result.improvement)\n",
        "    Hard_results.append(result)\n",
        "    \n",
        "print ('Accuracy average: ', statistics.mean([100*i.accuracy for i in Hard_results]), 'with Standart Deviation of: ', statistics.stdev([100*i.accuracy for i in Hard_results]) )\n",
        "print ('Improvement average: ', statistics.mean([i.improvement for i in Hard_results]), 'with Standart Deviation of: ', statistics.stdev([i.improvement for i in Hard_results]) )"
      ],
      "execution_count": null,
      "outputs": [
        {
          "output_type": "stream",
          "text": [
            "2006\n",
            "the improvement is:  1.96629213483146\n",
            "2007\n",
            "the improvement is:  3.073140749846337\n",
            "2008\n",
            "the improvement is:  2.2696929238985364\n",
            "2009\n",
            "the improvement is:  1.7879161528976617\n",
            "2010\n",
            "the improvement is:  2.055622732769058\n",
            "2011\n",
            "the improvement is:  2.5246305418719195\n",
            "2012\n",
            "the improvement is:  2.6897788404064538\n",
            "2013\n",
            "the improvement is:  1.8832391713747731\n",
            "2014\n",
            "the improvement is:  1.671309192200554\n",
            "2015\n",
            "the improvement is:  1.9030079803560418\n",
            "2016\n",
            "the improvement is:  0.8604794099569824\n",
            "2017\n",
            "the improvement is:  2.0077720207253957\n",
            "Accuracy average:  68.52211733355396 with Standart Deviation of:  1.1718332610852813\n",
            "Improvement average:  2.0577401542612646 with Standart Deviation of:  0.5571229444592285\n"
          ],
          "name": "stdout"
        }
      ]
    },
    {
      "cell_type": "code",
      "metadata": {
        "id": "QIWGbj9t89S7",
        "outputId": "4522a1f5-eb20-46f0-f9cf-99ae4bf667a6"
      },
      "source": [
        "plt.title('Hard matches - Accuracy vs Year')\n",
        "plt.plot(years, [100*i.y_naive for i in Hard_results], 'b')\n",
        "plt.plot(years, [100*i.accuracy for i in Hard_results], 'g')\n",
        "plt.legend(['Naive', 'Our Model'])\n",
        "plt.xlabel('Year of prediction')\n",
        "plt.ylabel('Accuracy[%]')\n",
        "plt.savefig('Hard_matches_Accuracy_2006-2017.png', dpi = 300)\n",
        "plt.show()"
      ],
      "execution_count": null,
      "outputs": [
        {
          "output_type": "display_data",
          "data": {
            "image/png": "[encoded data removed]",
            "text/plain": [
              "<matplotlib.figure.Figure at 0x18414d483c8>"
            ]
          },
          "metadata": {
            "tags": []
          }
        }
      ]
    },
    {
      "cell_type": "code",
      "metadata": {
        "id": "wt8O6OKy89S7",
        "outputId": "b463542c-8461-4359-a729-87eef2a654e6"
      },
      "source": [
        "plt.title('Hard matches - Improvement vs Year')\n",
        "plt.plot(years, [i.improvement for i in Hard_results])\n",
        "plt.xlabel('Year of prediction')\n",
        "plt.ylabel('Improvement [% Difference]')\n",
        "plt.savefig('Hard_matches_Improvement_2006-2017.png', dpi = 300)\n",
        "plt.show()"
      ],
      "execution_count": null,
      "outputs": [
        {
          "output_type": "display_data",
          "data": {
            "image/png": "[encoded data removed]",
            "text/plain": [
              "<matplotlib.figure.Figure at 0x18414ec0550>"
            ]
          },
          "metadata": {
            "tags": []
          }
        }
      ]
    },
    {
      "cell_type": "markdown",
      "metadata": {
        "id": "kHq83Tvd89S7"
      },
      "source": [
        "## Clay"
      ]
    },
    {
      "cell_type": "code",
      "metadata": {
        "id": "Rt1C5oaU89S7",
        "outputId": "45c42a58-d674-4518-c2da-9bd509623c90"
      },
      "source": [
        "# try to find the best 'n_estimators'\n",
        "# Show Maor the results!!!!\n",
        "#Clay\n",
        "file_name = \"datasets\\\\manipulated_datasets\\\\Clay_surface_matches.csv\"\n",
        "my_data = pd.read_csv(file_name)\n",
        "subset =        ranks+ages+hands+[\n",
        "                'higher_ranked_player_winning_streak', 'lower_ranked_player_winning_streak',\n",
        "                'higher_ranked_player_longest_winning_streak', 'lower_ranked_player_longest_winning_streak',\n",
        "        \n",
        "#                 'higher_ranked_player_three_level_history_outcome', 'lower_ranked_player_three_level_history_outcome',\n",
        "                'higher_ranked_player_winning_percentage', 'lower_ranked_player_winning_percentage',\n",
        "                'higher_ranked_player_last_level_reached', 'lower_ranked_player_last_level_reached',\n",
        "    \n",
        "#                 'higher_ranked_player_four_level_history_wins_percentage', 'lower_ranked_player_four_level_history_wins_percentage',\n",
        "#                 'higher_ranked_player_one_level_history_sets_difference', 'lower_ranked_player_one_level_history_sets_difference',\n",
        "#                 'higher_ranked_player_one_level_history_points_difference', 'lower_ranked_player_one_level_history_points_difference',\n",
        "#                 'higher_ranked_player_three_level_history_no_upset_rank_difference', 'lower_ranked_player_three_level_history_no_upset_rank_difference',\n",
        "\n",
        "]\n",
        "\n",
        "years = [i for i in range(2001,2001+17)]\n",
        "Clay_results = []\n",
        "for year in years:\n",
        "    print(year)\n",
        "    test_date =year*10000\n",
        "    start_date = test_date - 10*10000\n",
        "    result = tennis_prediction(file_name, subset, algorithm='random_forest',kwargs={'random_state':49,'n_estimators':160,'max_depth':7}, print_results=False, print_naive=False, start_date=start_date, test_date=test_date, num_of_years_to_test=1)\n",
        "    print('the improvement is: ', result.improvement)\n",
        "    Clay_results.append(result)\n",
        "\n",
        "print ('Accuracy average: ', statistics.mean([100*i.accuracy for i in Clay_results]), 'with Standart Deviation of: ', statistics.stdev([100*i.accuracy for i in Clay_results]) )\n",
        "print ('Improvement average: ', statistics.mean([i.improvement for i in Clay_results]), 'with Standart Deviation of: ', statistics.stdev([i.improvement for i in Clay_results]) )"
      ],
      "execution_count": null,
      "outputs": [
        {
          "output_type": "stream",
          "text": [
            "2001\n",
            "the improvement is:  1.5252621544327938\n",
            "2002\n",
            "the improvement is:  2.0854021847070525\n",
            "2003\n",
            "the improvement is:  1.7804154302670572\n",
            "2004\n",
            "the improvement is:  2.259332023575644\n",
            "2005\n",
            "the improvement is:  3.513770180436837\n",
            "2006\n",
            "the improvement is:  1.6283524904214475\n",
            "2007\n",
            "the improvement is:  3.2291666666666607\n",
            "2008\n",
            "the improvement is:  1.0427528675703845\n",
            "2009\n",
            "the improvement is:  1.0741138560687369\n",
            "2010\n",
            "the improvement is:  2.986725663716805\n",
            "2011\n",
            "the improvement is:  0.5364806866952843\n",
            "2012\n",
            "the improvement is:  1.76795580110497\n",
            "2013\n",
            "the improvement is:  1.9340159271899915\n",
            "2014\n",
            "the improvement is:  1.6786570743405393\n",
            "2015\n",
            "the improvement is:  1.7709563164108544\n",
            "2016\n",
            "the improvement is:  2.1013597033374576\n",
            "2017\n",
            "the improvement is:  0.7407407407407418\n",
            "Accuracy average:  66.74008396990175 with Standart Deviation of:  2.2523673374183923\n",
            "Improvement average:  1.8620858686872506 with Standart Deviation of:  0.8164059742553483\n"
          ],
          "name": "stdout"
        }
      ]
    },
    {
      "cell_type": "code",
      "metadata": {
        "id": "_tdFTX2h89S7",
        "outputId": "b62bd377-b1cd-479b-e959-70c361172458"
      },
      "source": [
        "plt.title('Clay matches - Accuracy vs Year')\n",
        "plt.plot(years, [100*i.y_naive for i in Clay_results], 'b')\n",
        "plt.plot(years, [100*i.accuracy for i in Clay_results], 'g')\n",
        "plt.legend(['Naive', 'Our Model'])\n",
        "plt.xlabel('Year of prediction')\n",
        "plt.ylabel('Accuracy[%]')\n",
        "plt.savefig('Clay_matches_Accuracy_2001-2017.png', dpi = 300)\n",
        "plt.show()"
      ],
      "execution_count": null,
      "outputs": [
        {
          "output_type": "display_data",
          "data": {
            "image/png": "[encoded data removed]",
            "text/plain": [
              "<matplotlib.figure.Figure at 0x18414f05048>"
            ]
          },
          "metadata": {
            "tags": []
          }
        }
      ]
    },
    {
      "cell_type": "code",
      "metadata": {
        "id": "W0S6CPuB89S7",
        "outputId": "2736ceb0-9125-47a0-e34a-8dadcee40e19"
      },
      "source": [
        "plt.title('Clay matches - Improvement vs Year')\n",
        "plt.plot(years, [i.improvement for i in Clay_results])\n",
        "plt.xlabel('Year of prediction')\n",
        "plt.ylabel('Improvement [% Difference]')\n",
        "plt.savefig('Clay_matches_Improvement_2001-2017.png', dpi = 300)\n",
        "plt.show()"
      ],
      "execution_count": null,
      "outputs": [
        {
          "output_type": "display_data",
          "data": {
            "image/png": "[encoded data removed]",
            "text/plain": [
              "<matplotlib.figure.Figure at 0x18416434438>"
            ]
          },
          "metadata": {
            "tags": []
          }
        }
      ]
    },
    {
      "cell_type": "markdown",
      "metadata": {
        "id": "eJ27iAY589S7"
      },
      "source": [
        "## Division By Rank difference (Close matches)"
      ]
    },
    {
      "cell_type": "code",
      "metadata": {
        "id": "25JGAPkB89S7",
        "outputId": "d2f9c82d-8b99-4d2c-f976-ea6d40cdaf61"
      },
      "source": [
        "# Best run for all matches \n",
        "\n",
        "file_name = \"datasets\\\\manipulated_datasets\\\\all_matches_with_our_features.csv\"\n",
        "my_data = pd.read_csv(file_name)\n",
        "subset =        ranks+ages+[\n",
        "                'higher_ranked_player_winning_streak', 'lower_ranked_player_winning_streak',\n",
        "                'higher_ranked_player_longest_winning_streak', 'lower_ranked_player_longest_winning_streak',\n",
        "                'higher_ranked_player_winning_percentage', 'lower_ranked_player_winning_percentage',\n",
        "                'higher_ranked_player_last_level_reached', 'lower_ranked_player_last_level_reached',\n",
        "                'higher_ranked_player_upsets_against',\n",
        "#                 'higher_ranked_player_one_level_history_no_upset_rank_difference', 'lower_ranked_player_one_level_history_no_upset_rank_difference',\n",
        "\n",
        "]\n",
        "\n",
        "years = [i for i in range(2006,2006+12)]\n",
        "\n",
        "Close_matches_results = []\n",
        "for year in years:\n",
        "    print(year)\n",
        "    test_date = year*10000\n",
        "    start_date = test_date - 9*10000\n",
        "    result = tennis_prediction(file_name, subset, close_matches='only', algorithm='random_forest', kwargs={'random_state':49,'n_estimators':160,'max_depth':9}, print_results=False, print_naive=False, start_date=start_date, test_date=test_date, num_of_years_to_test=1)\n",
        "    print('the improvement is: ', result.improvement)\n",
        "    Close_matches_results.append(result)\n",
        "    \n",
        "print ('Accuracy average: ', statistics.mean([100*i.accuracy for i in Close_matches_results]), 'with Standart Deviation of: ', statistics.stdev([100*i.accuracy for i in Close_matches_results]) )\n",
        "print ('Improvement average: ', statistics.mean([i.improvement for i in Close_matches_results]), 'with Standart Deviation of: ', statistics.stdev([i.improvement for i in Close_matches_results]) )"
      ],
      "execution_count": null,
      "outputs": [
        {
          "output_type": "stream",
          "text": [
            "2006\n",
            "the improvement is:  10.550458715596323\n",
            "2007\n",
            "the improvement is:  7.6271186440677985\n",
            "2008\n",
            "the improvement is:  9.691629955947134\n",
            "2009\n",
            "the improvement is:  10.62271062271063\n",
            "2010\n",
            "the improvement is:  5.952380952380953\n",
            "2011\n",
            "the improvement is:  16.730038022813687\n",
            "2012\n",
            "the improvement is:  11.89591078066915\n",
            "2013\n",
            "the improvement is:  4.8872180451127845\n",
            "2014\n",
            "the improvement is:  13.716814159292024\n",
            "2015\n",
            "the improvement is:  16.603773584905667\n",
            "2016\n",
            "the improvement is:  7.555555555555548\n",
            "2017\n",
            "the improvement is:  5.47945205479452\n",
            "Accuracy average:  62.84024023026617 with Standart Deviation of:  3.25125603955219\n",
            "Improvement average:  10.109421757820519 with Standart Deviation of:  4.062238501228901\n"
          ],
          "name": "stdout"
        }
      ]
    },
    {
      "cell_type": "code",
      "metadata": {
        "id": "LermZ41Z89S8",
        "outputId": "c3f5a8f5-2f04-44ac-891b-7b0bf3507557"
      },
      "source": [
        "plt.title('Close matches - Accuracy vs Year')\n",
        "plt.plot(years, [100*i.y_naive for i in Close_matches_results], 'b')\n",
        "plt.plot(years, [100*i.accuracy for i in Close_matches_results], 'g')\n",
        "plt.legend(['Naive', 'Our Model'])\n",
        "plt.xlabel('Year of prediction')\n",
        "plt.ylabel('Accuracy[%]')\n",
        "plt.savefig('Close_matches_Accuracy_2006-2017.png', dpi = 300)\n",
        "plt.show()"
      ],
      "execution_count": null,
      "outputs": [
        {
          "output_type": "display_data",
          "data": {
            "image/png": "[encoded data removed]",
            "text/plain": [
              "<matplotlib.figure.Figure at 0x18414c93dd8>"
            ]
          },
          "metadata": {
            "tags": []
          }
        }
      ]
    },
    {
      "cell_type": "code",
      "metadata": {
        "id": "A_OxFCYC89S8",
        "outputId": "a271c94b-8eea-4a1b-c921-1a27e572890d"
      },
      "source": [
        "plt.title('Close matches - Improvement vs Year')\n",
        "plt.plot(years, [i.improvement for i in Close_matches_results])\n",
        "plt.xlabel('Year of prediction')\n",
        "plt.ylabel('Improvement [% Difference]')\n",
        "plt.savefig('Close_matches_Improvement_2006-2017.png', dpi = 300)\n",
        "plt.show()"
      ],
      "execution_count": null,
      "outputs": [
        {
          "output_type": "display_data",
          "data": {
            "image/png": "[encoded data removed]",
            "text/plain": [
              "<matplotlib.figure.Figure at 0x184154b4cf8>"
            ]
          },
          "metadata": {
            "tags": []
          }
        }
      ]
    },
    {
      "cell_type": "markdown",
      "metadata": {
        "id": "Zg6OpG3889S8"
      },
      "source": [
        "## Division By Tournament"
      ]
    },
    {
      "cell_type": "code",
      "metadata": {
        "id": "1tusJcZf89S8",
        "outputId": "aa059834-df1d-47a5-de10-c4b73bd8eadd"
      },
      "source": [
        "file_name = \"datasets\\\\manipulated_datasets\\\\Wimbledon_tournament_matches.csv\"\n",
        "my_data = pd.read_csv(file_name)\n",
        "subset =        ranks+['round',\n",
        "                'higher_ranked_player_last_level_reached', 'lower_ranked_player_last_level_reached',\n",
        "                'higher_ranked_player_winning_streak', 'lower_ranked_player_winning_streak',\n",
        "                'higher_ranked_player_longest_winning_streak', 'lower_ranked_player_longest_winning_streak',\n",
        "                'higher_ranked_player_one_level_history_outcome', 'lower_ranked_player_one_level_history_outcome',\n",
        "                'higher_ranked_player_two_level_history_outcome', 'lower_ranked_player_two_level_history_outcome',\n",
        "\n",
        "               ]\n",
        "\n",
        "\n",
        "\n",
        "for ii in range(12):\n",
        "    test_date = 20060000+ii*10000\n",
        "    start_date = test_date - 4*10000\n",
        "    print(test_date)\n",
        "    result = tennis_prediction(file_name, subset, algorithm='svm',kwargs={'kernel':'rbf', 'max_iter':20000000}, print_results=False, print_naive=False, print_improvement=True, start_date=start_date, test_date=test_date, num_of_years_to_test=1)\n"
      ],
      "execution_count": null,
      "outputs": [
        {
          "output_type": "stream",
          "text": [
            "20060000\n",
            "The Improvement is: 1.06 %\n",
            "20070000\n",
            "The Improvement is: -2.38 %\n",
            "20080000\n",
            "The Improvement is: 0.00 %\n",
            "20090000\n",
            "The Improvement is: 0.00 %\n",
            "20100000\n",
            "The Improvement is: -1.30 %\n",
            "20110000\n",
            "The Improvement is: 1.05 %\n",
            "20120000\n",
            "The Improvement is: 1.11 %\n",
            "20130000\n",
            "The Improvement is: 0.97 %\n",
            "20140000\n",
            "The Improvement is: -0.00 %\n",
            "20150000\n",
            "The Improvement is: -1.06 %\n",
            "20160000\n",
            "The Improvement is: -1.94 %\n",
            "20170000\n",
            "The Improvement is: 1.12 %\n"
          ],
          "name": "stdout"
        }
      ]
    },
    {
      "cell_type": "code",
      "metadata": {
        "collapsed": true,
        "id": "SpuymYIy89S8"
      },
      "source": [
        ""
      ],
      "execution_count": null,
      "outputs": []
    },
    {
      "cell_type": "code",
      "metadata": {
        "collapsed": true,
        "id": "b7RWjx8-89S8"
      },
      "source": [
        ""
      ],
      "execution_count": null,
      "outputs": []
    },
    {
      "cell_type": "code",
      "metadata": {
        "collapsed": true,
        "id": "x0lC7Nfz89S8"
      },
      "source": [
        ""
      ],
      "execution_count": null,
      "outputs": []
    },
    {
      "cell_type": "code",
      "metadata": {
        "collapsed": true,
        "id": "WyHrXTEE89S8"
      },
      "source": [
        ""
      ],
      "execution_count": null,
      "outputs": []
    },
    {
      "cell_type": "code",
      "metadata": {
        "collapsed": true,
        "id": "HvWwV4aj89S8"
      },
      "source": [
        ""
      ],
      "execution_count": null,
      "outputs": []
    },
    {
      "cell_type": "code",
      "metadata": {
        "collapsed": true,
        "id": "hmh8E4Wm89S9"
      },
      "source": [
        ""
      ],
      "execution_count": null,
      "outputs": []
    },
    {
      "cell_type": "code",
      "metadata": {
        "collapsed": true,
        "id": "LKbcFu1-89S9"
      },
      "source": [
        ""
      ],
      "execution_count": null,
      "outputs": []
    },
    {
      "cell_type": "code",
      "metadata": {
        "id": "gXISceTN89S9",
        "outputId": "b7b0fb00-6d5e-462f-b4d3-e932250dad2f"
      },
      "source": [
        "file_name = \"datasets\\\\manipulated_datasets\\\\Wimbledon_tournament_matches.csv\"\n",
        "my_data = pd.read_csv(file_name)\n",
        "subset =        ranks+[\n",
        "                'higher_ranked_player_last_level_reached', 'lower_ranked_player_last_level_reached',\n",
        "                'higher_ranked_player_winning_streak', 'lower_ranked_player_winning_streak',\n",
        "                'higher_ranked_player_longest_winning_streak', 'lower_ranked_player_longest_winning_streak',\n",
        "#                 'higher_ranked_player_one_level_history_outcome', 'lower_ranked_player_one_level_history_outcome',\n",
        "#                 'higher_ranked_player_two_level_history_outcome', 'lower_ranked_player_two_level_history_outcome',\n",
        "#                 'higher_ranked_player_three_level_history_outcome', 'lower_ranked_player_three_level_history_outcome',\n",
        "                'higher_ranked_player_winning_percentage', 'lower_ranked_player_winning_percentage',\n",
        "                'higher_ranked_player_last_level_reached', 'lower_ranked_player_last_level_reached',\n",
        "#                 'higher_ranked_player_two_level_history_wins', 'lower_ranked_player_two_level_history_wins',\n",
        "#                 'higher_ranked_player_two_level_history_points_difference', 'lower_ranked_player_two_level_history_points_difference',\n",
        "               ]\n",
        "start_date = 20060000\n",
        "test_date=20170000\n",
        "\n",
        "result = tennis_prediction(file_name, subset, algorithm='random_forest',kwargs={'n_estimators':160,'max_depth':9}, print_results=False, print_improvement=True, start_date=start_date, test_date=test_date, num_of_years_to_test=1)\n"
      ],
      "execution_count": null,
      "outputs": [
        {
          "output_type": "stream",
          "text": [
            "The Improvement is: 2.13 %\n"
          ],
          "name": "stdout"
        }
      ]
    },
    {
      "cell_type": "code",
      "metadata": {
        "id": "FV67zuZq89S9",
        "outputId": "6178ffbe-86d5-43a7-f221-85f4467c9f58"
      },
      "source": [
        "file_name = \"datasets\\\\manipulated_datasets\\\\Wimbledon_tournament_matches.csv\"\n",
        "my_data = pd.read_csv(file_name)\n",
        "subset = my_data.drop(['tag', 'score', 'surface',\n",
        "                       'tourney_level', 'tourney_name', 'tourney_id',\n",
        "                       'higher_ranked_player_name', 'lower_ranked_player_name',\n",
        "                      'higher_ranked_player_id', 'lower_ranked_player_id'], axis=1).columns\n",
        "for feature in subset:\n",
        "    print(feature)"
      ],
      "execution_count": null,
      "outputs": [
        {
          "output_type": "stream",
          "text": [
            "Unnamed: 0\n",
            "Unnamed: 0.1\n",
            "Unnamed: 0.1.1\n",
            "higher_ranked_player_height\n",
            "lower_ranked_player_height\n",
            "higher_ranked_player_age\n",
            "lower_ranked_player_age\n",
            "higher_ranked_player_rank\n",
            "lower_ranked_player_rank\n",
            "higher_ranked_player_rank_points\n",
            "lower_ranked_player_rank_points\n",
            "draw_size\n",
            "tourney_date\n",
            "match_num\n",
            "best_of\n",
            "round\n",
            "higher_ranked_player_hand_L\n",
            "higher_ranked_player_hand_R\n",
            "higher_ranked_player_hand_U\n",
            "lower_ranked_player_hand_L\n",
            "lower_ranked_player_hand_R\n",
            "lower_ranked_player_hand_U\n",
            "height_differences\n",
            "rank_differences\n",
            "rank_differences_normalized\n",
            "rank_differences_multiplied\n",
            "last_match_points_difference_normalized\n",
            "match_year\n",
            "higher_ranked_player_rank_normalized_by_num_of_players\n",
            "lower_ranked_player_rank_normalized_by_num_of_players\n",
            "higher_ranked_player_last_match_minutes\n",
            "lower_ranked_player_last_match_minutes\n",
            "higher_ranked_player_last_level_reached_minus_current_level\n",
            "lower_ranked_player_last_level_reached_minus_current_level\n",
            "player_upsets_for\n",
            "player_upsets_against\n",
            "higher_ranked_player_one_level_history_outcome\n",
            "lower_ranked_player_one_level_history_outcome\n",
            "higher_ranked_player_one_level_history_sets_difference\n",
            "lower_ranked_player_one_level_history_sets_difference\n",
            "higher_ranked_player_one_level_history_no_upset_rank_difference\n",
            "lower_ranked_player_one_level_history_no_upset_rank_difference\n",
            "higher_ranked_player_one_level_history_points_difference\n",
            "lower_ranked_player_one_level_history_points_difference\n",
            "higher_ranked_player_one_level_history_points_difference_normalized\n",
            "lower_ranked_player_one_level_history_points_difference_normalized\n",
            "higher_ranked_player_one_level_history_wins\n",
            "higher_ranked_player_one_level_history_wins_percentage\n",
            "higher_ranked_player_two_level_history_outcome\n",
            "lower_ranked_player_two_level_history_outcome\n",
            "higher_ranked_player_two_level_history_sets_difference\n",
            "lower_ranked_player_two_level_history_sets_difference\n",
            "higher_ranked_player_two_level_history_no_upset_rank_difference\n",
            "lower_ranked_player_two_level_history_no_upset_rank_difference\n",
            "higher_ranked_player_two_level_history_points_difference\n",
            "lower_ranked_player_two_level_history_points_difference\n",
            "higher_ranked_player_two_level_history_points_difference_normalized\n",
            "lower_ranked_player_two_level_history_points_difference_normalized\n",
            "higher_ranked_player_two_level_history_wins\n",
            "higher_ranked_player_two_level_history_wins_percentage\n",
            "higher_ranked_player_three_level_history_outcome\n",
            "lower_ranked_player_three_level_history_outcome\n",
            "higher_ranked_player_three_level_history_sets_difference\n",
            "lower_ranked_player_three_level_history_sets_difference\n",
            "higher_ranked_player_three_level_history_no_upset_rank_difference\n",
            "lower_ranked_player_three_level_history_no_upset_rank_difference\n",
            "higher_ranked_player_three_level_history_points_difference\n",
            "lower_ranked_player_three_level_history_points_difference\n",
            "higher_ranked_player_three_level_history_points_difference_normalized\n",
            "lower_ranked_player_three_level_history_points_difference_normalized\n",
            "higher_ranked_player_three_level_history_wins\n",
            "higher_ranked_player_three_level_history_wins_percentage\n",
            "higher_ranked_player_four_level_history_outcome\n",
            "lower_ranked_player_four_level_history_outcome\n",
            "higher_ranked_player_four_level_history_sets_difference\n",
            "lower_ranked_player_four_level_history_sets_difference\n",
            "higher_ranked_player_four_level_history_no_upset_rank_difference\n",
            "lower_ranked_player_four_level_history_no_upset_rank_difference\n",
            "higher_ranked_player_four_level_history_points_difference\n",
            "lower_ranked_player_four_level_history_points_difference\n",
            "higher_ranked_player_four_level_history_points_difference_normalized\n",
            "lower_ranked_player_four_level_history_points_difference_normalized\n",
            "higher_ranked_player_four_level_history_wins\n",
            "higher_ranked_player_four_level_history_wins_percentage\n",
            "higher_ranked_player_five_level_history_outcome\n",
            "lower_ranked_player_five_level_history_outcome\n",
            "higher_ranked_player_five_level_history_sets_difference\n",
            "lower_ranked_player_five_level_history_sets_difference\n",
            "higher_ranked_player_five_level_history_no_upset_rank_difference\n",
            "lower_ranked_player_five_level_history_no_upset_rank_difference\n",
            "higher_ranked_player_five_level_history_points_difference\n",
            "lower_ranked_player_five_level_history_points_difference\n",
            "higher_ranked_player_five_level_history_points_difference_normalized\n",
            "lower_ranked_player_five_level_history_points_difference_normalized\n",
            "higher_ranked_player_five_level_history_wins\n",
            "higher_ranked_player_five_level_history_wins_percentage\n",
            "higher_ranked_player_six_level_history_outcome\n",
            "lower_ranked_player_six_level_history_outcome\n",
            "higher_ranked_player_six_level_history_sets_difference\n",
            "lower_ranked_player_six_level_history_sets_difference\n",
            "higher_ranked_player_six_level_history_no_upset_rank_difference\n",
            "lower_ranked_player_six_level_history_no_upset_rank_difference\n",
            "higher_ranked_player_six_level_history_points_difference\n",
            "lower_ranked_player_six_level_history_points_difference\n",
            "higher_ranked_player_six_level_history_points_difference_normalized\n",
            "lower_ranked_player_six_level_history_points_difference_normalized\n",
            "higher_ranked_player_six_level_history_wins\n",
            "higher_ranked_player_six_level_history_wins_percentage\n",
            "higher_ranked_player_seven_level_history_outcome\n",
            "lower_ranked_player_seven_level_history_outcome\n",
            "higher_ranked_player_seven_level_history_sets_difference\n",
            "lower_ranked_player_seven_level_history_sets_difference\n",
            "higher_ranked_player_seven_level_history_no_upset_rank_difference\n",
            "lower_ranked_player_seven_level_history_no_upset_rank_difference\n",
            "higher_ranked_player_seven_level_history_points_difference\n",
            "lower_ranked_player_seven_level_history_points_difference\n",
            "higher_ranked_player_seven_level_history_points_difference_normalized\n",
            "lower_ranked_player_seven_level_history_points_difference_normalized\n",
            "higher_ranked_player_seven_level_history_wins\n",
            "higher_ranked_player_seven_level_history_wins_percentage\n",
            "higher_ranked_player_eight_level_history_outcome\n",
            "lower_ranked_player_eight_level_history_outcome\n",
            "higher_ranked_player_eight_level_history_sets_difference\n",
            "lower_ranked_player_eight_level_history_sets_difference\n",
            "higher_ranked_player_eight_level_history_no_upset_rank_difference\n",
            "lower_ranked_player_eight_level_history_no_upset_rank_difference\n",
            "higher_ranked_player_eight_level_history_points_difference\n",
            "lower_ranked_player_eight_level_history_points_difference\n",
            "higher_ranked_player_eight_level_history_points_difference_normalized\n",
            "lower_ranked_player_eight_level_history_points_difference_normalized\n",
            "higher_ranked_player_eight_level_history_wins\n",
            "higher_ranked_player_eight_level_history_wins_percentage\n",
            "higher_ranked_player_nine_level_history_outcome\n",
            "lower_ranked_player_nine_level_history_outcome\n",
            "higher_ranked_player_nine_level_history_sets_difference\n",
            "lower_ranked_player_nine_level_history_sets_difference\n",
            "higher_ranked_player_nine_level_history_no_upset_rank_difference\n",
            "lower_ranked_player_nine_level_history_no_upset_rank_difference\n",
            "higher_ranked_player_nine_level_history_points_difference\n",
            "lower_ranked_player_nine_level_history_points_difference\n",
            "higher_ranked_player_nine_level_history_points_difference_normalized\n",
            "lower_ranked_player_nine_level_history_points_difference_normalized\n",
            "higher_ranked_player_nine_level_history_wins\n",
            "higher_ranked_player_nine_level_history_wins_percentage\n",
            "higher_ranked_player_ten_level_history_outcome\n",
            "lower_ranked_player_ten_level_history_outcome\n",
            "higher_ranked_player_ten_level_history_sets_difference\n",
            "lower_ranked_player_ten_level_history_sets_difference\n",
            "higher_ranked_player_ten_level_history_no_upset_rank_difference\n",
            "lower_ranked_player_ten_level_history_no_upset_rank_difference\n",
            "higher_ranked_player_ten_level_history_points_difference\n",
            "lower_ranked_player_ten_level_history_points_difference\n",
            "higher_ranked_player_ten_level_history_points_difference_normalized\n",
            "lower_ranked_player_ten_level_history_points_difference_normalized\n",
            "higher_ranked_player_ten_level_history_wins\n",
            "higher_ranked_player_ten_level_history_wins_percentage\n",
            "higher_ranked_player_eleven_level_history_outcome\n",
            "lower_ranked_player_eleven_level_history_outcome\n",
            "higher_ranked_player_eleven_level_history_sets_difference\n",
            "lower_ranked_player_eleven_level_history_sets_difference\n",
            "higher_ranked_player_eleven_level_history_no_upset_rank_difference\n",
            "lower_ranked_player_eleven_level_history_no_upset_rank_difference\n",
            "higher_ranked_player_eleven_level_history_points_difference\n",
            "lower_ranked_player_eleven_level_history_points_difference\n",
            "higher_ranked_player_eleven_level_history_points_difference_normalized\n",
            "lower_ranked_player_eleven_level_history_points_difference_normalized\n",
            "higher_ranked_player_eleven_level_history_wins\n",
            "higher_ranked_player_eleven_level_history_wins_percentage\n",
            "higher_ranked_player_twelve_level_history_outcome\n",
            "lower_ranked_player_twelve_level_history_outcome\n",
            "higher_ranked_player_twelve_level_history_sets_difference\n",
            "lower_ranked_player_twelve_level_history_sets_difference\n",
            "higher_ranked_player_twelve_level_history_no_upset_rank_difference\n",
            "lower_ranked_player_twelve_level_history_no_upset_rank_difference\n",
            "higher_ranked_player_twelve_level_history_points_difference\n",
            "lower_ranked_player_twelve_level_history_points_difference\n",
            "higher_ranked_player_twelve_level_history_points_difference_normalized\n",
            "lower_ranked_player_twelve_level_history_points_difference_normalized\n",
            "higher_ranked_player_twelve_level_history_wins\n",
            "higher_ranked_player_twelve_level_history_wins_percentage\n",
            "higher_ranked_player_thirteen_level_history_outcome\n",
            "lower_ranked_player_thirteen_level_history_outcome\n",
            "higher_ranked_player_thirteen_level_history_sets_difference\n",
            "lower_ranked_player_thirteen_level_history_sets_difference\n",
            "higher_ranked_player_thirteen_level_history_no_upset_rank_difference\n",
            "lower_ranked_player_thirteen_level_history_no_upset_rank_difference\n",
            "higher_ranked_player_thirteen_level_history_points_difference\n",
            "lower_ranked_player_thirteen_level_history_points_difference\n",
            "higher_ranked_player_thirteen_level_history_points_difference_normalized\n",
            "lower_ranked_player_thirteen_level_history_points_difference_normalized\n",
            "higher_ranked_player_thirteen_level_history_wins\n",
            "higher_ranked_player_thirteen_level_history_wins_percentage\n",
            "higher_ranked_player_fourteen_level_history_outcome\n",
            "lower_ranked_player_fourteen_level_history_outcome\n",
            "higher_ranked_player_fourteen_level_history_sets_difference\n",
            "lower_ranked_player_fourteen_level_history_sets_difference\n",
            "higher_ranked_player_fourteen_level_history_no_upset_rank_difference\n",
            "lower_ranked_player_fourteen_level_history_no_upset_rank_difference\n",
            "higher_ranked_player_fourteen_level_history_points_difference\n",
            "lower_ranked_player_fourteen_level_history_points_difference\n",
            "higher_ranked_player_fourteen_level_history_points_difference_normalized\n",
            "lower_ranked_player_fourteen_level_history_points_difference_normalized\n",
            "higher_ranked_player_fourteen_level_history_wins\n",
            "higher_ranked_player_fourteen_level_history_wins_percentage\n",
            "higher_ranked_player_fifteen_level_history_outcome\n",
            "lower_ranked_player_fifteen_level_history_outcome\n",
            "higher_ranked_player_fifteen_level_history_sets_difference\n",
            "lower_ranked_player_fifteen_level_history_sets_difference\n",
            "higher_ranked_player_fifteen_level_history_no_upset_rank_difference\n",
            "lower_ranked_player_fifteen_level_history_no_upset_rank_difference\n",
            "higher_ranked_player_fifteen_level_history_points_difference\n",
            "lower_ranked_player_fifteen_level_history_points_difference\n",
            "higher_ranked_player_fifteen_level_history_points_difference_normalized\n",
            "lower_ranked_player_fifteen_level_history_points_difference_normalized\n",
            "higher_ranked_player_fifteen_level_history_wins\n",
            "higher_ranked_player_fifteen_level_history_wins_percentage\n",
            "higher_ranked_player_sixteen_level_history_outcome\n",
            "lower_ranked_player_sixteen_level_history_outcome\n",
            "higher_ranked_player_sixteen_level_history_sets_difference\n",
            "lower_ranked_player_sixteen_level_history_sets_difference\n",
            "higher_ranked_player_sixteen_level_history_no_upset_rank_difference\n",
            "lower_ranked_player_sixteen_level_history_no_upset_rank_difference\n",
            "higher_ranked_player_sixteen_level_history_points_difference\n",
            "lower_ranked_player_sixteen_level_history_points_difference\n",
            "higher_ranked_player_sixteen_level_history_points_difference_normalized\n",
            "lower_ranked_player_sixteen_level_history_points_difference_normalized\n",
            "higher_ranked_player_sixteen_level_history_wins\n",
            "higher_ranked_player_sixteen_level_history_wins_percentage\n",
            "higher_ranked_player_seventeen_level_history_outcome\n",
            "lower_ranked_player_seventeen_level_history_outcome\n",
            "higher_ranked_player_seventeen_level_history_sets_difference\n",
            "lower_ranked_player_seventeen_level_history_sets_difference\n",
            "higher_ranked_player_seventeen_level_history_no_upset_rank_difference\n",
            "lower_ranked_player_seventeen_level_history_no_upset_rank_difference\n",
            "higher_ranked_player_seventeen_level_history_points_difference\n",
            "lower_ranked_player_seventeen_level_history_points_difference\n",
            "higher_ranked_player_seventeen_level_history_points_difference_normalized\n",
            "lower_ranked_player_seventeen_level_history_points_difference_normalized\n",
            "higher_ranked_player_seventeen_level_history_wins\n",
            "higher_ranked_player_seventeen_level_history_wins_percentage\n",
            "higher_ranked_player_eighteen_level_history_outcome\n",
            "lower_ranked_player_eighteen_level_history_outcome\n",
            "higher_ranked_player_eighteen_level_history_sets_difference\n",
            "lower_ranked_player_eighteen_level_history_sets_difference\n",
            "higher_ranked_player_eighteen_level_history_no_upset_rank_difference\n",
            "lower_ranked_player_eighteen_level_history_no_upset_rank_difference\n",
            "higher_ranked_player_eighteen_level_history_points_difference\n",
            "lower_ranked_player_eighteen_level_history_points_difference\n",
            "higher_ranked_player_eighteen_level_history_points_difference_normalized\n",
            "lower_ranked_player_eighteen_level_history_points_difference_normalized\n",
            "higher_ranked_player_eighteen_level_history_wins\n",
            "higher_ranked_player_eighteen_level_history_wins_percentage\n",
            "higher_ranked_player_nineteen_level_history_outcome\n",
            "lower_ranked_player_nineteen_level_history_outcome\n",
            "higher_ranked_player_nineteen_level_history_sets_difference\n",
            "lower_ranked_player_nineteen_level_history_sets_difference\n",
            "higher_ranked_player_nineteen_level_history_no_upset_rank_difference\n",
            "lower_ranked_player_nineteen_level_history_no_upset_rank_difference\n",
            "higher_ranked_player_nineteen_level_history_points_difference\n",
            "lower_ranked_player_nineteen_level_history_points_difference\n",
            "higher_ranked_player_nineteen_level_history_points_difference_normalized\n",
            "lower_ranked_player_nineteen_level_history_points_difference_normalized\n",
            "higher_ranked_player_nineteen_level_history_wins\n",
            "higher_ranked_player_nineteen_level_history_wins_percentage\n",
            "higher_ranked_player_twenty_level_history_outcome\n",
            "lower_ranked_player_twenty_level_history_outcome\n",
            "higher_ranked_player_twenty_level_history_sets_difference\n",
            "lower_ranked_player_twenty_level_history_sets_difference\n",
            "higher_ranked_player_twenty_level_history_no_upset_rank_difference\n",
            "lower_ranked_player_twenty_level_history_no_upset_rank_difference\n",
            "higher_ranked_player_twenty_level_history_points_difference\n",
            "lower_ranked_player_twenty_level_history_points_difference\n",
            "higher_ranked_player_twenty_level_history_points_difference_normalized\n",
            "lower_ranked_player_twenty_level_history_points_difference_normalized\n",
            "higher_ranked_player_twenty_level_history_wins\n",
            "higher_ranked_player_twenty_level_history_wins_percentage\n",
            "winning_percentage\n",
            "higher_ranked_player_winning_percentage\n",
            "lower_ranked_player_winning_percentage\n",
            "player_last_match_sets_difference\n",
            "games_won\n",
            "rank_difference\n",
            "higher_ranked_player_one_level_history_upset_rank_difference\n",
            "lower_ranked_player_one_level_history_upset_rank_difference\n",
            "higher_ranked_player_two_level_history_upset_rank_difference\n",
            "lower_ranked_player_two_level_history_upset_rank_difference\n",
            "higher_ranked_player_three_level_history_upset_rank_difference\n",
            "lower_ranked_player_three_level_history_upset_rank_difference\n",
            "higher_ranked_player_four_level_history_upset_rank_difference\n",
            "lower_ranked_player_four_level_history_upset_rank_difference\n",
            "higher_ranked_player_five_level_history_upset_rank_difference\n",
            "lower_ranked_player_five_level_history_upset_rank_difference\n",
            "higher_ranked_player_six_level_history_upset_rank_difference\n",
            "lower_ranked_player_six_level_history_upset_rank_difference\n",
            "higher_ranked_player_seven_level_history_upset_rank_difference\n",
            "lower_ranked_player_seven_level_history_upset_rank_difference\n",
            "higher_ranked_player_eight_level_history_upset_rank_difference\n",
            "lower_ranked_player_eight_level_history_upset_rank_difference\n",
            "higher_ranked_player_nine_level_history_upset_rank_difference\n",
            "lower_ranked_player_nine_level_history_upset_rank_difference\n",
            "higher_ranked_player_ten_level_history_upset_rank_difference\n",
            "lower_ranked_player_ten_level_history_upset_rank_difference\n",
            "higher_ranked_player_eleven_level_history_upset_rank_difference\n",
            "lower_ranked_player_eleven_level_history_upset_rank_difference\n",
            "higher_ranked_player_twelve_level_history_upset_rank_difference\n",
            "lower_ranked_player_twelve_level_history_upset_rank_difference\n",
            "higher_ranked_player_thirteen_level_history_upset_rank_difference\n",
            "lower_ranked_player_thirteen_level_history_upset_rank_difference\n",
            "higher_ranked_player_fourteen_level_history_upset_rank_difference\n",
            "lower_ranked_player_fourteen_level_history_upset_rank_difference\n",
            "higher_ranked_player_fifteen_level_history_upset_rank_difference\n",
            "lower_ranked_player_fifteen_level_history_upset_rank_difference\n",
            "higher_ranked_player_sixteen_level_history_upset_rank_difference\n",
            "lower_ranked_player_sixteen_level_history_upset_rank_difference\n",
            "higher_ranked_player_seventeen_level_history_upset_rank_difference\n",
            "lower_ranked_player_seventeen_level_history_upset_rank_difference\n",
            "higher_ranked_player_eighteen_level_history_upset_rank_difference\n",
            "lower_ranked_player_eighteen_level_history_upset_rank_difference\n",
            "higher_ranked_player_nineteen_level_history_upset_rank_difference\n",
            "lower_ranked_player_nineteen_level_history_upset_rank_difference\n",
            "higher_ranked_player_twenty_level_history_upset_rank_difference\n",
            "lower_ranked_player_twenty_level_history_upset_rank_difference\n",
            "lower_ranked_player_one_level_history_wins\n",
            "lower_ranked_player_two_level_history_wins\n",
            "lower_ranked_player_three_level_history_wins\n",
            "lower_ranked_player_four_level_history_wins\n",
            "lower_ranked_player_five_level_history_wins\n",
            "lower_ranked_player_six_level_history_wins\n",
            "lower_ranked_player_seven_level_history_wins\n",
            "lower_ranked_player_eight_level_history_wins\n",
            "lower_ranked_player_nine_level_history_wins\n",
            "lower_ranked_player_ten_level_history_wins\n",
            "lower_ranked_player_eleven_level_history_wins\n",
            "lower_ranked_player_twelve_level_history_wins\n",
            "lower_ranked_player_thirteen_level_history_wins\n",
            "lower_ranked_player_fourteen_level_history_wins\n",
            "lower_ranked_player_fifteen_level_history_wins\n",
            "lower_ranked_player_sixteen_level_history_wins\n",
            "lower_ranked_player_seventeen_level_history_wins\n",
            "lower_ranked_player_eighteen_level_history_wins\n",
            "lower_ranked_player_nineteen_level_history_wins\n",
            "lower_ranked_player_twenty_level_history_wins\n",
            "higher_ranked_player_games_played\n",
            "lower_ranked_player_games_played\n",
            "higher_ranked_player_upsets_for\n",
            "higher_ranked_player_upsets_for_normalized\n",
            "lower_ranked_player_upsets_for\n",
            "lower_ranked_player_upsets_for_normalized\n",
            "higher_ranked_player_upsets_against\n",
            "higher_ranked_player_upsets_against_normalized\n",
            "lower_ranked_player_upsets_against\n",
            "lower_ranked_player_upsets_against_normalized\n",
            "higher_ranked_player_winning_streak\n",
            "lower_ranked_player_winning_streak\n",
            "higher_ranked_player_longest_winning_streak\n",
            "lower_ranked_player_longest_winning_streak\n",
            "higher_ranked_player_losing_streak\n",
            "lower_ranked_player_losing_streak\n",
            "higher_ranked_player_longest_losing_streak\n",
            "lower_ranked_player_longest_losing_streak\n",
            "higher_ranked_player_longest_winning_streak_minus_current_winning_streak\n",
            "lower_ranked_player_longest_winning_streak_minus_current_winning_streak\n",
            "higher_ranked_player_longest_losing_streak_minus_current_losing_streak\n",
            "lower_ranked_player_longest_losing_streak_minus_current_losing_streak\n",
            "higher_ranked_player_last_level_reached\n",
            "lower_ranked_player_last_level_reached\n",
            "lower_ranked_player_one_level_history_wins_percentage\n",
            "lower_ranked_player_two_level_history_wins_percentage\n",
            "lower_ranked_player_three_level_history_wins_percentage\n",
            "lower_ranked_player_four_level_history_wins_percentage\n",
            "lower_ranked_player_five_level_history_wins_percentage\n",
            "lower_ranked_player_six_level_history_wins_percentage\n",
            "lower_ranked_player_seven_level_history_wins_percentage\n",
            "lower_ranked_player_eight_level_history_wins_percentage\n",
            "lower_ranked_player_nine_level_history_wins_percentage\n",
            "lower_ranked_player_ten_level_history_wins_percentage\n",
            "lower_ranked_player_eleven_level_history_wins_percentage\n",
            "lower_ranked_player_twelve_level_history_wins_percentage\n",
            "lower_ranked_player_thirteen_level_history_wins_percentage\n",
            "lower_ranked_player_fourteen_level_history_wins_percentage\n",
            "lower_ranked_player_fifteen_level_history_wins_percentage\n",
            "lower_ranked_player_sixteen_level_history_wins_percentage\n",
            "lower_ranked_player_seventeen_level_history_wins_percentage\n",
            "lower_ranked_player_eighteen_level_history_wins_percentage\n",
            "lower_ranked_player_nineteen_level_history_wins_percentage\n",
            "lower_ranked_player_twenty_level_history_wins_percentage\n"
          ],
          "name": "stdout"
        }
      ]
    },
    {
      "cell_type": "code",
      "metadata": {
        "collapsed": true,
        "id": "t7JwkA0689S9"
      },
      "source": [
        ""
      ],
      "execution_count": null,
      "outputs": []
    },
    {
      "cell_type": "code",
      "metadata": {
        "collapsed": true,
        "id": "agf1aqyN89S9"
      },
      "source": [
        "file_name = \"datasets\\\\manipulated_datasets\\\\Wimbledon_tournament_matches.csv\"\n",
        "my_data = pd.read_csv(file_name)\n",
        "subset = my_data.columns.drop(['tag', 'Unnamed: 0'])"
      ],
      "execution_count": null,
      "outputs": []
    },
    {
      "cell_type": "code",
      "metadata": {
        "id": "_QmsvgQw89S9",
        "outputId": "879d7d2b-8a10-4304-8c27-093f3590622c"
      },
      "source": [
        "# ~82% on 2012!!\n",
        "file_name = \"datasets\\\\manipulated_datasets\\\\Wimbledon_tournament_matches.csv\"\n",
        "my_data = pd.read_csv(file_name)\n",
        "subset =        ranks+[#hands+[\n",
        "#                 'higher_ranked_player_last_level_reached', 'lower_ranked_player_last_level_reached',\n",
        "                'higher_ranked_player_winning_streak', 'lower_ranked_player_winning_streak',\n",
        "#                 'higher_ranked_player_longest_winning_streak', 'lower_ranked_player_longest_winning_streak',\n",
        "                'higher_ranked_player_one_level_history_outcome', 'lower_ranked_player_one_level_history_outcome',\n",
        "#                 'higher_ranked_player_two_level_history_outcome', 'lower_ranked_player_two_level_history_outcome',\n",
        "                'higher_ranked_player_three_level_history_outcome', 'lower_ranked_player_three_level_history_outcome',\n",
        "                'higher_ranked_player_winning_percentage', 'lower_ranked_player_winning_percentage',\n",
        "                'higher_ranked_player_last_level_reached', 'lower_ranked_player_last_level_reached',\n",
        "#                 'higher_ranked_player_two_level_history_wins', 'lower_ranked_player_two_level_history_wins'\n",
        "               ]\n",
        "for ii in range(11):\n",
        "    test_date = 20060000+ii*10000\n",
        "    start_date = test_date - 6*10000\n",
        "    print(test_date/10000)\n",
        "    result = tennis_prediction(file_name, subset, algorithm='svm',kwargs={'kernel':'linear', 'max_iter':300000}, print_improvement=True, start_date=start_date, test_date=test_date, num_of_years_to_test=3)\n"
      ],
      "execution_count": null,
      "outputs": [
        {
          "output_type": "stream",
          "text": [
            "2006.0\n"
          ],
          "name": "stdout"
        },
        {
          "output_type": "stream",
          "text": [
            "C:\\Users\\vakni\\Anaconda3\\lib\\site-packages\\sklearn\\svm\\base.py:218: ConvergenceWarning: Solver terminated early (max_iter=300000).  Consider pre-processing your data with StandardScaler or MinMaxScaler.\n",
            "  % self.max_iter, ConvergenceWarning)\n"
          ],
          "name": "stderr"
        },
        {
          "output_type": "stream",
          "text": [
            "The Improvement is: 3.49 %\n",
            "2007.0\n",
            "The Improvement is: 1.31 %\n",
            "2008.0\n",
            "The Improvement is: 1.82 %\n",
            "2009.0\n",
            "The Improvement is: -1.35 %\n",
            "2010.0\n",
            "The Improvement is: 3.57 %\n",
            "2011.0\n",
            "The Improvement is: 2.40 %\n",
            "2012.0\n",
            "The Improvement is: 3.20 %\n",
            "2013.0\n",
            "The Improvement is: 0.00 %\n",
            "2014.0\n",
            "The Improvement is: 1.19 %\n",
            "2015.0\n",
            "The Improvement is: 0.00 %\n",
            "2016.0\n",
            "The Improvement is: -0.00 %\n"
          ],
          "name": "stdout"
        }
      ]
    },
    {
      "cell_type": "code",
      "metadata": {
        "id": "S0VP28bT89S9",
        "outputId": "2321685e-e902-4d01-daa1-eef3c90c85b3"
      },
      "source": [
        "# ~82% on 2012!!\n",
        "file_name = \"datasets\\\\manipulated_datasets\\\\Wimbledon_tournament_matches.csv\"\n",
        "my_data = pd.read_csv(file_name)\n",
        "subset =        ranks+[#hands+[\n",
        "#                 'higher_ranked_player_last_level_reached', 'lower_ranked_player_last_level_reached',\n",
        "                'higher_ranked_player_winning_streak', 'lower_ranked_player_winning_streak',\n",
        "#                 'higher_ranked_player_longest_winning_streak', 'lower_ranked_player_longest_winning_streak',\n",
        "                'higher_ranked_player_one_level_history_outcome', 'lower_ranked_player_one_level_history_outcome',\n",
        "                'higher_ranked_player_two_level_history_outcome', 'lower_ranked_player_two_level_history_outcome',\n",
        "                'higher_ranked_player_three_level_history_outcome', 'lower_ranked_player_three_level_history_outcome',\n",
        "                'higher_ranked_player_winning_percentage', 'lower_ranked_player_winning_percentage',\n",
        "                'higher_ranked_player_last_level_reached', 'lower_ranked_player_last_level_reached',\n",
        "#                 'higher_ranked_player_two_level_history_wins', 'lower_ranked_player_two_level_history_wins'\n",
        "               ]\n",
        "for ii in range(11):\n",
        "    test_date = 20060000+ii*10000\n",
        "    start_date = test_date - 5*10000\n",
        "    print(test_date/10000)\n",
        "    result = tennis_prediction(file_name, subset, algorithm='random_forest', print_improvement=True,kwargs={'n_estimators':160, 'max_depth':9}, print_results=False, start_date=start_date, test_date=test_date, num_of_years_to_test=1)\n"
      ],
      "execution_count": null,
      "outputs": [
        {
          "output_type": "stream",
          "text": [
            "2006.0\n",
            "The Improvement is: 2.53 %\n",
            "2007.0\n",
            "The Improvement is: -8.22 %\n",
            "2008.0\n",
            "The Improvement is: 6.49 %\n",
            "2009.0\n",
            "The Improvement is: -1.27 %\n",
            "2010.0\n",
            "The Improvement is: -6.25 %\n",
            "2011.0\n",
            "The Improvement is: 0.00 %\n",
            "2012.0\n",
            "The Improvement is: 5.00 %\n",
            "2013.0\n",
            "The Improvement is: 1.11 %\n",
            "2014.0\n",
            "The Improvement is: -2.50 %\n",
            "2015.0\n",
            "The Improvement is: -4.94 %\n",
            "2016.0\n",
            "The Improvement is: -3.26 %\n"
          ],
          "name": "stdout"
        }
      ]
    },
    {
      "cell_type": "code",
      "metadata": {
        "id": "jYzkKQJK89S9",
        "outputId": "accea32f-0c7f-4b22-bf1c-024cbd702c43"
      },
      "source": [
        "# ~82% on 2012!!\n",
        "file_name = \"datasets\\\\manipulated_datasets\\\\Roland Garros_tournament_matches.csv\"\n",
        "my_data = pd.read_csv(file_name)\n",
        "subset =        ranks+hands+[\n",
        "#                 'higher_ranked_player_last_level_reached', 'lower_ranked_player_last_level_reached',\n",
        "                'higher_ranked_player_winning_streak', 'lower_ranked_player_winning_streak',\n",
        "#                 'higher_ranked_player_longest_winning_streak', 'lower_ranked_player_longest_winning_streak',\n",
        "                'higher_ranked_player_one_level_history_outcome', 'lower_ranked_player_one_level_history_outcome',\n",
        "                'higher_ranked_player_two_level_history_outcome', 'lower_ranked_player_two_level_history_outcome',\n",
        "                'higher_ranked_player_three_level_history_outcome', 'lower_ranked_player_three_level_history_outcome',\n",
        "#                 'higher_ranked_player_winning_percentage', 'lower_ranked_player_winning_percentage',\n",
        "                'higher_ranked_player_last_level_reached', 'lower_ranked_player_last_level_reached',\n",
        "#                 'higher_ranked_player_two_level_history_wins', 'lower_ranked_player_two_level_history_wins'\n",
        "               ]\n",
        "for ii in range(11):\n",
        "    test_date = 20060000+ii*10000\n",
        "    start_date = test_date - 3*10000\n",
        "    print(test_date)\n",
        "    result = tennis_prediction(file_name, subset, algorithm='random_forest', print_improvement=True ,kwargs={'n_estimators':37, 'max_depth':9}, start_date=start_date, test_date=test_date, num_of_years_to_test=1)\n"
      ],
      "execution_count": null,
      "outputs": [
        {
          "output_type": "stream",
          "text": [
            "20060000\n",
            "The Improvement is: -8.70 %\n",
            "20070000\n",
            "The Improvement is: -8.00 %\n",
            "20080000\n",
            "The Improvement is: 4.48 %\n",
            "20090000\n",
            "The Improvement is: -1.43 %\n",
            "20100000\n",
            "The Improvement is: 2.94 %\n",
            "20110000\n",
            "The Improvement is: -13.41 %\n",
            "20120000\n",
            "The Improvement is: -5.81 %\n",
            "20130000\n",
            "The Improvement is: -2.41 %\n",
            "20140000\n",
            "The Improvement is: -3.66 %\n",
            "20150000\n",
            "The Improvement is: -3.37 %\n",
            "20160000\n",
            "The Improvement is: -1.16 %\n"
          ],
          "name": "stdout"
        }
      ]
    },
    {
      "cell_type": "code",
      "metadata": {
        "id": "yEsYcJfX89S-",
        "outputId": "e2013c37-2255-4fdc-abec-a709becafb13"
      },
      "source": [
        "# ~82% on 2012!!\n",
        "file_name = \"datasets\\\\manipulated_datasets\\\\Wimbledon_tournament_matches.csv\"\n",
        "my_data = pd.read_csv(file_name)\n",
        "subset =        ranks+[#hands+[\n",
        "#                 'higher_ranked_player_last_level_reached', 'lower_ranked_player_last_level_reached',\n",
        "                'higher_ranked_player_winning_streak', 'lower_ranked_player_winning_streak',\n",
        "#                 'higher_ranked_player_longest_winning_streak', 'lower_ranked_player_longest_winning_streak',\n",
        "                'higher_ranked_player_one_level_history_outcome', 'lower_ranked_player_one_level_history_outcome',\n",
        "                'higher_ranked_player_two_level_history_outcome', 'lower_ranked_player_two_level_history_outcome',\n",
        "#                 'higher_ranked_player_three_level_history_outcome', 'lower_ranked_player_three_level_history_outcome',\n",
        "                'higher_ranked_player_winning_percentage', 'lower_ranked_player_winning_percentage',\n",
        "#                 'higher_ranked_player_last_level_reached', 'lower_ranked_player_last_level_reached',\n",
        "#                 'higher_ranked_player_two_level_history_wins', 'lower_ranked_player_two_level_history_wins'\n",
        "               ]\n",
        "for ii in range(11):\n",
        "    test_date = 20060000+ii*10000\n",
        "    start_date = test_date - 9*10000\n",
        "    print(test_date/10000)\n",
        "    result = tennis_prediction(file_name, subset, algorithm='random_forest',kwargs={'n_estimators':160,'max_depth':9}, print_improvement=True, start_date=start_date, test_date=test_date, num_of_years_to_test=1)\n"
      ],
      "execution_count": null,
      "outputs": [
        {
          "output_type": "stream",
          "text": [
            "2006.0\n",
            "The Improvement is: 1.05 %\n",
            "2007.0\n",
            "The Improvement is: 0.00 %\n",
            "2008.0\n",
            "The Improvement is: 3.53 %\n",
            "2009.0\n",
            "The Improvement is: -3.30 %\n",
            "2010.0\n",
            "The Improvement is: -5.06 %\n",
            "2011.0\n",
            "The Improvement is: -2.08 %\n",
            "2012.0\n",
            "The Improvement is: 1.05 %\n",
            "2013.0\n",
            "The Improvement is: 7.77 %\n",
            "2014.0\n",
            "The Improvement is: 5.38 %\n",
            "2015.0\n",
            "The Improvement is: -6.32 %\n",
            "2016.0\n",
            "The Improvement is: -2.91 %\n"
          ],
          "name": "stdout"
        }
      ]
    },
    {
      "cell_type": "code",
      "metadata": {
        "id": "cI3C1W-389S-",
        "outputId": "05adaa70-a016-4d9f-c8e7-f0c05ba2721a"
      },
      "source": [
        "# ~82% on 2012!!\n",
        "file_name = \"datasets\\\\manipulated_datasets\\\\Wimbledon_tournament_matches.csv\"\n",
        "my_data = pd.read_csv(file_name)\n",
        "subset =        ranks+[#hands+[\n",
        "#                 'higher_ranked_player_last_level_reached', 'lower_ranked_player_last_level_reached',\n",
        "                'higher_ranked_player_winning_streak', 'lower_ranked_player_winning_streak',\n",
        "#                 'higher_ranked_player_longest_winning_streak', 'lower_ranked_player_longest_winning_streak',\n",
        "                'higher_ranked_player_one_level_history_outcome', 'lower_ranked_player_one_level_history_outcome',\n",
        "                'higher_ranked_player_two_level_history_outcome', 'lower_ranked_player_two_level_history_outcome',\n",
        "                'higher_ranked_player_three_level_history_outcome', 'lower_ranked_player_three_level_history_outcome',\n",
        "                'higher_ranked_player_winning_percentage', 'lower_ranked_player_winning_percentage',\n",
        "                'higher_ranked_player_last_level_reached', 'lower_ranked_player_last_level_reached',\n",
        "#                 'higher_ranked_player_two_level_history_wins', 'lower_ranked_player_two_level_history_wins'\n",
        "               ]\n",
        "# for ii in range(11):\n",
        "#     test_date = 20060000+ii*10000\n",
        "#     start_date = test_date - 2*10000\n",
        "#     print(test_date)\n",
        "#     accuracy, estimator, X_test = tennis_prediction(file_name, subset_after_feature_importances, algorithm='random_forest',kwargs={'n_estimators':160,'max_depth':9}, print_results=True, start_date=start_date, test_date=test_date, num_of_years_to_test=1)\n",
        "\n",
        "max_accuracy = 0\n",
        "max_i = 0\n",
        "for i in range(1,200):\n",
        "    result = tennis_prediction(file_name, subset, algorithm='random_forest',kwargs={'n_estimators':i,'max_depth':9}, print_results=False, start_date=19940000, test_date=20020000, num_of_years_to_test=1, print_naive=False)\n",
        "    if max_accuracy < result.accuracy:\n",
        "        max_accuracy = result.accuracy\n",
        "        max_i = i\n",
        "print('max_accuracy: ', max_accuracy, 'at index: ', max_i)\n",
        "    \n",
        "\n"
      ],
      "execution_count": null,
      "outputs": [
        {
          "output_type": "stream",
          "text": [
            "max_accuracy:  0.7166666666666667 at index:  25\n"
          ],
          "name": "stdout"
        }
      ]
    },
    {
      "cell_type": "code",
      "metadata": {
        "id": "-WKn9-Zo89S-",
        "outputId": "9c1292b3-5ff1-448f-de4a-78f2ba82e0cb"
      },
      "source": [
        "# ~82% on 2012!!\n",
        "file_name = \"datasets\\\\manipulated_datasets\\\\Wimbledon_tournament_matches.csv\"\n",
        "my_data = pd.read_csv(file_name)\n",
        "subset =        ranks+[#hands+[\n",
        "#                 'higher_ranked_player_last_level_reached', 'lower_ranked_player_last_level_reached',\n",
        "                'higher_ranked_player_winning_streak', 'lower_ranked_player_winning_streak',\n",
        "#                 'higher_ranked_player_longest_winning_streak', 'lower_ranked_player_longest_winning_streak',\n",
        "                'higher_ranked_player_one_level_history_outcome', 'lower_ranked_player_one_level_history_outcome',\n",
        "                'higher_ranked_player_two_level_history_outcome', 'lower_ranked_player_two_level_history_outcome',\n",
        "                'higher_ranked_player_three_level_history_outcome', 'lower_ranked_player_three_level_history_outcome',\n",
        "                'higher_ranked_player_winning_percentage', 'lower_ranked_player_winning_percentage',\n",
        "                'higher_ranked_player_last_level_reached', 'lower_ranked_player_last_level_reached',\n",
        "#                 'higher_ranked_player_two_level_history_wins', 'lower_ranked_player_two_level_history_wins'\n",
        "               ]\n",
        "\n",
        "max_accuracy = 0\n",
        "max_i = 0\n",
        "for i in range(1,200):\n",
        "    result = tennis_prediction(file_name, subset, algorithm='random_forest',kwargs={'n_estimators':i,'max_depth':9}, print_results=False, start_date=19940000, test_date=20020000, num_of_years_to_test=1, print_naive=False)\n",
        "    if max_accuracy < result.accuracy:\n",
        "        max_accuracy = result.accuracy\n",
        "        max_i = i\n",
        "print('max_accuracy: ', max_accuracy, 'at index: ', max_i)\n",
        "    \n",
        "\n"
      ],
      "execution_count": null,
      "outputs": [
        {
          "output_type": "stream",
          "text": [
            "max_accuracy:  0.6833333333333333 at index:  12\n"
          ],
          "name": "stdout"
        }
      ]
    },
    {
      "cell_type": "code",
      "metadata": {
        "id": "G1x-NRhW89S-"
      },
      "source": [
        "tournaments = ['Manchester', 'Wimbledon', 'Newport', \"Queen's Club\", 'Rosmalen', 'Halle', 'Nottingham', \"'s-Hertogenbosch\", 's-Hertogenbosch',\n",
        "              'Eastbourne', 'London Olympics', \"'S-Hertogenbosch\", 'Antalya']"
      ],
      "execution_count": null,
      "outputs": []
    },
    {
      "cell_type": "code",
      "metadata": {
        "id": "8sLPcTmN89S-",
        "outputId": "7199f634-59b1-4e4a-c17b-8c8a3ab4aeef"
      },
      "source": [
        "# try to find the best 'n_estimators'\n",
        "# Show Maor the results!!!!\n",
        "#Hard\n",
        "file_name = \"datasets\\\\manipulated_datasets\\\\Carpet_surface_matches.csv\"\n",
        "my_data = pd.read_csv(file_name)\n",
        "subset =        ranks+hands+ages+[\n",
        "                'higher_ranked_player_winning_streak', 'lower_ranked_player_winning_streak',\n",
        "                'higher_ranked_player_longest_winning_streak', 'lower_ranked_player_longest_winning_streak',\n",
        "                'higher_ranked_player_winning_percentage', 'lower_ranked_player_winning_percentage',\n",
        "                'higher_ranked_player_last_level_reached', 'lower_ranked_player_last_level_reached',\n",
        "                'higher_ranked_player_one_level_history_no_upset_rank_difference', 'lower_ranked_player_one_level_history_no_upset_rank_difference',\n",
        "\n",
        "#                 'higher_ranked_player_upsets_for', 'lower_ranked_player_upsets_for',\n",
        "#                 'higher_ranked_player_upsets_against', 'lower_ranked_player_upsets_against',\n",
        "    \n",
        "]\n",
        "\n",
        "improvements = 0\n",
        "for ii in range(7):\n",
        "    test_date = 19960000+ii*10000\n",
        "    start_date = test_date - 6*10000\n",
        "    print(test_date)\n",
        "    result = tennis_prediction(file_name, subset, algorithm='random_forest',kwargs={'random_state':49,'n_estimators':160,'max_depth':9}, print_results=False, print_naive=False, start_date=start_date, test_date=test_date, num_of_years_to_test=1)\n",
        "#     accuracy, estimator, improvement = tennis_prediction(file_name, subset, algorithm='random_forest',kwargs={'max_depth':9}, print_results=True, start_date=start_date, test_date=test_date, num_of_years_to_test=1)\n",
        "    print('the improvement is: ', result.improvement)\n",
        "    improvements += result.improvement\n",
        "print ('Improvement average: ', improvements/(ii+1)) \n",
        "    \n",
        "\n",
        "\n",
        "\n"
      ],
      "execution_count": null,
      "outputs": [
        {
          "output_type": "stream",
          "text": [
            "19960000\n",
            "the improvement is:  3.2549728752260365\n",
            "19970000\n",
            "the improvement is:  1.6528925619834767\n",
            "19980000\n",
            "the improvement is:  1.58311345646438\n",
            "19990000\n",
            "the improvement is:  5.614035087719305\n",
            "20000000\n",
            "the improvement is:  6.7484662576687064\n",
            "20010000\n",
            "the improvement is:  6.467661691542292\n",
            "20020000\n",
            "the improvement is:  -3.0000000000000027\n",
            "Improvement average:  3.188734561514885\n"
          ],
          "name": "stdout"
        }
      ]
    },
    {
      "cell_type": "code",
      "metadata": {
        "id": "1imwk1V_89S-",
        "outputId": "964e794d-a82b-443a-9793-66474ceb5d71"
      },
      "source": [
        "file_name = \"datasets\\\\manipulated_datasets\\\\Carpet_surface_matches.csv\"\n",
        "my_data = pd.read_csv(file_name)\n",
        "subset =        ranks+hands+ages+[\n",
        "    'higher_ranked_player_winning_streak', 'lower_ranked_player_winning_streak',\n",
        "    'higher_ranked_player_longest_winning_streak', 'lower_ranked_player_longest_winning_streak',\n",
        "    'higher_ranked_player_winning_percentage', 'lower_ranked_player_winning_percentage',\n",
        "    'higher_ranked_player_last_level_reached', 'lower_ranked_player_last_level_reached',\n",
        "    'higher_ranked_player_one_level_history_no_upset_rank_difference', 'lower_ranked_player_one_level_history_no_upset_rank_difference',\n",
        "    'lower_ranked_player_upsets_for',\n",
        "    'higher_ranked_player_upsets_against', 'lower_ranked_player_upsets_against',   \n",
        "]\n",
        "improvements = 0\n",
        "for ii in range(7):\n",
        "    test_date = 19960000+ii*10000\n",
        "    start_date = test_date - 6*10000\n",
        "    print(test_date)\n",
        "    result = tennis_prediction(file_name, subset, algorithm='random_forest',kwargs={'random_state':49,'n_estimators':160,'max_depth':9}, print_results=False, print_naive=False, start_date=start_date, test_date=test_date, num_of_years_to_test=1)\n",
        "#     accuracy, estimator, improvement = tennis_prediction(file_name, subset, algorithm='random_forest',kwargs={'max_depth':9}, print_results=True, start_date=start_date, test_date=test_date, num_of_years_to_test=1)\n",
        "    print('the improvement is: ', result.improvement)\n",
        "    improvements += result.improvement\n",
        "print ('Improvement average: ', improvements/(ii+1)) "
      ],
      "execution_count": null,
      "outputs": [
        {
          "output_type": "stream",
          "text": [
            "19960000\n",
            "the improvement is:  3.7974683544303667\n",
            "19970000\n",
            "the improvement is:  1.0330578512396715\n",
            "19980000\n",
            "the improvement is:  4.221635883905018\n",
            "19990000\n",
            "the improvement is:  5.964912280701762\n",
            "20000000\n",
            "the improvement is:  7.9754601226993955\n",
            "20010000\n",
            "the improvement is:  5.472636815920396\n",
            "20020000\n",
            "the improvement is:  -1.5000000000000013\n",
            "Improvement average:  3.8521673298423726\n"
          ],
          "name": "stdout"
        }
      ]
    },
    {
      "cell_type": "code",
      "metadata": {
        "collapsed": true,
        "id": "D-ZUHqJK89S_"
      },
      "source": [
        "file_name = \"datasets\\\\manipulated_datasets\\\\all_matches_with_our_features_clean.csv\"\n",
        "subset =   ranks+ [\n",
        "        'higher_ranked_player_last_level_reached', 'lower_ranked_player_last_level_reached',\n",
        "        'higher_ranked_player_winning_streak', 'lower_ranked_player_winning_streak',\n",
        "        'higher_ranked_player_longest_winning_streak', 'lower_ranked_player_longest_winning_streak',\n",
        "        'higher_ranked_player_one_level_history_outcome', 'lower_ranked_player_one_level_history_outcome',\n",
        "        'higher_ranked_player_one_level_history_upset_rank_difference', 'lower_ranked_player_one_level_history_upset_rank_difference',\n",
        "        'higher_ranked_player_one_level_history_no_upset_rank_difference', 'lower_ranked_player_one_level_history_no_upset_rank_difference',\n",
        "        'higher_ranked_player_last_level_reached', 'lower_ranked_player_last_level_reached',\n",
        "       ]"
      ],
      "execution_count": null,
      "outputs": []
    },
    {
      "cell_type": "markdown",
      "metadata": {
        "id": "xdjPAiEH89S_"
      },
      "source": [
        "## Hyperparameters"
      ]
    },
    {
      "cell_type": "code",
      "metadata": {
        "id": "rMyXkJh_89S_",
        "outputId": "753c1144-83c7-447e-e368-2e6d8efc5e3c"
      },
      "source": [
        "file_name = \"datasets\\\\manipulated_datasets\\\\Carpet_surface_matches.csv\"\n",
        "my_data = pd.read_csv(file_name)\n",
        "subset =        ranks+hands+ages+[\n",
        "    'higher_ranked_player_winning_streak', 'lower_ranked_player_winning_streak',\n",
        "    'higher_ranked_player_longest_winning_streak', 'lower_ranked_player_longest_winning_streak',\n",
        "    'higher_ranked_player_winning_percentage', 'lower_ranked_player_winning_percentage',\n",
        "    'higher_ranked_player_last_level_reached', 'lower_ranked_player_last_level_reached',\n",
        "    'higher_ranked_player_one_level_history_no_upset_rank_difference', 'lower_ranked_player_one_level_history_no_upset_rank_difference',\n",
        "    'lower_ranked_player_upsets_for',\n",
        "    'higher_ranked_player_upsets_against', 'lower_ranked_player_upsets_against',   \n",
        "]\n",
        "improvements = 0\n",
        "for ii in range(7):\n",
        "    test_date = 19960000+ii*10000\n",
        "    start_date = test_date - 6*10000\n",
        "    print(test_date)\n",
        "    result = tennis_prediction(file_name, subset, algorithm='tree',kwargs={'random_state':49, 'max_depth':9}, print_results=False, print_naive=False, start_date=start_date, test_date=test_date, num_of_years_to_test=1)\n",
        "    print('the improvement is: ', result.improvement)\n",
        "    improvements += result.improvement\n",
        "print ('Improvement average: ', improvements/(ii+1)) "
      ],
      "execution_count": null,
      "outputs": [
        {
          "output_type": "stream",
          "text": [
            "19960000\n",
            "the improvement is:  -6.871609403254986\n",
            "19970000\n",
            "the improvement is:  -3.3057851239669422\n",
            "19980000\n",
            "the improvement is:  -4.221635883905018\n",
            "19990000\n",
            "the improvement is:  2.1052631578947323\n",
            "20000000\n",
            "the improvement is:  0.613496932515345\n",
            "20010000\n",
            "the improvement is:  8.457711442786076\n",
            "20020000\n",
            "the improvement is:  -13.0\n",
            "Improvement average:  -2.3175084111329705\n"
          ],
          "name": "stdout"
        }
      ]
    },
    {
      "cell_type": "code",
      "metadata": {
        "collapsed": true,
        "id": "hFjz4hib89S_"
      },
      "source": [
        "estimator = result.classifier"
      ],
      "execution_count": null,
      "outputs": []
    },
    {
      "cell_type": "code",
      "metadata": {
        "id": "in4RbhPf89S_",
        "outputId": "b85d7474-2d47-4dbd-dd5e-b1281b19d646"
      },
      "source": [
        "estimator.feature_importances_ "
      ],
      "execution_count": null,
      "outputs": [
        {
          "output_type": "execute_result",
          "data": {
            "text/plain": [
              "array([0.07742109, 0.09077813, 0.        , 0.        , 0.        ,\n",
              "       0.00619719, 0.        , 0.        , 0.08770646, 0.09153119,\n",
              "       0.02605487, 0.01522832, 0.04896758, 0.03513086, 0.18904643,\n",
              "       0.07361339, 0.02704693, 0.01363546, 0.06002896, 0.05997086,\n",
              "       0.04751021, 0.02417738, 0.02595469])"
            ]
          },
          "metadata": {
            "tags": []
          },
          "execution_count": 124
        }
      ]
    },
    {
      "cell_type": "code",
      "metadata": {
        "id": "OwmXbGvI89S_",
        "outputId": "1770bcf4-85b4-45ee-c495-4b4f36b44063"
      },
      "source": [
        "n_nodes = estimator.tree_.node_count\n",
        "children_left = estimator.tree_.children_left\n",
        "children_right = estimator.tree_.children_right\n",
        "feature = estimator.tree_.feature\n",
        "threshold = estimator.tree_.threshold\n",
        "\n",
        "\n",
        "# The tree structure can be traversed to compute various properties such\n",
        "# as the depth of each node and whether or not it is a leaf.\n",
        "node_depth = np.zeros(shape=n_nodes, dtype=np.int64)\n",
        "is_leaves = np.zeros(shape=n_nodes, dtype=bool)\n",
        "stack = [(0, -1)]  # seed is the root node id and its parent depth\n",
        "while len(stack) > 0:\n",
        "    node_id, parent_depth = stack.pop()\n",
        "    node_depth[node_id] = parent_depth + 1\n",
        "\n",
        "    # If we have a test node\n",
        "    if (children_left[node_id] != children_right[node_id]):\n",
        "        stack.append((children_left[node_id], parent_depth + 1))\n",
        "        stack.append((children_right[node_id], parent_depth + 1))\n",
        "    else:\n",
        "        is_leaves[node_id] = True\n",
        "\n",
        "print(\"The binary tree structure has %s nodes and has \"\n",
        "      \"the following tree structure:\"\n",
        "      % n_nodes)\n",
        "for i in range(n_nodes):\n",
        "    if is_leaves[i]:\n",
        "        print(\"%snode=%s leaf node.\" % (node_depth[i] * \"\\t\", i))\n",
        "    else:\n",
        "        print(\"%snode=%s test node: go to node %s if X[:, %s] <= %s else to \"\n",
        "              \"node %s.\"\n",
        "              % (node_depth[i] * \"\\t\",\n",
        "                 i,\n",
        "                 children_left[i],\n",
        "                 feature[i],\n",
        "                 threshold[i],\n",
        "                 children_right[i],\n",
        "                 ))\n",
        "print()\n",
        "\n",
        "# First let's retrieve the decision path of each sample. The decision_path\n",
        "# method allows to retrieve the node indicator functions. A non zero element of\n",
        "# indicator matrix at the position (i, j) indicates that the sample i goes\n",
        "# through the node j.\n",
        "\n",
        "node_indicator = estimator.decision_path(X_test)\n",
        "\n",
        "# Similarly, we can also have the leaves ids reached by each sample.\n",
        "\n",
        "leave_id = estimator.apply(X_test)\n",
        "\n",
        "# Now, it's possible to get the tests that were used to predict a sample or\n",
        "# a group of samples. First, let's make it for the sample.\n",
        "\n",
        "sample_id = 0\n",
        "node_index = node_indicator.indices[node_indicator.indptr[sample_id]:\n",
        "                                    node_indicator.indptr[sample_id + 1]]\n",
        "\n",
        "print('Rules used to predict sample %s: ' % sample_id)\n",
        "for node_id in node_index:\n",
        "    if leave_id[sample_id] == node_id:\n",
        "        continue\n",
        "\n",
        "    if (X_test[sample_id, feature[node_id]] <= threshold[node_id]):\n",
        "        threshold_sign = \"<=\"\n",
        "    else:\n",
        "        threshold_sign = \">\"\n",
        "\n",
        "    print(\"decision id node %s : (X_test[%s, %s] (= %s) %s %s)\"\n",
        "          % (node_id,\n",
        "             sample_id,\n",
        "             feature[node_id],\n",
        "             X_test[sample_id, feature[node_id]],\n",
        "             threshold_sign,\n",
        "             threshold[node_id]))\n",
        "\n",
        "# For a group of samples, we have the following common node.\n",
        "sample_ids = [0, 1]\n",
        "common_nodes = (node_indicator.toarray()[sample_ids].sum(axis=0) ==\n",
        "                len(sample_ids))\n",
        "\n",
        "common_node_id = np.arange(n_nodes)[common_nodes]\n",
        "\n",
        "print(\"\\nThe following samples %s share the node %s in the tree\"\n",
        "      % (sample_ids, common_node_id))\n",
        "print(\"It is %s %% of all nodes.\" % (100 * len(common_node_id) / n_nodes,))"
      ],
      "execution_count": null,
      "outputs": [
        {
          "output_type": "stream",
          "text": [
            "The binary tree structure has 349 nodes and has the following tree structure:\n",
            "node=0 test node: go to node 1 if X[:, 14] <= 0.5879772901535034 else to node 170.\n",
            "\tnode=1 test node: go to node 2 if X[:, 20] <= 1.5 else to node 61.\n",
            "\t\tnode=2 test node: go to node 3 if X[:, 14] <= 0.1547619104385376 else to node 18.\n",
            "\t\t\tnode=3 test node: go to node 4 if X[:, 9] <= 25.84941864013672 else to node 13.\n",
            "\t\t\t\tnode=4 test node: go to node 5 if X[:, 21] <= 0.5 else to node 6.\n",
            "\t\t\t\t\tnode=5 leaf node.\n",
            "\t\t\t\t\tnode=6 test node: go to node 7 if X[:, 0] <= 93.5 else to node 10.\n",
            "\t\t\t\t\t\tnode=7 test node: go to node 8 if X[:, 9] <= 20.651607513427734 else to node 9.\n",
            "\t\t\t\t\t\t\tnode=8 leaf node.\n",
            "\t\t\t\t\t\t\tnode=9 leaf node.\n",
            "\t\t\t\t\t\tnode=10 test node: go to node 11 if X[:, 0] <= 552.5 else to node 12.\n",
            "\t\t\t\t\t\t\tnode=11 leaf node.\n",
            "\t\t\t\t\t\t\tnode=12 leaf node.\n",
            "\t\t\t\tnode=13 test node: go to node 14 if X[:, 22] <= 1.0 else to node 15.\n",
            "\t\t\t\t\tnode=14 leaf node.\n",
            "\t\t\t\t\tnode=15 test node: go to node 16 if X[:, 5] <= 0.5 else to node 17.\n",
            "\t\t\t\t\t\tnode=16 leaf node.\n",
            "\t\t\t\t\t\tnode=17 leaf node.\n",
            "\t\t\tnode=18 test node: go to node 19 if X[:, 19] <= -290.5 else to node 22.\n",
            "\t\t\t\tnode=19 test node: go to node 20 if X[:, 18] <= 1013.0 else to node 21.\n",
            "\t\t\t\t\tnode=20 leaf node.\n",
            "\t\t\t\t\tnode=21 leaf node.\n",
            "\t\t\t\tnode=22 test node: go to node 23 if X[:, 18] <= 304.5 else to node 54.\n",
            "\t\t\t\t\tnode=23 test node: go to node 24 if X[:, 18] <= -23.5 else to node 39.\n",
            "\t\t\t\t\t\tnode=24 test node: go to node 25 if X[:, 1] <= 145.0 else to node 32.\n",
            "\t\t\t\t\t\t\tnode=25 test node: go to node 26 if X[:, 15] <= 0.16249999403953552 else to node 29.\n",
            "\t\t\t\t\t\t\t\tnode=26 test node: go to node 27 if X[:, 14] <= 0.554804801940918 else to node 28.\n",
            "\t\t\t\t\t\t\t\t\tnode=27 leaf node.\n",
            "\t\t\t\t\t\t\t\t\tnode=28 leaf node.\n",
            "\t\t\t\t\t\t\t\tnode=29 test node: go to node 30 if X[:, 8] <= 23.049964904785156 else to node 31.\n",
            "\t\t\t\t\t\t\t\t\tnode=30 leaf node.\n",
            "\t\t\t\t\t\t\t\t\tnode=31 leaf node.\n",
            "\t\t\t\t\t\t\tnode=32 test node: go to node 33 if X[:, 1] <= 265.0 else to node 36.\n",
            "\t\t\t\t\t\t\t\tnode=33 test node: go to node 34 if X[:, 0] <= 183.0 else to node 35.\n",
            "\t\t\t\t\t\t\t\t\tnode=34 leaf node.\n",
            "\t\t\t\t\t\t\t\t\tnode=35 leaf node.\n",
            "\t\t\t\t\t\t\t\tnode=36 test node: go to node 37 if X[:, 9] <= 24.502395629882812 else to node 38.\n",
            "\t\t\t\t\t\t\t\t\tnode=37 leaf node.\n",
            "\t\t\t\t\t\t\t\t\tnode=38 leaf node.\n",
            "\t\t\t\t\t\tnode=39 test node: go to node 40 if X[:, 14] <= 0.5030120611190796 else to node 47.\n",
            "\t\t\t\t\t\t\tnode=40 test node: go to node 41 if X[:, 15] <= 0.53125 else to node 44.\n",
            "\t\t\t\t\t\t\t\tnode=41 test node: go to node 42 if X[:, 8] <= 30.23956298828125 else to node 43.\n",
            "\t\t\t\t\t\t\t\t\tnode=42 leaf node.\n",
            "\t\t\t\t\t\t\t\t\tnode=43 leaf node.\n",
            "\t\t\t\t\t\t\t\tnode=44 test node: go to node 45 if X[:, 19] <= -42.5 else to node 46.\n",
            "\t\t\t\t\t\t\t\t\tnode=45 leaf node.\n",
            "\t\t\t\t\t\t\t\t\tnode=46 leaf node.\n",
            "\t\t\t\t\t\t\tnode=47 test node: go to node 48 if X[:, 0] <= 24.5 else to node 51.\n",
            "\t\t\t\t\t\t\t\tnode=48 test node: go to node 49 if X[:, 14] <= 0.5571895837783813 else to node 50.\n",
            "\t\t\t\t\t\t\t\t\tnode=49 leaf node.\n",
            "\t\t\t\t\t\t\t\t\tnode=50 leaf node.\n",
            "\t\t\t\t\t\t\t\tnode=51 test node: go to node 52 if X[:, 9] <= 21.885009765625 else to node 53.\n",
            "\t\t\t\t\t\t\t\t\tnode=52 leaf node.\n",
            "\t\t\t\t\t\t\t\t\tnode=53 leaf node.\n",
            "\t\t\t\t\tnode=54 test node: go to node 55 if X[:, 1] <= 465.5 else to node 60.\n",
            "\t\t\t\t\t\tnode=55 test node: go to node 56 if X[:, 9] <= 26.08350372314453 else to node 57.\n",
            "\t\t\t\t\t\t\tnode=56 leaf node.\n",
            "\t\t\t\t\t\t\tnode=57 test node: go to node 58 if X[:, 19] <= -135.0 else to node 59.\n",
            "\t\t\t\t\t\t\t\tnode=58 leaf node.\n",
            "\t\t\t\t\t\t\t\tnode=59 leaf node.\n",
            "\t\t\t\t\t\tnode=60 leaf node.\n",
            "\t\tnode=61 test node: go to node 62 if X[:, 14] <= 0.37171053886413574 else to node 95.\n",
            "\t\t\tnode=62 test node: go to node 63 if X[:, 19] <= -188.0 else to node 64.\n",
            "\t\t\t\tnode=63 leaf node.\n",
            "\t\t\t\tnode=64 test node: go to node 65 if X[:, 17] <= 2.5 else to node 74.\n",
            "\t\t\t\t\tnode=65 test node: go to node 66 if X[:, 5] <= 0.5 else to node 69.\n",
            "\t\t\t\t\t\tnode=66 test node: go to node 67 if X[:, 1] <= 30.0 else to node 68.\n",
            "\t\t\t\t\t\t\tnode=67 leaf node.\n",
            "\t\t\t\t\t\t\tnode=68 leaf node.\n",
            "\t\t\t\t\t\tnode=69 test node: go to node 70 if X[:, 8] <= 27.242984771728516 else to node 73.\n",
            "\t\t\t\t\t\t\tnode=70 test node: go to node 71 if X[:, 18] <= -37.0 else to node 72.\n",
            "\t\t\t\t\t\t\t\tnode=71 leaf node.\n",
            "\t\t\t\t\t\t\t\tnode=72 leaf node.\n",
            "\t\t\t\t\t\t\tnode=73 leaf node.\n",
            "\t\t\t\t\tnode=74 test node: go to node 75 if X[:, 21] <= 8.5 else to node 84.\n",
            "\t\t\t\t\t\tnode=75 test node: go to node 76 if X[:, 1] <= 175.0 else to node 83.\n",
            "\t\t\t\t\t\t\tnode=76 test node: go to node 77 if X[:, 21] <= 0.5 else to node 80.\n",
            "\t\t\t\t\t\t\t\tnode=77 test node: go to node 78 if X[:, 8] <= 24.83915138244629 else to node 79.\n",
            "\t\t\t\t\t\t\t\t\tnode=78 leaf node.\n",
            "\t\t\t\t\t\t\t\t\tnode=79 leaf node.\n",
            "\t\t\t\t\t\t\t\tnode=80 test node: go to node 81 if X[:, 0] <= 63.0 else to node 82.\n",
            "\t\t\t\t\t\t\t\t\tnode=81 leaf node.\n",
            "\t\t\t\t\t\t\t\t\tnode=82 leaf node.\n",
            "\t\t\t\t\t\t\tnode=83 leaf node.\n",
            "\t\t\t\t\t\tnode=84 test node: go to node 85 if X[:, 14] <= 0.3266666531562805 else to node 90.\n",
            "\t\t\t\t\t\t\tnode=85 test node: go to node 86 if X[:, 13] <= 10.5 else to node 89.\n",
            "\t\t\t\t\t\t\t\tnode=86 test node: go to node 87 if X[:, 8] <= 24.483230590820312 else to node 88.\n",
            "\t\t\t\t\t\t\t\t\tnode=87 leaf node.\n",
            "\t\t\t\t\t\t\t\t\tnode=88 leaf node.\n",
            "\t\t\t\t\t\t\t\tnode=89 leaf node.\n",
            "\t\t\t\t\t\t\tnode=90 test node: go to node 91 if X[:, 18] <= -20.5 else to node 92.\n",
            "\t\t\t\t\t\t\t\tnode=91 leaf node.\n",
            "\t\t\t\t\t\t\t\tnode=92 test node: go to node 93 if X[:, 16] <= 1.5 else to node 94.\n",
            "\t\t\t\t\t\t\t\t\tnode=93 leaf node.\n",
            "\t\t\t\t\t\t\t\t\tnode=94 leaf node.\n",
            "\t\t\tnode=95 test node: go to node 96 if X[:, 8] <= 25.04722785949707 else to node 125.\n",
            "\t\t\t\tnode=96 test node: go to node 97 if X[:, 1] <= 178.5 else to node 120.\n",
            "\t\t\t\t\tnode=97 test node: go to node 98 if X[:, 12] <= 2.5 else to node 107.\n",
            "\t\t\t\t\t\tnode=98 test node: go to node 99 if X[:, 0] <= 4.0 else to node 102.\n",
            "\t\t\t\t\t\t\tnode=99 test node: go to node 100 if X[:, 18] <= 123.5 else to node 101.\n",
            "\t\t\t\t\t\t\t\tnode=100 leaf node.\n",
            "\t\t\t\t\t\t\t\tnode=101 leaf node.\n",
            "\t\t\t\t\t\t\tnode=102 test node: go to node 103 if X[:, 1] <= 36.0 else to node 104.\n",
            "\t\t\t\t\t\t\t\tnode=103 leaf node.\n",
            "\t\t\t\t\t\t\t\tnode=104 test node: go to node 105 if X[:, 17] <= 3.5 else to node 106.\n",
            "\t\t\t\t\t\t\t\t\tnode=105 leaf node.\n",
            "\t\t\t\t\t\t\t\t\tnode=106 leaf node.\n",
            "\t\t\t\t\t\tnode=107 test node: go to node 108 if X[:, 19] <= -48.0 else to node 113.\n",
            "\t\t\t\t\t\t\tnode=108 test node: go to node 109 if X[:, 16] <= 5.5 else to node 110.\n",
            "\t\t\t\t\t\t\t\tnode=109 leaf node.\n",
            "\t\t\t\t\t\t\t\tnode=110 test node: go to node 111 if X[:, 0] <= 56.5 else to node 112.\n",
            "\t\t\t\t\t\t\t\t\tnode=111 leaf node.\n",
            "\t\t\t\t\t\t\t\t\tnode=112 leaf node.\n",
            "\t\t\t\t\t\t\tnode=113 test node: go to node 114 if X[:, 15] <= 0.6535897254943848 else to node 117.\n",
            "\t\t\t\t\t\t\t\tnode=114 test node: go to node 115 if X[:, 8] <= 23.74127197265625 else to node 116.\n",
            "\t\t\t\t\t\t\t\t\tnode=115 leaf node.\n",
            "\t\t\t\t\t\t\t\t\tnode=116 leaf node.\n",
            "\t\t\t\t\t\t\t\tnode=117 test node: go to node 118 if X[:, 22] <= 35.0 else to node 119.\n",
            "\t\t\t\t\t\t\t\t\tnode=118 leaf node.\n",
            "\t\t\t\t\t\t\t\t\tnode=119 leaf node.\n",
            "\t\t\t\t\tnode=120 test node: go to node 121 if X[:, 9] <= 33.89870071411133 else to node 124.\n",
            "\t\t\t\t\t\tnode=121 test node: go to node 122 if X[:, 8] <= 19.741273880004883 else to node 123.\n",
            "\t\t\t\t\t\t\tnode=122 leaf node.\n",
            "\t\t\t\t\t\t\tnode=123 leaf node.\n",
            "\t\t\t\t\t\tnode=124 leaf node.\n",
            "\t\t\t\tnode=125 test node: go to node 126 if X[:, 22] <= 9.5 else to node 155.\n",
            "\t\t\t\t\tnode=126 test node: go to node 127 if X[:, 16] <= 3.5 else to node 140.\n",
            "\t\t\t\t\t\tnode=127 test node: go to node 128 if X[:, 14] <= 0.4499443769454956 else to node 133.\n",
            "\t\t\t\t\t\t\tnode=128 test node: go to node 129 if X[:, 19] <= -117.0 else to node 130.\n",
            "\t\t\t\t\t\t\t\tnode=129 leaf node.\n",
            "\t\t\t\t\t\t\t\tnode=130 test node: go to node 131 if X[:, 18] <= 104.0 else to node 132.\n",
            "\t\t\t\t\t\t\t\t\tnode=131 leaf node.\n",
            "\t\t\t\t\t\t\t\t\tnode=132 leaf node.\n",
            "\t\t\t\t\t\t\tnode=133 test node: go to node 134 if X[:, 12] <= 3.5 else to node 137.\n",
            "\t\t\t\t\t\t\t\tnode=134 test node: go to node 135 if X[:, 19] <= -97.5 else to node 136.\n",
            "\t\t\t\t\t\t\t\t\tnode=135 leaf node.\n",
            "\t\t\t\t\t\t\t\t\tnode=136 leaf node.\n",
            "\t\t\t\t\t\t\t\tnode=137 test node: go to node 138 if X[:, 0] <= 80.0 else to node 139.\n",
            "\t\t\t\t\t\t\t\t\tnode=138 leaf node.\n",
            "\t\t\t\t\t\t\t\t\tnode=139 leaf node.\n",
            "\t\t\t\t\t\tnode=140 test node: go to node 141 if X[:, 14] <= 0.488630473613739 else to node 148.\n",
            "\t\t\t\t\t\t\tnode=141 test node: go to node 142 if X[:, 15] <= 0.515377402305603 else to node 145.\n",
            "\t\t\t\t\t\t\t\tnode=142 test node: go to node 143 if X[:, 9] <= 23.78097152709961 else to node 144.\n",
            "\t\t\t\t\t\t\t\t\tnode=143 leaf node.\n",
            "\t\t\t\t\t\t\t\t\tnode=144 leaf node.\n",
            "\t\t\t\t\t\t\t\tnode=145 test node: go to node 146 if X[:, 9] <= 33.022586822509766 else to node 147.\n",
            "\t\t\t\t\t\t\t\t\tnode=146 leaf node.\n",
            "\t\t\t\t\t\t\t\t\tnode=147 leaf node.\n",
            "\t\t\t\t\t\t\tnode=148 test node: go to node 149 if X[:, 8] <= 30.778919219970703 else to node 152.\n",
            "\t\t\t\t\t\t\t\tnode=149 test node: go to node 150 if X[:, 14] <= 0.5425600409507751 else to node 151.\n",
            "\t\t\t\t\t\t\t\t\tnode=150 leaf node.\n",
            "\t\t\t\t\t\t\t\t\tnode=151 leaf node.\n",
            "\t\t\t\t\t\t\t\tnode=152 test node: go to node 153 if X[:, 12] <= 3.5 else to node 154.\n",
            "\t\t\t\t\t\t\t\t\tnode=153 leaf node.\n",
            "\t\t\t\t\t\t\t\t\tnode=154 leaf node.\n",
            "\t\t\t\t\tnode=155 test node: go to node 156 if X[:, 12] <= 4.5 else to node 163.\n",
            "\t\t\t\t\t\tnode=156 test node: go to node 157 if X[:, 9] <= 24.7734432220459 else to node 158.\n",
            "\t\t\t\t\t\t\tnode=157 leaf node.\n",
            "\t\t\t\t\t\t\tnode=158 test node: go to node 159 if X[:, 9] <= 25.563312530517578 else to node 160.\n",
            "\t\t\t\t\t\t\t\tnode=159 leaf node.\n",
            "\t\t\t\t\t\t\t\tnode=160 test node: go to node 161 if X[:, 9] <= 25.77001953125 else to node 162.\n",
            "\t\t\t\t\t\t\t\t\tnode=161 leaf node.\n",
            "\t\t\t\t\t\t\t\t\tnode=162 leaf node.\n",
            "\t\t\t\t\t\tnode=163 test node: go to node 164 if X[:, 13] <= 6.5 else to node 169.\n",
            "\t\t\t\t\t\t\tnode=164 test node: go to node 165 if X[:, 1] <= 91.5 else to node 168.\n",
            "\t\t\t\t\t\t\t\tnode=165 test node: go to node 166 if X[:, 22] <= 19.5 else to node 167.\n",
            "\t\t\t\t\t\t\t\t\tnode=166 leaf node.\n",
            "\t\t\t\t\t\t\t\t\tnode=167 leaf node.\n",
            "\t\t\t\t\t\t\t\tnode=168 leaf node.\n",
            "\t\t\t\t\t\t\tnode=169 leaf node.\n",
            "\tnode=170 test node: go to node 171 if X[:, 13] <= 3.5 else to node 250.\n",
            "\t\tnode=171 test node: go to node 172 if X[:, 20] <= 3.5 else to node 209.\n",
            "\t\t\tnode=172 test node: go to node 173 if X[:, 21] <= 40.5 else to node 208.\n",
            "\t\t\t\tnode=173 test node: go to node 174 if X[:, 9] <= 21.722108840942383 else to node 193.\n",
            "\t\t\t\t\tnode=174 test node: go to node 175 if X[:, 1] <= 85.5 else to node 184.\n",
            "\t\t\t\t\t\tnode=175 test node: go to node 176 if X[:, 15] <= 0.3541666865348816 else to node 177.\n",
            "\t\t\t\t\t\t\tnode=176 leaf node.\n",
            "\t\t\t\t\t\t\tnode=177 test node: go to node 178 if X[:, 9] <= 20.691307067871094 else to node 181.\n",
            "\t\t\t\t\t\t\t\tnode=178 test node: go to node 179 if X[:, 19] <= 0.5 else to node 180.\n",
            "\t\t\t\t\t\t\t\t\tnode=179 leaf node.\n",
            "\t\t\t\t\t\t\t\t\tnode=180 leaf node.\n",
            "\t\t\t\t\t\t\t\tnode=181 test node: go to node 182 if X[:, 0] <= 1.5 else to node 183.\n",
            "\t\t\t\t\t\t\t\t\tnode=182 leaf node.\n",
            "\t\t\t\t\t\t\t\t\tnode=183 leaf node.\n",
            "\t\t\t\t\t\tnode=184 test node: go to node 185 if X[:, 9] <= 21.70431137084961 else to node 192.\n",
            "\t\t\t\t\t\t\tnode=185 test node: go to node 186 if X[:, 9] <= 18.73374366760254 else to node 189.\n",
            "\t\t\t\t\t\t\t\tnode=186 test node: go to node 187 if X[:, 10] <= 1.5 else to node 188.\n",
            "\t\t\t\t\t\t\t\t\tnode=187 leaf node.\n",
            "\t\t\t\t\t\t\t\t\tnode=188 leaf node.\n",
            "\t\t\t\t\t\t\t\tnode=189 test node: go to node 190 if X[:, 18] <= 231.5 else to node 191.\n",
            "\t\t\t\t\t\t\t\t\tnode=190 leaf node.\n",
            "\t\t\t\t\t\t\t\t\tnode=191 leaf node.\n",
            "\t\t\t\t\t\t\tnode=192 leaf node.\n",
            "\t\t\t\t\tnode=193 test node: go to node 194 if X[:, 18] <= -902.0 else to node 195.\n",
            "\t\t\t\t\t\tnode=194 leaf node.\n",
            "\t\t\t\t\t\tnode=195 test node: go to node 196 if X[:, 15] <= 0.2679426074028015 else to node 203.\n",
            "\t\t\t\t\t\t\tnode=196 test node: go to node 197 if X[:, 19] <= -4.0 else to node 200.\n",
            "\t\t\t\t\t\t\t\tnode=197 test node: go to node 198 if X[:, 10] <= 3.0 else to node 199.\n",
            "\t\t\t\t\t\t\t\t\tnode=198 leaf node.\n",
            "\t\t\t\t\t\t\t\t\tnode=199 leaf node.\n",
            "\t\t\t\t\t\t\t\tnode=200 test node: go to node 201 if X[:, 8] <= 23.311429977416992 else to node 202.\n",
            "\t\t\t\t\t\t\t\t\tnode=201 leaf node.\n",
            "\t\t\t\t\t\t\t\t\tnode=202 leaf node.\n",
            "\t\t\t\t\t\t\tnode=203 test node: go to node 204 if X[:, 9] <= 27.316905975341797 else to node 205.\n",
            "\t\t\t\t\t\t\t\tnode=204 leaf node.\n",
            "\t\t\t\t\t\t\t\tnode=205 test node: go to node 206 if X[:, 14] <= 0.6017241477966309 else to node 207.\n",
            "\t\t\t\t\t\t\t\t\tnode=206 leaf node.\n",
            "\t\t\t\t\t\t\t\t\tnode=207 leaf node.\n",
            "\t\t\t\tnode=208 leaf node.\n",
            "\t\t\tnode=209 test node: go to node 210 if X[:, 0] <= 7.5 else to node 225.\n",
            "\t\t\t\tnode=210 test node: go to node 211 if X[:, 1] <= 27.0 else to node 214.\n",
            "\t\t\t\t\tnode=211 test node: go to node 212 if X[:, 8] <= 25.642709732055664 else to node 213.\n",
            "\t\t\t\t\t\tnode=212 leaf node.\n",
            "\t\t\t\t\t\tnode=213 leaf node.\n",
            "\t\t\t\t\tnode=214 test node: go to node 215 if X[:, 19] <= 112.0 else to node 224.\n",
            "\t\t\t\t\t\tnode=215 test node: go to node 216 if X[:, 9] <= 20.688568115234375 else to node 219.\n",
            "\t\t\t\t\t\t\tnode=216 test node: go to node 217 if X[:, 18] <= 41.0 else to node 218.\n",
            "\t\t\t\t\t\t\t\tnode=217 leaf node.\n",
            "\t\t\t\t\t\t\t\tnode=218 leaf node.\n",
            "\t\t\t\t\t\t\tnode=219 test node: go to node 220 if X[:, 18] <= 8.5 else to node 223.\n",
            "\t\t\t\t\t\t\t\tnode=220 test node: go to node 221 if X[:, 20] <= 8.5 else to node 222.\n",
            "\t\t\t\t\t\t\t\t\tnode=221 leaf node.\n",
            "\t\t\t\t\t\t\t\t\tnode=222 leaf node.\n",
            "\t\t\t\t\t\t\t\tnode=223 leaf node.\n",
            "\t\t\t\t\t\tnode=224 leaf node.\n",
            "\t\t\t\tnode=225 test node: go to node 226 if X[:, 0] <= 87.5 else to node 247.\n",
            "\t\t\t\t\tnode=226 test node: go to node 227 if X[:, 15] <= 0.4095860719680786 else to node 236.\n",
            "\t\t\t\t\t\tnode=227 test node: go to node 228 if X[:, 16] <= 2.5 else to node 229.\n",
            "\t\t\t\t\t\t\tnode=228 leaf node.\n",
            "\t\t\t\t\t\t\tnode=229 test node: go to node 230 if X[:, 8] <= 22.17932891845703 else to node 233.\n",
            "\t\t\t\t\t\t\t\tnode=230 test node: go to node 231 if X[:, 19] <= 165.5 else to node 232.\n",
            "\t\t\t\t\t\t\t\t\tnode=231 leaf node.\n",
            "\t\t\t\t\t\t\t\t\tnode=232 leaf node.\n",
            "\t\t\t\t\t\t\t\tnode=233 test node: go to node 234 if X[:, 15] <= 0.35857143998146057 else to node 235.\n",
            "\t\t\t\t\t\t\t\t\tnode=234 leaf node.\n",
            "\t\t\t\t\t\t\t\t\tnode=235 leaf node.\n",
            "\t\t\t\t\t\tnode=236 test node: go to node 237 if X[:, 1] <= 58.5 else to node 242.\n",
            "\t\t\t\t\t\t\tnode=237 test node: go to node 238 if X[:, 10] <= 4.5 else to node 241.\n",
            "\t\t\t\t\t\t\t\tnode=238 test node: go to node 239 if X[:, 1] <= 56.5 else to node 240.\n",
            "\t\t\t\t\t\t\t\t\tnode=239 leaf node.\n",
            "\t\t\t\t\t\t\t\t\tnode=240 leaf node.\n",
            "\t\t\t\t\t\t\t\tnode=241 leaf node.\n",
            "\t\t\t\t\t\t\tnode=242 test node: go to node 243 if X[:, 20] <= 16.0 else to node 246.\n",
            "\t\t\t\t\t\t\t\tnode=243 test node: go to node 244 if X[:, 18] <= 3.0 else to node 245.\n",
            "\t\t\t\t\t\t\t\t\tnode=244 leaf node.\n",
            "\t\t\t\t\t\t\t\t\tnode=245 leaf node.\n",
            "\t\t\t\t\t\t\t\tnode=246 leaf node.\n",
            "\t\t\t\t\tnode=247 test node: go to node 248 if X[:, 10] <= 2.0 else to node 249.\n",
            "\t\t\t\t\t\tnode=248 leaf node.\n",
            "\t\t\t\t\t\tnode=249 leaf node.\n",
            "\t\tnode=250 test node: go to node 251 if X[:, 1] <= 59.5 else to node 302.\n",
            "\t\t\tnode=251 test node: go to node 252 if X[:, 8] <= 21.719371795654297 else to node 263.\n",
            "\t\t\t\tnode=252 test node: go to node 253 if X[:, 14] <= 0.6711711883544922 else to node 262.\n",
            "\t\t\t\t\tnode=253 test node: go to node 254 if X[:, 18] <= -8.5 else to node 255.\n",
            "\t\t\t\t\t\tnode=254 leaf node.\n",
            "\t\t\t\t\t\tnode=255 test node: go to node 256 if X[:, 1] <= 48.0 else to node 261.\n",
            "\t\t\t\t\t\t\tnode=256 test node: go to node 257 if X[:, 11] <= 3.5 else to node 258.\n",
            "\t\t\t\t\t\t\t\tnode=257 leaf node.\n",
            "\t\t\t\t\t\t\t\tnode=258 test node: go to node 259 if X[:, 14] <= 0.640625 else to node 260.\n",
            "\t\t\t\t\t\t\t\t\tnode=259 leaf node.\n",
            "\t\t\t\t\t\t\t\t\tnode=260 leaf node.\n",
            "\t\t\t\t\t\t\tnode=261 leaf node.\n",
            "\t\t\t\t\tnode=262 leaf node.\n",
            "\t\t\t\tnode=263 test node: go to node 264 if X[:, 0] <= 20.5 else to node 287.\n",
            "\t\t\t\t\tnode=264 test node: go to node 265 if X[:, 15] <= 0.7322129011154175 else to node 280.\n",
            "\t\t\t\t\t\tnode=265 test node: go to node 266 if X[:, 11] <= 2.5 else to node 273.\n",
            "\t\t\t\t\t\t\tnode=266 test node: go to node 267 if X[:, 1] <= 18.5 else to node 270.\n",
            "\t\t\t\t\t\t\t\tnode=267 test node: go to node 268 if X[:, 14] <= 0.7468461990356445 else to node 269.\n",
            "\t\t\t\t\t\t\t\t\tnode=268 leaf node.\n",
            "\t\t\t\t\t\t\t\t\tnode=269 leaf node.\n",
            "\t\t\t\t\t\t\t\tnode=270 test node: go to node 271 if X[:, 9] <= 27.394935607910156 else to node 272.\n",
            "\t\t\t\t\t\t\t\t\tnode=271 leaf node.\n",
            "\t\t\t\t\t\t\t\t\tnode=272 leaf node.\n",
            "\t\t\t\t\t\t\tnode=273 test node: go to node 274 if X[:, 16] <= 4.5 else to node 277.\n",
            "\t\t\t\t\t\t\t\tnode=274 test node: go to node 275 if X[:, 18] <= 28.5 else to node 276.\n",
            "\t\t\t\t\t\t\t\t\tnode=275 leaf node.\n",
            "\t\t\t\t\t\t\t\t\tnode=276 leaf node.\n",
            "\t\t\t\t\t\t\t\tnode=277 test node: go to node 278 if X[:, 14] <= 0.782745361328125 else to node 279.\n",
            "\t\t\t\t\t\t\t\t\tnode=278 leaf node.\n",
            "\t\t\t\t\t\t\t\t\tnode=279 leaf node.\n",
            "\t\t\t\t\t\tnode=280 test node: go to node 281 if X[:, 8] <= 24.548938751220703 else to node 282.\n",
            "\t\t\t\t\t\t\tnode=281 leaf node.\n",
            "\t\t\t\t\t\t\tnode=282 test node: go to node 283 if X[:, 15] <= 0.782620370388031 else to node 286.\n",
            "\t\t\t\t\t\t\t\tnode=283 test node: go to node 284 if X[:, 17] <= 5.5 else to node 285.\n",
            "\t\t\t\t\t\t\t\t\tnode=284 leaf node.\n",
            "\t\t\t\t\t\t\t\t\tnode=285 leaf node.\n",
            "\t\t\t\t\t\t\t\tnode=286 leaf node.\n",
            "\t\t\t\t\tnode=287 test node: go to node 288 if X[:, 12] <= 8.5 else to node 295.\n",
            "\t\t\t\t\t\tnode=288 test node: go to node 289 if X[:, 14] <= 0.6481879353523254 else to node 294.\n",
            "\t\t\t\t\t\t\tnode=289 test node: go to node 290 if X[:, 9] <= 22.511978149414062 else to node 291.\n",
            "\t\t\t\t\t\t\t\tnode=290 leaf node.\n",
            "\t\t\t\t\t\t\t\tnode=291 test node: go to node 292 if X[:, 15] <= 0.5401041507720947 else to node 293.\n",
            "\t\t\t\t\t\t\t\t\tnode=292 leaf node.\n",
            "\t\t\t\t\t\t\t\t\tnode=293 leaf node.\n",
            "\t\t\t\t\t\t\tnode=294 leaf node.\n",
            "\t\t\t\t\t\tnode=295 test node: go to node 296 if X[:, 9] <= 31.85626220703125 else to node 301.\n",
            "\t\t\t\t\t\t\tnode=296 test node: go to node 297 if X[:, 20] <= 1.0 else to node 298.\n",
            "\t\t\t\t\t\t\t\tnode=297 leaf node.\n",
            "\t\t\t\t\t\t\t\tnode=298 test node: go to node 299 if X[:, 9] <= 23.033538818359375 else to node 300.\n",
            "\t\t\t\t\t\t\t\t\tnode=299 leaf node.\n",
            "\t\t\t\t\t\t\t\t\tnode=300 leaf node.\n",
            "\t\t\t\t\t\t\tnode=301 leaf node.\n",
            "\t\t\tnode=302 test node: go to node 303 if X[:, 10] <= 1.5 else to node 334.\n",
            "\t\t\t\tnode=303 test node: go to node 304 if X[:, 12] <= 6.5 else to node 319.\n",
            "\t\t\t\t\tnode=304 test node: go to node 305 if X[:, 15] <= 0.46685606241226196 else to node 306.\n",
            "\t\t\t\t\t\tnode=305 leaf node.\n",
            "\t\t\t\t\t\tnode=306 test node: go to node 307 if X[:, 15] <= 0.5211939811706543 else to node 312.\n",
            "\t\t\t\t\t\t\tnode=307 test node: go to node 308 if X[:, 16] <= 4.5 else to node 309.\n",
            "\t\t\t\t\t\t\t\tnode=308 leaf node.\n",
            "\t\t\t\t\t\t\t\tnode=309 test node: go to node 310 if X[:, 18] <= 45.5 else to node 311.\n",
            "\t\t\t\t\t\t\t\t\tnode=310 leaf node.\n",
            "\t\t\t\t\t\t\t\t\tnode=311 leaf node.\n",
            "\t\t\t\t\t\t\tnode=312 test node: go to node 313 if X[:, 16] <= 4.5 else to node 316.\n",
            "\t\t\t\t\t\t\t\tnode=313 test node: go to node 314 if X[:, 8] <= 21.121150970458984 else to node 315.\n",
            "\t\t\t\t\t\t\t\t\tnode=314 leaf node.\n",
            "\t\t\t\t\t\t\t\t\tnode=315 leaf node.\n",
            "\t\t\t\t\t\t\t\tnode=316 test node: go to node 317 if X[:, 0] <= 53.5 else to node 318.\n",
            "\t\t\t\t\t\t\t\t\tnode=317 leaf node.\n",
            "\t\t\t\t\t\t\t\t\tnode=318 leaf node.\n",
            "\t\t\t\t\tnode=319 test node: go to node 320 if X[:, 22] <= 30.5 else to node 333.\n",
            "\t\t\t\t\t\tnode=320 test node: go to node 321 if X[:, 20] <= 21.5 else to node 326.\n",
            "\t\t\t\t\t\t\tnode=321 test node: go to node 322 if X[:, 21] <= 4.5 else to node 323.\n",
            "\t\t\t\t\t\t\t\tnode=322 leaf node.\n",
            "\t\t\t\t\t\t\t\tnode=323 test node: go to node 324 if X[:, 14] <= 0.596632719039917 else to node 325.\n",
            "\t\t\t\t\t\t\t\t\tnode=324 leaf node.\n",
            "\t\t\t\t\t\t\t\t\tnode=325 leaf node.\n",
            "\t\t\t\t\t\t\tnode=326 test node: go to node 327 if X[:, 0] <= 18.5 else to node 330.\n",
            "\t\t\t\t\t\t\t\tnode=327 test node: go to node 328 if X[:, 9] <= 26.440793991088867 else to node 329.\n",
            "\t\t\t\t\t\t\t\t\tnode=328 leaf node.\n",
            "\t\t\t\t\t\t\t\t\tnode=329 leaf node.\n",
            "\t\t\t\t\t\t\t\tnode=330 test node: go to node 331 if X[:, 9] <= 32.43395233154297 else to node 332.\n",
            "\t\t\t\t\t\t\t\t\tnode=331 leaf node.\n",
            "\t\t\t\t\t\t\t\t\tnode=332 leaf node.\n",
            "\t\t\t\t\t\tnode=333 leaf node.\n",
            "\t\t\t\tnode=334 test node: go to node 335 if X[:, 19] <= 58.0 else to node 346.\n",
            "\t\t\t\t\tnode=335 test node: go to node 336 if X[:, 12] <= 2.5 else to node 337.\n",
            "\t\t\t\t\t\tnode=336 leaf node.\n",
            "\t\t\t\t\t\tnode=337 test node: go to node 338 if X[:, 10] <= 14.0 else to node 345.\n",
            "\t\t\t\t\t\t\tnode=338 test node: go to node 339 if X[:, 21] <= 0.5 else to node 342.\n",
            "\t\t\t\t\t\t\t\tnode=339 test node: go to node 340 if X[:, 11] <= 2.5 else to node 341.\n",
            "\t\t\t\t\t\t\t\t\tnode=340 leaf node.\n",
            "\t\t\t\t\t\t\t\t\tnode=341 leaf node.\n",
            "\t\t\t\t\t\t\t\tnode=342 test node: go to node 343 if X[:, 22] <= 5.5 else to node 344.\n",
            "\t\t\t\t\t\t\t\t\tnode=343 leaf node.\n",
            "\t\t\t\t\t\t\t\t\tnode=344 leaf node.\n",
            "\t\t\t\t\t\t\tnode=345 leaf node.\n",
            "\t\t\t\t\tnode=346 test node: go to node 347 if X[:, 0] <= 97.5 else to node 348.\n",
            "\t\t\t\t\t\tnode=347 leaf node.\n",
            "\t\t\t\t\t\tnode=348 leaf node.\n",
            "\n"
          ],
          "name": "stdout"
        },
        {
          "output_type": "error",
          "ename": "NameError",
          "evalue": "name 'X_test' is not defined",
          "traceback": [
            "\u001b[1;31m---------------------------------------------------------------------------\u001b[0m",
            "\u001b[1;31mNameError\u001b[0m                                 Traceback (most recent call last)",
            "\u001b[1;32m<ipython-input-125-56f3391502e3>\u001b[0m in \u001b[0;36m<module>\u001b[1;34m()\u001b[0m\n\u001b[0;32m     45\u001b[0m \u001b[1;31m# through the node j.\u001b[0m\u001b[1;33m\u001b[0m\u001b[1;33m\u001b[0m\u001b[0m\n\u001b[0;32m     46\u001b[0m \u001b[1;33m\u001b[0m\u001b[0m\n\u001b[1;32m---> 47\u001b[1;33m \u001b[0mnode_indicator\u001b[0m \u001b[1;33m=\u001b[0m \u001b[0mestimator\u001b[0m\u001b[1;33m.\u001b[0m\u001b[0mdecision_path\u001b[0m\u001b[1;33m(\u001b[0m\u001b[0mX_test\u001b[0m\u001b[1;33m)\u001b[0m\u001b[1;33m\u001b[0m\u001b[0m\n\u001b[0m\u001b[0;32m     48\u001b[0m \u001b[1;33m\u001b[0m\u001b[0m\n\u001b[0;32m     49\u001b[0m \u001b[1;31m# Similarly, we can also have the leaves ids reached by each sample.\u001b[0m\u001b[1;33m\u001b[0m\u001b[1;33m\u001b[0m\u001b[0m\n",
            "\u001b[1;31mNameError\u001b[0m: name 'X_test' is not defined"
          ]
        }
      ]
    },
    {
      "cell_type": "markdown",
      "metadata": {
        "id": "6l8Eq-OX89S_"
      },
      "source": [
        "## Data Randomization"
      ]
    },
    {
      "cell_type": "code",
      "metadata": {
        "collapsed": true,
        "id": "T-xD7zLf89S_"
      },
      "source": [
        "def randomize(data_frame):\n",
        "    data_frame['randNumCol'] = np.random.randint(1, 3, data_frame.shape[0])\n",
        "    winner_features = [col for col in data_frame if col.startswith('winner')]\n",
        "    loser_features = [col for col in data_frame if col.startswith('loser')]\n",
        "    for ind in range(len(winner_features)):\n",
        "        data_frame[winner_features[ind]] = np.where(data_frame['randNumCol'] == 1, data_frame[winner_features[ind]], data_frame[loser_features[ind]])\n",
        "        data_frame[loser_features[ind]] = np.where(data_frame['randNumCol'] == 2, data_frame[winner_features[ind]], data_frame[loser_features[ind]])\n",
        "    return data_frame\n"
      ],
      "execution_count": null,
      "outputs": []
    },
    {
      "cell_type": "code",
      "metadata": {
        "collapsed": true,
        "id": "ZYjCOlzh89TA"
      },
      "source": [
        ""
      ],
      "execution_count": null,
      "outputs": []
    },
    {
      "cell_type": "markdown",
      "metadata": {
        "collapsed": true,
        "id": "eTVA-qAi89TA"
      },
      "source": [
        "### Carpet"
      ]
    },
    {
      "cell_type": "code",
      "metadata": {
        "id": "5dbc1_7w89TA",
        "outputId": "0fae7e1a-9d10-4d70-b18c-1bfc1a3973bc"
      },
      "source": [
        "history_features = [[]]*len(history_levels)\n",
        "for ii in range(len(history_levels)):\n",
        "    features = []\n",
        "    for feature in my_data.columns:\n",
        "#         print('{}_level_history'.format(history_levels[ii]))\n",
        "        if '{}_level_history'.format(history_levels[ii]) in feature:\n",
        "            features.append(feature)\n",
        "    history_features[ii] = features\n",
        "history_features[0]\n",
        "\n",
        "# history_features[0] -> one_level_history_features\n",
        "# history_features[9] -> ten_level_history_features"
      ],
      "execution_count": null,
      "outputs": [
        {
          "output_type": "execute_result",
          "data": {
            "text/plain": [
              "['higher_ranked_player_one_level_history_outcome',\n",
              " 'lower_ranked_player_one_level_history_outcome',\n",
              " 'higher_ranked_player_one_level_history_sets_difference',\n",
              " 'lower_ranked_player_one_level_history_sets_difference',\n",
              " 'higher_ranked_player_one_level_history_no_upset_rank_difference',\n",
              " 'lower_ranked_player_one_level_history_no_upset_rank_difference',\n",
              " 'higher_ranked_player_one_level_history_points_difference',\n",
              " 'lower_ranked_player_one_level_history_points_difference',\n",
              " 'higher_ranked_player_one_level_history_points_difference_normalized',\n",
              " 'lower_ranked_player_one_level_history_points_difference_normalized',\n",
              " 'higher_ranked_player_one_level_history_wins',\n",
              " 'higher_ranked_player_one_level_history_wins_percentage',\n",
              " 'higher_ranked_player_one_level_history_upset_rank_difference',\n",
              " 'lower_ranked_player_one_level_history_upset_rank_difference',\n",
              " 'lower_ranked_player_one_level_history_wins',\n",
              " 'lower_ranked_player_one_level_history_wins_percentage']"
            ]
          },
          "metadata": {
            "tags": []
          },
          "execution_count": 134
        }
      ]
    },
    {
      "cell_type": "code",
      "metadata": {
        "id": "mSvq-HAb89TA",
        "outputId": "39fbf719-3026-4a83-eb9b-5e94d1c86951"
      },
      "source": [
        "history_features = [[]]*len(history_levels)\n",
        "for ii in range(len(history_levels)):\n",
        "    features= []\n",
        "    for feature in subset:\n",
        "#         print('{}_level_history'.format(history_levels[ii]))\n",
        "        if '{}_level_history'.format(history_levels[ii]) in feature:\n",
        "            history_features[ii].append(feature)\n",
        "history_features[0]\n",
        "\n",
        "# history_features[0] -> one_level_history_features\n",
        "# history_features[9] -> ten_level_history_features"
      ],
      "execution_count": null,
      "outputs": [
        {
          "output_type": "execute_result",
          "data": {
            "text/plain": [
              "['higher_ranked_player_one_level_history_no_upset_rank_difference',\n",
              " 'lower_ranked_player_one_level_history_no_upset_rank_difference']"
            ]
          },
          "metadata": {
            "tags": []
          },
          "execution_count": 135
        }
      ]
    },
    {
      "cell_type": "code",
      "metadata": {
        "id": "NT1WchM289TA",
        "outputId": "d9b6533c-b049-42e8-9816-dae913912dca"
      },
      "source": [
        "features= []\n",
        "for feature in subset:\n",
        "    if '_level_history'  not in feature:\n",
        "        features.append(feature)\n",
        "features"
      ],
      "execution_count": null,
      "outputs": [
        {
          "output_type": "execute_result",
          "data": {
            "text/plain": [
              "['higher_ranked_player_rank',\n",
              " 'lower_ranked_player_rank',\n",
              " 'higher_ranked_player_hand_L',\n",
              " 'higher_ranked_player_hand_R',\n",
              " 'higher_ranked_player_hand_U',\n",
              " 'lower_ranked_player_hand_L',\n",
              " 'lower_ranked_player_hand_R',\n",
              " 'lower_ranked_player_hand_U',\n",
              " 'higher_ranked_player_age',\n",
              " 'lower_ranked_player_age',\n",
              " 'higher_ranked_player_winning_streak',\n",
              " 'lower_ranked_player_winning_streak',\n",
              " 'higher_ranked_player_longest_winning_streak',\n",
              " 'lower_ranked_player_longest_winning_streak',\n",
              " 'higher_ranked_player_winning_percentage',\n",
              " 'lower_ranked_player_winning_percentage',\n",
              " 'higher_ranked_player_last_level_reached',\n",
              " 'lower_ranked_player_last_level_reached',\n",
              " 'lower_ranked_player_upsets_for',\n",
              " 'higher_ranked_player_upsets_against',\n",
              " 'lower_ranked_player_upsets_against']"
            ]
          },
          "metadata": {
            "tags": []
          },
          "execution_count": 136
        }
      ]
    },
    {
      "cell_type": "code",
      "metadata": {
        "id": "oFP243Fd89TA",
        "outputId": "2ab7ba97-c6a0-45ac-f9a3-588a7faabd22"
      },
      "source": [
        "file_name = 'datasets\\\\manipulated_datasets\\\\all_matches_with_our_features.csv'\n",
        "result = tennis_prediction(file_name, subset, algorithm='tree',kwargs={'max_depth':9}, print_results=False, print_improvement=True, start_date=19900000, test_date=20000000, num_of_years_to_test=1)"
      ],
      "execution_count": null,
      "outputs": [
        {
          "output_type": "stream",
          "text": [
            "The Improvement is: -0.96 %\n"
          ],
          "name": "stdout"
        }
      ]
    },
    {
      "cell_type": "code",
      "metadata": {
        "id": "Z53LAX3r89TA",
        "outputId": "3b28802c-982d-4f10-a06e-4ef5fce442e5"
      },
      "source": [
        "result.classifier.feature_importances_"
      ],
      "execution_count": null,
      "outputs": [
        {
          "output_type": "execute_result",
          "data": {
            "text/plain": [
              "array([0.10065379, 0.17861425, 0.        , 0.00488061, 0.07388678,\n",
              "       0.        , 0.        , 0.00063204, 0.05621227, 0.06197719,\n",
              "       0.01132296, 0.01396882, 0.01410316, 0.01302856, 0.21072544,\n",
              "       0.11085737, 0.01106401, 0.00798373, 0.00699551, 0.02339971,\n",
              "       0.0140018 , 0.06341261, 0.02227938])"
            ]
          },
          "metadata": {
            "tags": []
          },
          "execution_count": 140
        }
      ]
    },
    {
      "cell_type": "code",
      "metadata": {
        "id": "vj82LRTq89TA",
        "outputId": "e1002450-bf12-4478-9d2f-627a070c5f0e"
      },
      "source": [
        "subset = ['higher_ranked_player_age', 'lower_ranked_player_age',\n",
        "       'rank_differences_normalized',\n",
        "       'higher_ranked_player_one_level_history_points_difference',\n",
        "       'higher_ranked_player_four_level_history_points_difference',\n",
        "       'higher_ranked_player_four_level_history_wins',\n",
        "       'lower_ranked_player_twelve_level_history_no_upset_rank_difference',\n",
        "       'lower_ranked_player_thirteen_level_history_no_upset_rank_difference',\n",
        "       'higher_ranked_player_fifteen_level_history_no_upset_rank_difference',\n",
        "       'higher_ranked_player_sixteen_level_history_no_upset_rank_difference',\n",
        "       'higher_ranked_player_nineteen_level_history_no_upset_rank_difference',\n",
        "       'higher_ranked_player_winning_percentage',\n",
        "       'lower_ranked_player_winning_percentage', 'rank_difference',\n",
        "       'lower_ranked_player_six_level_history_upset_rank_difference',\n",
        "       'higher_ranked_player_eight_level_history_upset_rank_difference',\n",
        "       'higher_ranked_player_fourteen_level_history_upset_rank_difference',\n",
        "       'lower_ranked_player_nineteen_level_history_upset_rank_difference',\n",
        "       'lower_ranked_player_five_level_history_wins']\n",
        "file_name = 'datasets\\\\manipulated_datasets\\\\all_matches_with_our_features.csv'\n",
        "result = tennis_prediction(file_name, baseline_subset, algorithm='random_forest',kwargs={'random_state':49, 'max_depth':9}, print_results=True, print_improvement=True, start_date=19900000, test_date=20000000, num_of_years_to_test=1)"
      ],
      "execution_count": null,
      "outputs": [
        {
          "output_type": "stream",
          "text": [
            "[[ 105 1054]\n",
            " [  84 1909]]\n",
            "             precision    recall  f1-score   support\n",
            "\n",
            "         -1       0.56      0.09      0.16      1159\n",
            "          1       0.64      0.96      0.77      1993\n",
            "\n",
            "avg / total       0.61      0.64      0.54      3152\n",
            "\n",
            "Predicted \"1\" at  2963  out of  3152 matches, which are 94.00%,\n",
            "Predicted \"-1\" at  189  out of  3152 matches, which are 6.00%,\n",
            "prediction_outcome = 63.90%\n",
            "The Improvement is: 0.67 %\n"
          ],
          "name": "stdout"
        }
      ]
    },
    {
      "cell_type": "code",
      "metadata": {
        "id": "hGdAHNWZ89TB",
        "outputId": "354be8c1-7d2f-42a4-a289-2de6fd4469f9"
      },
      "source": [
        "file_name = 'datasets\\\\manipulated_datasets\\\\all_matches_with_our_features.csv'\n",
        "best_features = []\n",
        "baseline_subset = ranks + rank_difference + ages + heights + hands\n",
        "result = tennis_prediction(file_name, baseline_subset, algorithm='random_forest',kwargs={'random_state':49, 'n_estimators':160,'max_depth':9}, print_results=False, print_improvement=True, start_date=19900000, test_date=20000000, num_of_years_to_test=1)\n",
        "baseline_improvement = result.improvement\n",
        "\n",
        "# for feature in subset:\n",
        "#     print (feature)\n",
        "#     years = [i for i in range(2001,2001+17)]\n",
        "#     improvements = []\n",
        "#     for year in years:\n",
        "#         test_date = year*10000\n",
        "#         start_date = test_date - 9*10000\n",
        "#         result = tennis_prediction(file_name, baseline_subset+[feature], algorithm='random_forest',kwargs={'random_state':49,'n_estimators':160,'max_depth':9, 'n_jobs':-1}, print_results=False, print_naive=False, start_date=start_date, test_date=test_date, num_of_years_to_test=1)\n",
        "#         improvements.append(result.improvement)\n",
        "\n",
        "#     mean_improvement = statistics.mean(improvements)\n",
        "    \n",
        "#     if mean_improvement > baseline_improvement:\n",
        "#         best_features.append(feature)\n",
        "#         print(\"Feature: \\\"{0}\\\". Contribution to the improvement: {1:.4f}\".format(feature, result.improvement - baseline_improvement))\n",
        "    \n",
        "best_features"
      ],
      "execution_count": null,
      "outputs": [
        {
          "output_type": "stream",
          "text": [
            "The Improvement is: 0.89 %\n"
          ],
          "name": "stdout"
        },
        {
          "output_type": "execute_result",
          "data": {
            "text/plain": [
              "[]"
            ]
          },
          "metadata": {
            "tags": []
          },
          "execution_count": 146
        }
      ]
    },
    {
      "cell_type": "code",
      "metadata": {
        "collapsed": true,
        "id": "hOY0TY-_89TB"
      },
      "source": [
        "subset = ranks + ages + heights + hands + history_features[0] + ['higher_ranked_player_last_level_reached',\n",
        " 'lower_ranked_player_last_level_reached', 'higher_ranked_player_height','lower_ranked_player_height', \n",
        "      'higher_ranked_player_rank_points', 'lower_ranked_player_rank_points', 'draw_size', \n",
        "        'match_num', 'best_of', 'round', 'minutes',                                      \n",
        "       'height_differences',  'higher_ranked_player_rank_normalized_by_num_of_players',\n",
        "     'lower_ranked_player_rank_normalized_by_num_of_players',  'higher_ranked_player_winning_percentage',\n",
        " 'lower_ranked_player_winning_percentage', 'higher_ranked_player_winning_streak',\n",
        " 'lower_ranked_player_winning_streak', 'higher_ranked_player_longest_winning_streak', 'lower_ranked_player_longest_winning_streak']\n",
        " "
      ],
      "execution_count": null,
      "outputs": []
    },
    {
      "cell_type": "code",
      "metadata": {
        "collapsed": true,
        "id": "-tQ8auEC89TB"
      },
      "source": [
        "subset_after_feature_importances = ranks + ages + heights +[\n",
        "    'higher_ranked_player_one_level_history_no_upset_rank_difference',\n",
        "    'lower_ranked_player_one_level_history_no_upset_rank_difference',\n",
        "    'higher_ranked_player_one_level_history_points_difference', 'lower_ranked_player_one_level_history_points_difference',\n",
        "    'higher_ranked_player_one_level_history_upset_rank_difference','lower_ranked_player_one_level_history_upset_rank_difference',\n",
        "    'higher_ranked_player_last_level_reached', 'lower_ranked_player_last_level_reached', \n",
        "    'higher_ranked_player_height','lower_ranked_player_height', \n",
        "      'higher_ranked_player_rank_points', 'lower_ranked_player_rank_points', 'draw_size', \n",
        "        'match_num', 'round', 'minutes',                                      \n",
        "       'height_differences',  'higher_ranked_player_rank_normalized_by_num_of_players',\n",
        "     'lower_ranked_player_rank_normalized_by_num_of_players',  'higher_ranked_player_winning_percentage',\n",
        " 'lower_ranked_player_winning_percentage', 'higher_ranked_player_winning_streak',\n",
        " 'lower_ranked_player_winning_streak', 'higher_ranked_player_longest_winning_streak', 'lower_ranked_player_longest_winning_streak']\n"
      ],
      "execution_count": null,
      "outputs": []
    },
    {
      "cell_type": "code",
      "metadata": {
        "collapsed": true,
        "id": "2yExCdRQ89TB"
      },
      "source": [
        ""
      ],
      "execution_count": null,
      "outputs": []
    }
  ]
}